{
 "cells": [
  {
   "cell_type": "markdown",
   "id": "02c3667f",
   "metadata": {},
   "source": [
    "##  Class"
   ]
  },
  {
   "cell_type": "code",
   "execution_count": 1,
   "id": "10ce4341",
   "metadata": {},
   "outputs": [],
   "source": [
    "a = 1"
   ]
  },
  {
   "cell_type": "code",
   "execution_count": 3,
   "id": "2422f587",
   "metadata": {},
   "outputs": [
    {
     "name": "stdout",
     "output_type": "stream",
     "text": [
      "<class 'int'>\n"
     ]
    }
   ],
   "source": [
    "print(type(a))"
   ]
  },
  {
   "cell_type": "code",
   "execution_count": 4,
   "id": "81ca820a",
   "metadata": {},
   "outputs": [
    {
     "name": "stdout",
     "output_type": "stream",
     "text": [
      "<class 'str'>\n"
     ]
    }
   ],
   "source": [
    "print(type(\"ses\"))"
   ]
  },
  {
   "cell_type": "code",
   "execution_count": 5,
   "id": "727fee78",
   "metadata": {},
   "outputs": [],
   "source": [
    "class test:\n",
    "    pass"
   ]
  },
  {
   "cell_type": "code",
   "execution_count": 7,
   "id": "5040cf4f",
   "metadata": {},
   "outputs": [
    {
     "name": "stdout",
     "output_type": "stream",
     "text": [
      "<class 'type'>\n"
     ]
    }
   ],
   "source": [
    "print(type(test))"
   ]
  },
  {
   "cell_type": "code",
   "execution_count": 8,
   "id": "6f43214e",
   "metadata": {},
   "outputs": [],
   "source": [
    "a = test()"
   ]
  },
  {
   "cell_type": "code",
   "execution_count": 9,
   "id": "fcfaa219",
   "metadata": {},
   "outputs": [
    {
     "data": {
      "text/plain": [
       "__main__.test"
      ]
     },
     "execution_count": 9,
     "metadata": {},
     "output_type": "execute_result"
    }
   ],
   "source": [
    "type(a)"
   ]
  },
  {
   "cell_type": "code",
   "execution_count": 10,
   "id": "e7975d9f",
   "metadata": {},
   "outputs": [
    {
     "name": "stdout",
     "output_type": "stream",
     "text": [
      "<class '__main__.test'>\n"
     ]
    }
   ],
   "source": [
    "print(type(a))"
   ]
  },
  {
   "cell_type": "code",
   "execution_count": 20,
   "id": "cf84a2b9",
   "metadata": {},
   "outputs": [],
   "source": [
    "class pwskills:\n",
    "    \n",
    "    def welcome_msg(self):\n",
    "        print(\"welcome to pwskills\")\n",
    "    "
   ]
  },
  {
   "cell_type": "code",
   "execution_count": 22,
   "id": "2e02c6c8",
   "metadata": {},
   "outputs": [],
   "source": [
    "rohan = pwskills()"
   ]
  },
  {
   "cell_type": "code",
   "execution_count": 16,
   "id": "566d7d23",
   "metadata": {},
   "outputs": [
    {
     "data": {
      "text/plain": [
       "__main__.pwskills"
      ]
     },
     "execution_count": 16,
     "metadata": {},
     "output_type": "execute_result"
    }
   ],
   "source": [
    "type(rohan)"
   ]
  },
  {
   "cell_type": "code",
   "execution_count": 18,
   "id": "1fb912cb",
   "metadata": {},
   "outputs": [
    {
     "ename": "TypeError",
     "evalue": "welcome_msg() takes 0 positional arguments but 1 was given",
     "output_type": "error",
     "traceback": [
      "\u001b[1;31m---------------------------------------------------------------------------\u001b[0m",
      "\u001b[1;31mTypeError\u001b[0m                                 Traceback (most recent call last)",
      "Input \u001b[1;32mIn [18]\u001b[0m, in \u001b[0;36m<cell line: 1>\u001b[1;34m()\u001b[0m\n\u001b[1;32m----> 1\u001b[0m \u001b[43mrohan\u001b[49m\u001b[38;5;241;43m.\u001b[39;49m\u001b[43mwelcome_msg\u001b[49m\u001b[43m(\u001b[49m\u001b[43m)\u001b[49m\n",
      "\u001b[1;31mTypeError\u001b[0m: welcome_msg() takes 0 positional arguments but 1 was given"
     ]
    }
   ],
   "source": [
    "rohan.welcome_msg()"
   ]
  },
  {
   "cell_type": "markdown",
   "id": "6caef022",
   "metadata": {},
   "source": [
    "####  We have to bind every method of class with the class by using the \"self\" keyword"
   ]
  },
  {
   "cell_type": "code",
   "execution_count": 24,
   "id": "137a13ee",
   "metadata": {},
   "outputs": [
    {
     "name": "stdout",
     "output_type": "stream",
     "text": [
      "welcome to pwskills\n"
     ]
    }
   ],
   "source": [
    "rohan.welcome_msg()"
   ]
  },
  {
   "cell_type": "markdown",
   "id": "b6b3441e",
   "metadata": {},
   "source": [
    "####  Creating instance of class and invoking method"
   ]
  },
  {
   "cell_type": "code",
   "execution_count": 25,
   "id": "6af8caba",
   "metadata": {},
   "outputs": [],
   "source": [
    "leon = pwskills()"
   ]
  },
  {
   "cell_type": "code",
   "execution_count": 26,
   "id": "1ca64777",
   "metadata": {},
   "outputs": [
    {
     "name": "stdout",
     "output_type": "stream",
     "text": [
      "welcome to pwskills\n"
     ]
    }
   ],
   "source": [
    "leon.welcome_msg()"
   ]
  },
  {
   "cell_type": "markdown",
   "id": "a9de644f",
   "metadata": {},
   "source": [
    "####  Intializing class with member variables"
   ]
  },
  {
   "cell_type": "code",
   "execution_count": 27,
   "id": "d24f67e5",
   "metadata": {},
   "outputs": [],
   "source": [
    "class student:\n",
    "    \n",
    "    def __init__(self , phone_number, email, std_id):\n",
    "        self.phone_number = phone_number\n",
    "        self.email = email\n",
    "        self.std_id = std_id\n",
    "    \n",
    "    def return_student_detail(self):\n",
    "        return self.std_id, self.phone_number, self.email\n",
    "    "
   ]
  },
  {
   "cell_type": "code",
   "execution_count": 28,
   "id": "52bb7040",
   "metadata": {},
   "outputs": [
    {
     "ename": "TypeError",
     "evalue": "__init__() missing 3 required positional arguments: 'phone_number', 'email', and 'std_id'",
     "output_type": "error",
     "traceback": [
      "\u001b[1;31m---------------------------------------------------------------------------\u001b[0m",
      "\u001b[1;31mTypeError\u001b[0m                                 Traceback (most recent call last)",
      "Input \u001b[1;32mIn [28]\u001b[0m, in \u001b[0;36m<cell line: 1>\u001b[1;34m()\u001b[0m\n\u001b[1;32m----> 1\u001b[0m rohan \u001b[38;5;241m=\u001b[39m \u001b[43mstudent\u001b[49m\u001b[43m(\u001b[49m\u001b[43m)\u001b[49m\n",
      "\u001b[1;31mTypeError\u001b[0m: __init__() missing 3 required positional arguments: 'phone_number', 'email', and 'std_id'"
     ]
    }
   ],
   "source": [
    "rohan = student()"
   ]
  },
  {
   "cell_type": "code",
   "execution_count": 30,
   "id": "808177f0",
   "metadata": {},
   "outputs": [],
   "source": [
    "rohan = student(9324234234,'abc@gmail.com',123)"
   ]
  },
  {
   "cell_type": "code",
   "execution_count": 31,
   "id": "0541a4c3",
   "metadata": {},
   "outputs": [
    {
     "data": {
      "text/plain": [
       "(123, 9324234234, 'abc@gmail.com')"
      ]
     },
     "execution_count": 31,
     "metadata": {},
     "output_type": "execute_result"
    }
   ],
   "source": [
    "rohan.return_student_detail()"
   ]
  },
  {
   "cell_type": "code",
   "execution_count": 32,
   "id": "b1e5ef2f",
   "metadata": {},
   "outputs": [],
   "source": [
    "steve = student(12321312,\"casd@gmail.com\",321)"
   ]
  },
  {
   "cell_type": "code",
   "execution_count": 33,
   "id": "9799b296",
   "metadata": {},
   "outputs": [
    {
     "data": {
      "text/plain": [
       "(321, 12321312, 'casd@gmail.com')"
      ]
     },
     "execution_count": 33,
     "metadata": {},
     "output_type": "execute_result"
    }
   ],
   "source": [
    "steve.return_student_detail()"
   ]
  },
  {
   "cell_type": "code",
   "execution_count": null,
   "id": "c8bc05f4",
   "metadata": {},
   "outputs": [],
   "source": []
  },
  {
   "cell_type": "code",
   "execution_count": null,
   "id": "d9e9e326",
   "metadata": {},
   "outputs": [],
   "source": []
  },
  {
   "cell_type": "code",
   "execution_count": 41,
   "id": "6d066564",
   "metadata": {},
   "outputs": [],
   "source": [
    "class student2:\n",
    "    \n",
    "    def __init__(self , phone_number, email, std_id):\n",
    "        self.phone_number1 = phone_number\n",
    "        self.email1 = email\n",
    "        self.std_id1 = std_id\n",
    "    \n",
    "    def return_student_detail(self):\n",
    "        return self.std_id1, self.phone_number1, self.email1"
   ]
  },
  {
   "cell_type": "code",
   "execution_count": 42,
   "id": "b5071193",
   "metadata": {},
   "outputs": [],
   "source": [
    "harry = student2(2342342,\"asd@gmail.com\",234)"
   ]
  },
  {
   "cell_type": "code",
   "execution_count": 43,
   "id": "2a4e0b62",
   "metadata": {},
   "outputs": [
    {
     "data": {
      "text/plain": [
       "(234, 2342342, 'asd@gmail.com')"
      ]
     },
     "execution_count": 43,
     "metadata": {},
     "output_type": "execute_result"
    }
   ],
   "source": [
    "harry.return_student_detail()"
   ]
  },
  {
   "cell_type": "code",
   "execution_count": 44,
   "id": "95b45130",
   "metadata": {},
   "outputs": [
    {
     "data": {
      "text/plain": [
       "2342342"
      ]
     },
     "execution_count": 44,
     "metadata": {},
     "output_type": "execute_result"
    }
   ],
   "source": [
    "harry.phone_number1"
   ]
  },
  {
   "cell_type": "code",
   "execution_count": 45,
   "id": "ab3e31d0",
   "metadata": {},
   "outputs": [
    {
     "data": {
      "text/plain": [
       "'asd@gmail.com'"
      ]
     },
     "execution_count": 45,
     "metadata": {},
     "output_type": "execute_result"
    }
   ],
   "source": [
    "harry.email1"
   ]
  },
  {
   "cell_type": "code",
   "execution_count": 46,
   "id": "f3d60145",
   "metadata": {},
   "outputs": [
    {
     "data": {
      "text/plain": [
       "234"
      ]
     },
     "execution_count": 46,
     "metadata": {},
     "output_type": "execute_result"
    }
   ],
   "source": [
    "harry.std_id1"
   ]
  },
  {
   "cell_type": "code",
   "execution_count": null,
   "id": "67fcf90d",
   "metadata": {},
   "outputs": [],
   "source": []
  },
  {
   "cell_type": "markdown",
   "id": "3aef9fbe",
   "metadata": {},
   "source": [
    "###  \"self\" is just a naming convention, we can use any other keyword instead of self, and it is not a reserved keyword"
   ]
  },
  {
   "cell_type": "code",
   "execution_count": 54,
   "id": "2bec55d2",
   "metadata": {},
   "outputs": [],
   "source": [
    "class student2:\n",
    "    \n",
    "    def __init__(ss , phone_number, email, std_id):\n",
    "        ss.phone_number1 = phone_number\n",
    "        ss.email1 = email\n",
    "        ss.std_id1 = std_id\n",
    "    \n",
    "    def return_student_detail(ss):\n",
    "        return ss.std_id1, ss.phone_number1, ss.email1"
   ]
  },
  {
   "cell_type": "code",
   "execution_count": 55,
   "id": "8ba656ca",
   "metadata": {},
   "outputs": [],
   "source": [
    "rrr = student2(33423324,\"sdaf@asdf\",3423)"
   ]
  },
  {
   "cell_type": "code",
   "execution_count": 56,
   "id": "252415f9",
   "metadata": {},
   "outputs": [
    {
     "data": {
      "text/plain": [
       "(3423, 33423324, 'sdaf@asdf')"
      ]
     },
     "execution_count": 56,
     "metadata": {},
     "output_type": "execute_result"
    }
   ],
   "source": [
    "rrr.return_student_detail()"
   ]
  },
  {
   "cell_type": "code",
   "execution_count": null,
   "id": "2b3bfb98",
   "metadata": {},
   "outputs": [],
   "source": []
  }
 ],
 "metadata": {
  "kernelspec": {
   "display_name": "Python 3 (ipykernel)",
   "language": "python",
   "name": "python3"
  },
  "language_info": {
   "codemirror_mode": {
    "name": "ipython",
    "version": 3
   },
   "file_extension": ".py",
   "mimetype": "text/x-python",
   "name": "python",
   "nbconvert_exporter": "python",
   "pygments_lexer": "ipython3",
   "version": "3.9.12"
  }
 },
 "nbformat": 4,
 "nbformat_minor": 5
}
