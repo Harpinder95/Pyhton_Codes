{
 "cells": [
  {
   "cell_type": "markdown",
   "id": "1327bb0a",
   "metadata": {},
   "source": [
    "# List"
   ]
  },
  {
   "cell_type": "code",
   "execution_count": 1,
   "id": "3639b6e8",
   "metadata": {},
   "outputs": [],
   "source": [
    "lst =['a','baa',23,53,2,'asds']"
   ]
  },
  {
   "cell_type": "code",
   "execution_count": 2,
   "id": "cfd82af0",
   "metadata": {},
   "outputs": [
    {
     "data": {
      "text/plain": [
       "['a', 'baa', 23, 53, 2, 'asds']"
      ]
     },
     "execution_count": 2,
     "metadata": {},
     "output_type": "execute_result"
    }
   ],
   "source": [
    "lst"
   ]
  },
  {
   "cell_type": "code",
   "execution_count": 3,
   "id": "5eb797cc",
   "metadata": {},
   "outputs": [
    {
     "data": {
      "text/plain": [
       "53"
      ]
     },
     "execution_count": 3,
     "metadata": {},
     "output_type": "execute_result"
    }
   ],
   "source": [
    "lst[3]"
   ]
  },
  {
   "cell_type": "code",
   "execution_count": 4,
   "id": "cff8eb69",
   "metadata": {},
   "outputs": [
    {
     "data": {
      "text/plain": [
       "['a', 'baa', 23]"
      ]
     },
     "execution_count": 4,
     "metadata": {},
     "output_type": "execute_result"
    }
   ],
   "source": [
    "lst[0:3]"
   ]
  },
  {
   "cell_type": "code",
   "execution_count": 5,
   "id": "ac637f86",
   "metadata": {},
   "outputs": [
    {
     "data": {
      "text/plain": [
       "'asds'"
      ]
     },
     "execution_count": 5,
     "metadata": {},
     "output_type": "execute_result"
    }
   ],
   "source": [
    "lst[-1]"
   ]
  },
  {
   "cell_type": "code",
   "execution_count": 6,
   "id": "6cf4f3a1",
   "metadata": {},
   "outputs": [
    {
     "data": {
      "text/plain": [
       "['a', 'baa', 23, 53, 2, 'asds']"
      ]
     },
     "execution_count": 6,
     "metadata": {},
     "output_type": "execute_result"
    }
   ],
   "source": [
    "lst"
   ]
  },
  {
   "cell_type": "code",
   "execution_count": 7,
   "id": "1a2a3359",
   "metadata": {},
   "outputs": [
    {
     "data": {
      "text/plain": [
       "['asds', 2, 53, 23, 'baa', 'a']"
      ]
     },
     "execution_count": 7,
     "metadata": {},
     "output_type": "execute_result"
    }
   ],
   "source": [
    "lst[::-1]"
   ]
  },
  {
   "cell_type": "code",
   "execution_count": 8,
   "id": "489bda7e",
   "metadata": {},
   "outputs": [
    {
     "data": {
      "text/plain": [
       "['a', 'baa', 23, 53]"
      ]
     },
     "execution_count": 8,
     "metadata": {},
     "output_type": "execute_result"
    }
   ],
   "source": [
    "lst[0:4]"
   ]
  },
  {
   "cell_type": "code",
   "execution_count": 9,
   "id": "07331bc1",
   "metadata": {},
   "outputs": [],
   "source": [
    "lst.append((3+5j))"
   ]
  },
  {
   "cell_type": "code",
   "execution_count": 10,
   "id": "3147be03",
   "metadata": {},
   "outputs": [
    {
     "data": {
      "text/plain": [
       "['a', 'baa', 23, 53, 2, 'asds', (3+5j)]"
      ]
     },
     "execution_count": 10,
     "metadata": {},
     "output_type": "execute_result"
    }
   ],
   "source": [
    "lst"
   ]
  },
  {
   "cell_type": "code",
   "execution_count": 11,
   "id": "6f0aca6e",
   "metadata": {},
   "outputs": [
    {
     "data": {
      "text/plain": [
       "(3+5j)"
      ]
     },
     "execution_count": 11,
     "metadata": {},
     "output_type": "execute_result"
    }
   ],
   "source": [
    "lst[-1]"
   ]
  },
  {
   "cell_type": "code",
   "execution_count": 12,
   "id": "060de361",
   "metadata": {},
   "outputs": [
    {
     "data": {
      "text/plain": [
       "complex"
      ]
     },
     "execution_count": 12,
     "metadata": {},
     "output_type": "execute_result"
    }
   ],
   "source": [
    "type(lst[-1])"
   ]
  },
  {
   "cell_type": "code",
   "execution_count": 13,
   "id": "f1e34cd7",
   "metadata": {},
   "outputs": [
    {
     "data": {
      "text/plain": [
       "float"
      ]
     },
     "execution_count": 13,
     "metadata": {},
     "output_type": "execute_result"
    }
   ],
   "source": [
    "type(lst[-1].real)"
   ]
  },
  {
   "cell_type": "code",
   "execution_count": 14,
   "id": "39003aa2",
   "metadata": {},
   "outputs": [
    {
     "data": {
      "text/plain": [
       "['a', 23, 2, (3+5j)]"
      ]
     },
     "execution_count": 14,
     "metadata": {},
     "output_type": "execute_result"
    }
   ],
   "source": [
    "lst[::2]"
   ]
  },
  {
   "cell_type": "code",
   "execution_count": 15,
   "id": "2459ece7",
   "metadata": {},
   "outputs": [
    {
     "data": {
      "text/plain": [
       "['a', 'baa', 23, 53, 2, 'asds', (3+5j)]"
      ]
     },
     "execution_count": 15,
     "metadata": {},
     "output_type": "execute_result"
    }
   ],
   "source": [
    "lst"
   ]
  },
  {
   "cell_type": "code",
   "execution_count": 16,
   "id": "3c6bc964",
   "metadata": {},
   "outputs": [
    {
     "data": {
      "text/plain": [
       "['a', 53, (3+5j)]"
      ]
     },
     "execution_count": 16,
     "metadata": {},
     "output_type": "execute_result"
    }
   ],
   "source": [
    "lst[::3]"
   ]
  },
  {
   "cell_type": "markdown",
   "id": "6d002907",
   "metadata": {},
   "source": [
    "## adding String with list"
   ]
  },
  {
   "cell_type": "code",
   "execution_count": 17,
   "id": "0dabb36c",
   "metadata": {},
   "outputs": [],
   "source": [
    "st=\"Hello\"\n"
   ]
  },
  {
   "cell_type": "code",
   "execution_count": 18,
   "id": "d9a09b9b",
   "metadata": {},
   "outputs": [
    {
     "ename": "TypeError",
     "evalue": "can only concatenate list (not \"str\") to list",
     "output_type": "error",
     "traceback": [
      "\u001b[1;31m---------------------------------------------------------------------------\u001b[0m",
      "\u001b[1;31mTypeError\u001b[0m                                 Traceback (most recent call last)",
      "Input \u001b[1;32mIn [18]\u001b[0m, in \u001b[0;36m<cell line: 1>\u001b[1;34m()\u001b[0m\n\u001b[1;32m----> 1\u001b[0m \u001b[43mlst\u001b[49m\u001b[38;5;241;43m+\u001b[39;49m\u001b[43mst\u001b[49m\n",
      "\u001b[1;31mTypeError\u001b[0m: can only concatenate list (not \"str\") to list"
     ]
    }
   ],
   "source": [
    "lst+st"
   ]
  },
  {
   "cell_type": "code",
   "execution_count": 19,
   "id": "7dd7d3e3",
   "metadata": {},
   "outputs": [
    {
     "data": {
      "text/plain": [
       "['a', 'baa', 23, 53, 2, 'asds', (3+5j), 'H', 'e', 'l', 'l', 'o']"
      ]
     },
     "execution_count": 19,
     "metadata": {},
     "output_type": "execute_result"
    }
   ],
   "source": [
    "lst+list(st)"
   ]
  },
  {
   "cell_type": "code",
   "execution_count": 20,
   "id": "61a743a5",
   "metadata": {},
   "outputs": [
    {
     "data": {
      "text/plain": [
       "['a', 'baa', 23, 53, 2, 'asds', (3+5j)]"
      ]
     },
     "execution_count": 20,
     "metadata": {},
     "output_type": "execute_result"
    }
   ],
   "source": [
    "lst"
   ]
  },
  {
   "cell_type": "code",
   "execution_count": 21,
   "id": "c78bf243",
   "metadata": {},
   "outputs": [],
   "source": [
    "lst.append(st)"
   ]
  },
  {
   "cell_type": "code",
   "execution_count": 22,
   "id": "18459374",
   "metadata": {},
   "outputs": [
    {
     "data": {
      "text/plain": [
       "['a', 'baa', 23, 53, 2, 'asds', (3+5j), 'Hello']"
      ]
     },
     "execution_count": 22,
     "metadata": {},
     "output_type": "execute_result"
    }
   ],
   "source": [
    "lst"
   ]
  },
  {
   "cell_type": "code",
   "execution_count": 23,
   "id": "84798eea",
   "metadata": {},
   "outputs": [
    {
     "data": {
      "text/plain": [
       "<function list.pop(index=-1, /)>"
      ]
     },
     "execution_count": 23,
     "metadata": {},
     "output_type": "execute_result"
    }
   ],
   "source": [
    "lst.pop"
   ]
  },
  {
   "cell_type": "code",
   "execution_count": 24,
   "id": "f851f543",
   "metadata": {},
   "outputs": [
    {
     "data": {
      "text/plain": [
       "'Hello'"
      ]
     },
     "execution_count": 24,
     "metadata": {},
     "output_type": "execute_result"
    }
   ],
   "source": [
    "lst.pop(-1)"
   ]
  },
  {
   "cell_type": "code",
   "execution_count": 25,
   "id": "3a74f368",
   "metadata": {},
   "outputs": [
    {
     "data": {
      "text/plain": [
       "['a', 'baa', 23, 53, 2, 'asds', (3+5j)]"
      ]
     },
     "execution_count": 25,
     "metadata": {},
     "output_type": "execute_result"
    }
   ],
   "source": [
    "lst"
   ]
  },
  {
   "cell_type": "code",
   "execution_count": 26,
   "id": "4329aee4",
   "metadata": {},
   "outputs": [
    {
     "data": {
      "text/plain": [
       "(3+5j)"
      ]
     },
     "execution_count": 26,
     "metadata": {},
     "output_type": "execute_result"
    }
   ],
   "source": [
    "lst.pop(-1)"
   ]
  },
  {
   "cell_type": "markdown",
   "id": "d31a381b",
   "metadata": {},
   "source": [
    "### Slicing the list"
   ]
  },
  {
   "cell_type": "code",
   "execution_count": 27,
   "id": "065aa02f",
   "metadata": {},
   "outputs": [
    {
     "data": {
      "text/plain": [
       "'baa'"
      ]
     },
     "execution_count": 27,
     "metadata": {},
     "output_type": "execute_result"
    }
   ],
   "source": [
    "lst[1]"
   ]
  },
  {
   "cell_type": "code",
   "execution_count": 28,
   "id": "b7bf19f6",
   "metadata": {},
   "outputs": [
    {
     "data": {
      "text/plain": [
       "'a'"
      ]
     },
     "execution_count": 28,
     "metadata": {},
     "output_type": "execute_result"
    }
   ],
   "source": [
    "lst[1][1]"
   ]
  },
  {
   "cell_type": "code",
   "execution_count": 29,
   "id": "cc929ef8",
   "metadata": {},
   "outputs": [
    {
     "data": {
      "text/plain": [
       "['a', 'baa', 23, 53, 2, 'asds']"
      ]
     },
     "execution_count": 29,
     "metadata": {},
     "output_type": "execute_result"
    }
   ],
   "source": [
    "lst"
   ]
  },
  {
   "cell_type": "code",
   "execution_count": 30,
   "id": "a5dbab3e",
   "metadata": {},
   "outputs": [
    {
     "ename": "IndexError",
     "evalue": "list index out of range",
     "output_type": "error",
     "traceback": [
      "\u001b[1;31m---------------------------------------------------------------------------\u001b[0m",
      "\u001b[1;31mIndexError\u001b[0m                                Traceback (most recent call last)",
      "Input \u001b[1;32mIn [30]\u001b[0m, in \u001b[0;36m<cell line: 1>\u001b[1;34m()\u001b[0m\n\u001b[1;32m----> 1\u001b[0m \u001b[43mlst\u001b[49m\u001b[43m[\u001b[49m\u001b[38;5;241;43m7\u001b[39;49m\u001b[43m]\u001b[49m\n",
      "\u001b[1;31mIndexError\u001b[0m: list index out of range"
     ]
    }
   ],
   "source": [
    "lst[7]"
   ]
  },
  {
   "cell_type": "code",
   "execution_count": 31,
   "id": "1a43c112",
   "metadata": {},
   "outputs": [
    {
     "ename": "IndexError",
     "evalue": "list index out of range",
     "output_type": "error",
     "traceback": [
      "\u001b[1;31m---------------------------------------------------------------------------\u001b[0m",
      "\u001b[1;31mIndexError\u001b[0m                                Traceback (most recent call last)",
      "Input \u001b[1;32mIn [31]\u001b[0m, in \u001b[0;36m<cell line: 1>\u001b[1;34m()\u001b[0m\n\u001b[1;32m----> 1\u001b[0m \u001b[43mlst\u001b[49m\u001b[43m[\u001b[49m\u001b[38;5;241;43m7\u001b[39;49m\u001b[43m]\u001b[49m[\u001b[38;5;241m0\u001b[39m:\u001b[38;5;241m2\u001b[39m]\n",
      "\u001b[1;31mIndexError\u001b[0m: list index out of range"
     ]
    }
   ],
   "source": [
    "lst[7][0:2]"
   ]
  },
  {
   "cell_type": "code",
   "execution_count": 32,
   "id": "d98a743b",
   "metadata": {},
   "outputs": [
    {
     "data": {
      "text/plain": [
       "['a', 'baa', 23, 53, 2, 'asds']"
      ]
     },
     "execution_count": 32,
     "metadata": {},
     "output_type": "execute_result"
    }
   ],
   "source": [
    "lst"
   ]
  },
  {
   "cell_type": "code",
   "execution_count": 33,
   "id": "7c9e0f76",
   "metadata": {},
   "outputs": [],
   "source": [
    "lst[3]=True"
   ]
  },
  {
   "cell_type": "code",
   "execution_count": 34,
   "id": "15468082",
   "metadata": {},
   "outputs": [
    {
     "data": {
      "text/plain": [
       "['a', 'baa', 23, True, 2, 'asds']"
      ]
     },
     "execution_count": 34,
     "metadata": {},
     "output_type": "execute_result"
    }
   ],
   "source": [
    "lst"
   ]
  },
  {
   "cell_type": "code",
   "execution_count": 35,
   "id": "2be8f0d7",
   "metadata": {},
   "outputs": [
    {
     "ename": "TypeError",
     "evalue": "'bool' object is not subscriptable",
     "output_type": "error",
     "traceback": [
      "\u001b[1;31m---------------------------------------------------------------------------\u001b[0m",
      "\u001b[1;31mTypeError\u001b[0m                                 Traceback (most recent call last)",
      "Input \u001b[1;32mIn [35]\u001b[0m, in \u001b[0;36m<cell line: 1>\u001b[1;34m()\u001b[0m\n\u001b[1;32m----> 1\u001b[0m \u001b[43mlst\u001b[49m\u001b[43m[\u001b[49m\u001b[38;5;241;43m3\u001b[39;49m\u001b[43m]\u001b[49m\u001b[43m[\u001b[49m\u001b[38;5;241;43m0\u001b[39;49m\u001b[43m:\u001b[49m\u001b[38;5;241;43m2\u001b[39;49m\u001b[43m]\u001b[49m\n",
      "\u001b[1;31mTypeError\u001b[0m: 'bool' object is not subscriptable"
     ]
    }
   ],
   "source": [
    "lst[3][0:2]"
   ]
  },
  {
   "cell_type": "code",
   "execution_count": 36,
   "id": "f1d1516e",
   "metadata": {},
   "outputs": [
    {
     "data": {
      "text/plain": [
       "'Tr'"
      ]
     },
     "execution_count": 36,
     "metadata": {},
     "output_type": "execute_result"
    }
   ],
   "source": [
    "str(lst[3])[0:2]"
   ]
  },
  {
   "cell_type": "code",
   "execution_count": 37,
   "id": "53bb9737",
   "metadata": {},
   "outputs": [],
   "source": [
    "li =[2,3,4]"
   ]
  },
  {
   "cell_type": "code",
   "execution_count": 38,
   "id": "31619479",
   "metadata": {},
   "outputs": [
    {
     "ename": "NameError",
     "evalue": "name 'l' is not defined",
     "output_type": "error",
     "traceback": [
      "\u001b[1;31m---------------------------------------------------------------------------\u001b[0m",
      "\u001b[1;31mNameError\u001b[0m                                 Traceback (most recent call last)",
      "Input \u001b[1;32mIn [38]\u001b[0m, in \u001b[0;36m<cell line: 1>\u001b[1;34m()\u001b[0m\n\u001b[1;32m----> 1\u001b[0m \u001b[43ml\u001b[49m\u001b[38;5;241m+\u001b[39m\u001b[38;5;241m3\u001b[39m\n",
      "\u001b[1;31mNameError\u001b[0m: name 'l' is not defined"
     ]
    }
   ],
   "source": [
    "l+3"
   ]
  },
  {
   "cell_type": "code",
   "execution_count": 39,
   "id": "165a7943",
   "metadata": {},
   "outputs": [
    {
     "data": {
      "text/plain": [
       "['a', 'baa', 23, True, 2, 'asds', 2, 3, 4]"
      ]
     },
     "execution_count": 39,
     "metadata": {},
     "output_type": "execute_result"
    }
   ],
   "source": [
    "lst+li"
   ]
  },
  {
   "cell_type": "code",
   "execution_count": 40,
   "id": "a72cb835",
   "metadata": {},
   "outputs": [
    {
     "data": {
      "text/plain": [
       "[2, 3, 4, 2, 3, 4, 2, 3, 4]"
      ]
     },
     "execution_count": 40,
     "metadata": {},
     "output_type": "execute_result"
    }
   ],
   "source": [
    "li*3"
   ]
  },
  {
   "cell_type": "code",
   "execution_count": 41,
   "id": "ec4fa88a",
   "metadata": {},
   "outputs": [
    {
     "data": {
      "text/plain": [
       "3"
      ]
     },
     "execution_count": 41,
     "metadata": {},
     "output_type": "execute_result"
    }
   ],
   "source": [
    "len(li)"
   ]
  },
  {
   "cell_type": "code",
   "execution_count": 42,
   "id": "03dcede6",
   "metadata": {},
   "outputs": [
    {
     "data": {
      "text/plain": [
       "6"
      ]
     },
     "execution_count": 42,
     "metadata": {},
     "output_type": "execute_result"
    }
   ],
   "source": [
    "len(lst)"
   ]
  },
  {
   "cell_type": "markdown",
   "id": "a1fb08a1",
   "metadata": {},
   "source": [
    "## Append [add element at the last]"
   ]
  },
  {
   "cell_type": "code",
   "execution_count": 43,
   "id": "82305f4b",
   "metadata": {},
   "outputs": [],
   "source": [
    "li.append(5)"
   ]
  },
  {
   "cell_type": "code",
   "execution_count": 44,
   "id": "75f19525",
   "metadata": {},
   "outputs": [
    {
     "data": {
      "text/plain": [
       "[2, 3, 4, 5]"
      ]
     },
     "execution_count": 44,
     "metadata": {},
     "output_type": "execute_result"
    }
   ],
   "source": [
    "li"
   ]
  },
  {
   "cell_type": "markdown",
   "id": "dd8dced4",
   "metadata": {},
   "source": [
    "### To check inbuilt function press Shift+Tab"
   ]
  },
  {
   "cell_type": "code",
   "execution_count": 45,
   "id": "01c05add",
   "metadata": {},
   "outputs": [],
   "source": [
    "li.append(st)"
   ]
  },
  {
   "cell_type": "code",
   "execution_count": 46,
   "id": "c7a04531",
   "metadata": {},
   "outputs": [
    {
     "data": {
      "text/plain": [
       "[2, 3, 4, 5, 'Hello']"
      ]
     },
     "execution_count": 46,
     "metadata": {},
     "output_type": "execute_result"
    }
   ],
   "source": [
    "li"
   ]
  },
  {
   "cell_type": "code",
   "execution_count": 47,
   "id": "bfb92b01",
   "metadata": {},
   "outputs": [
    {
     "data": {
      "text/plain": [
       "5"
      ]
     },
     "execution_count": 47,
     "metadata": {},
     "output_type": "execute_result"
    }
   ],
   "source": [
    "len(li)"
   ]
  },
  {
   "cell_type": "markdown",
   "id": "5cedc4ef",
   "metadata": {},
   "source": [
    "### Nested List"
   ]
  },
  {
   "cell_type": "code",
   "execution_count": 48,
   "id": "22f01e48",
   "metadata": {},
   "outputs": [],
   "source": [
    "lst.append(li)"
   ]
  },
  {
   "cell_type": "code",
   "execution_count": 49,
   "id": "cc2b0ced",
   "metadata": {},
   "outputs": [
    {
     "data": {
      "text/plain": [
       "['a', 'baa', 23, True, 2, 'asds', [2, 3, 4, 5, 'Hello']]"
      ]
     },
     "execution_count": 49,
     "metadata": {},
     "output_type": "execute_result"
    }
   ],
   "source": [
    "lst"
   ]
  },
  {
   "cell_type": "code",
   "execution_count": 50,
   "id": "c71a5ff6",
   "metadata": {},
   "outputs": [
    {
     "data": {
      "text/plain": [
       "'baa'"
      ]
     },
     "execution_count": 50,
     "metadata": {},
     "output_type": "execute_result"
    }
   ],
   "source": [
    "lst[1]"
   ]
  },
  {
   "cell_type": "code",
   "execution_count": 51,
   "id": "9307e417",
   "metadata": {},
   "outputs": [
    {
     "data": {
      "text/plain": [
       "'Hello'"
      ]
     },
     "execution_count": 51,
     "metadata": {},
     "output_type": "execute_result"
    }
   ],
   "source": [
    "lst[6][4]"
   ]
  },
  {
   "cell_type": "code",
   "execution_count": 52,
   "id": "27c80960",
   "metadata": {},
   "outputs": [
    {
     "data": {
      "text/plain": [
       "'Hello'"
      ]
     },
     "execution_count": 52,
     "metadata": {},
     "output_type": "execute_result"
    }
   ],
   "source": [
    "lst[-1][4]"
   ]
  },
  {
   "cell_type": "markdown",
   "id": "238da538",
   "metadata": {},
   "source": [
    "## Extend() [it only add iterable data]"
   ]
  },
  {
   "cell_type": "code",
   "execution_count": 53,
   "id": "7ff1ed01",
   "metadata": {},
   "outputs": [
    {
     "ename": "TypeError",
     "evalue": "'int' object is not iterable",
     "output_type": "error",
     "traceback": [
      "\u001b[1;31m---------------------------------------------------------------------------\u001b[0m",
      "\u001b[1;31mTypeError\u001b[0m                                 Traceback (most recent call last)",
      "Input \u001b[1;32mIn [53]\u001b[0m, in \u001b[0;36m<cell line: 1>\u001b[1;34m()\u001b[0m\n\u001b[1;32m----> 1\u001b[0m \u001b[43mli\u001b[49m\u001b[38;5;241;43m.\u001b[39;49m\u001b[43mextend\u001b[49m\u001b[43m(\u001b[49m\u001b[38;5;241;43m32\u001b[39;49m\u001b[43m)\u001b[49m\n",
      "\u001b[1;31mTypeError\u001b[0m: 'int' object is not iterable"
     ]
    }
   ],
   "source": [
    "li.extend(32)"
   ]
  },
  {
   "cell_type": "code",
   "execution_count": 54,
   "id": "819180a0",
   "metadata": {},
   "outputs": [],
   "source": [
    "li.extend(\"Hey\")"
   ]
  },
  {
   "cell_type": "code",
   "execution_count": 55,
   "id": "05ec742b",
   "metadata": {},
   "outputs": [
    {
     "data": {
      "text/plain": [
       "[2, 3, 4, 5, 'Hello', 'H', 'e', 'y']"
      ]
     },
     "execution_count": 55,
     "metadata": {},
     "output_type": "execute_result"
    }
   ],
   "source": [
    "li"
   ]
  },
  {
   "cell_type": "code",
   "execution_count": 56,
   "id": "9b915003",
   "metadata": {},
   "outputs": [],
   "source": [
    "ln = ['a',23,53,6]"
   ]
  },
  {
   "cell_type": "code",
   "execution_count": 57,
   "id": "9b3f57ca",
   "metadata": {},
   "outputs": [],
   "source": [
    "lst.extend(ln)"
   ]
  },
  {
   "cell_type": "code",
   "execution_count": 58,
   "id": "4067eb71",
   "metadata": {},
   "outputs": [
    {
     "data": {
      "text/plain": [
       "['a',\n",
       " 'baa',\n",
       " 23,\n",
       " True,\n",
       " 2,\n",
       " 'asds',\n",
       " [2, 3, 4, 5, 'Hello', 'H', 'e', 'y'],\n",
       " 'a',\n",
       " 23,\n",
       " 53,\n",
       " 6]"
      ]
     },
     "execution_count": 58,
     "metadata": {},
     "output_type": "execute_result"
    }
   ],
   "source": [
    "lst"
   ]
  },
  {
   "cell_type": "markdown",
   "id": "03798cb5",
   "metadata": {},
   "source": [
    "## Insert() [it add elements at desired index]"
   ]
  },
  {
   "cell_type": "code",
   "execution_count": 59,
   "id": "2a39719e",
   "metadata": {},
   "outputs": [
    {
     "data": {
      "text/plain": [
       "[2, 3, 4, 5, 'Hello', 'H', 'e', 'y']"
      ]
     },
     "execution_count": 59,
     "metadata": {},
     "output_type": "execute_result"
    }
   ],
   "source": [
    "li"
   ]
  },
  {
   "cell_type": "code",
   "execution_count": 60,
   "id": "d20d15d3",
   "metadata": {},
   "outputs": [],
   "source": [
    "li.insert(1,\"start\")"
   ]
  },
  {
   "cell_type": "code",
   "execution_count": 61,
   "id": "8181bb08",
   "metadata": {},
   "outputs": [
    {
     "data": {
      "text/plain": [
       "[2, 'start', 3, 4, 5, 'Hello', 'H', 'e', 'y']"
      ]
     },
     "execution_count": 61,
     "metadata": {},
     "output_type": "execute_result"
    }
   ],
   "source": [
    "li"
   ]
  },
  {
   "cell_type": "code",
   "execution_count": 62,
   "id": "69377ee9",
   "metadata": {},
   "outputs": [],
   "source": [
    "li.insert(0,\"Now\")"
   ]
  },
  {
   "cell_type": "code",
   "execution_count": 63,
   "id": "d08372f8",
   "metadata": {},
   "outputs": [
    {
     "data": {
      "text/plain": [
       "['Now', 2, 'start', 3, 4, 5, 'Hello', 'H', 'e', 'y']"
      ]
     },
     "execution_count": 63,
     "metadata": {},
     "output_type": "execute_result"
    }
   ],
   "source": [
    "li\n"
   ]
  },
  {
   "cell_type": "code",
   "execution_count": 64,
   "id": "6b1004a9",
   "metadata": {},
   "outputs": [
    {
     "data": {
      "text/plain": [
       "['a', 23, 53, 6]"
      ]
     },
     "execution_count": 64,
     "metadata": {},
     "output_type": "execute_result"
    }
   ],
   "source": [
    "ln"
   ]
  },
  {
   "cell_type": "code",
   "execution_count": 65,
   "id": "3834a7d7",
   "metadata": {},
   "outputs": [],
   "source": [
    "li.insert(4,ln)"
   ]
  },
  {
   "cell_type": "code",
   "execution_count": 66,
   "id": "3900d112",
   "metadata": {},
   "outputs": [
    {
     "data": {
      "text/plain": [
       "['Now', 2, 'start', 3, ['a', 23, 53, 6], 4, 5, 'Hello', 'H', 'e', 'y']"
      ]
     },
     "execution_count": 66,
     "metadata": {},
     "output_type": "execute_result"
    }
   ],
   "source": [
    "li"
   ]
  },
  {
   "cell_type": "code",
   "execution_count": 67,
   "id": "0ab6422b",
   "metadata": {},
   "outputs": [],
   "source": [
    "li.insert(-1,45)"
   ]
  },
  {
   "cell_type": "code",
   "execution_count": 68,
   "id": "dc7b8092",
   "metadata": {},
   "outputs": [
    {
     "data": {
      "text/plain": [
       "['Now', 2, 'start', 3, ['a', 23, 53, 6], 4, 5, 'Hello', 'H', 'e', 45, 'y']"
      ]
     },
     "execution_count": 68,
     "metadata": {},
     "output_type": "execute_result"
    }
   ],
   "source": [
    "li"
   ]
  },
  {
   "cell_type": "markdown",
   "id": "c29994c5",
   "metadata": {},
   "source": [
    "### it adds data at -1 and it shift away the existing data 'y'"
   ]
  },
  {
   "cell_type": "code",
   "execution_count": 69,
   "id": "5efe578c",
   "metadata": {},
   "outputs": [],
   "source": [
    "li.insert(0,\"abc\")"
   ]
  },
  {
   "cell_type": "code",
   "execution_count": 70,
   "id": "7a654984",
   "metadata": {},
   "outputs": [
    {
     "data": {
      "text/plain": [
       "['abc',\n",
       " 'Now',\n",
       " 2,\n",
       " 'start',\n",
       " 3,\n",
       " ['a', 23, 53, 6],\n",
       " 4,\n",
       " 5,\n",
       " 'Hello',\n",
       " 'H',\n",
       " 'e',\n",
       " 45,\n",
       " 'y']"
      ]
     },
     "execution_count": 70,
     "metadata": {},
     "output_type": "execute_result"
    }
   ],
   "source": [
    "li"
   ]
  },
  {
   "cell_type": "markdown",
   "id": "46e1942a",
   "metadata": {},
   "source": [
    "## POP() [it remove the element from last , and also from given index] by default index is -1"
   ]
  },
  {
   "cell_type": "code",
   "execution_count": 71,
   "id": "9433c568",
   "metadata": {},
   "outputs": [
    {
     "data": {
      "text/plain": [
       "['abc',\n",
       " 'Now',\n",
       " 2,\n",
       " 'start',\n",
       " 3,\n",
       " ['a', 23, 53, 6],\n",
       " 4,\n",
       " 5,\n",
       " 'Hello',\n",
       " 'H',\n",
       " 'e',\n",
       " 45,\n",
       " 'y']"
      ]
     },
     "execution_count": 71,
     "metadata": {},
     "output_type": "execute_result"
    }
   ],
   "source": [
    "li"
   ]
  },
  {
   "cell_type": "code",
   "execution_count": 72,
   "id": "f5b2f77a",
   "metadata": {},
   "outputs": [
    {
     "data": {
      "text/plain": [
       "'y'"
      ]
     },
     "execution_count": 72,
     "metadata": {},
     "output_type": "execute_result"
    }
   ],
   "source": [
    "li.pop()"
   ]
  },
  {
   "cell_type": "code",
   "execution_count": 73,
   "id": "448c2b1d",
   "metadata": {},
   "outputs": [
    {
     "data": {
      "text/plain": [
       "['abc', 'Now', 2, 'start', 3, ['a', 23, 53, 6], 4, 5, 'Hello', 'H', 'e', 45]"
      ]
     },
     "execution_count": 73,
     "metadata": {},
     "output_type": "execute_result"
    }
   ],
   "source": [
    "li"
   ]
  },
  {
   "cell_type": "code",
   "execution_count": 74,
   "id": "0f66bbb3",
   "metadata": {},
   "outputs": [
    {
     "data": {
      "text/plain": [
       "45"
      ]
     },
     "execution_count": 74,
     "metadata": {},
     "output_type": "execute_result"
    }
   ],
   "source": [
    "li.pop()"
   ]
  },
  {
   "cell_type": "code",
   "execution_count": 75,
   "id": "e3fd425b",
   "metadata": {},
   "outputs": [
    {
     "data": {
      "text/plain": [
       "['abc', 'Now', 2, 'start', 3, ['a', 23, 53, 6], 4, 5, 'Hello', 'H', 'e']"
      ]
     },
     "execution_count": 75,
     "metadata": {},
     "output_type": "execute_result"
    }
   ],
   "source": [
    "li"
   ]
  },
  {
   "cell_type": "code",
   "execution_count": 76,
   "id": "d7bcabf2",
   "metadata": {},
   "outputs": [
    {
     "data": {
      "text/plain": [
       "2"
      ]
     },
     "execution_count": 76,
     "metadata": {},
     "output_type": "execute_result"
    }
   ],
   "source": [
    "li.pop(2)"
   ]
  },
  {
   "cell_type": "code",
   "execution_count": 77,
   "id": "35cf7e34",
   "metadata": {},
   "outputs": [
    {
     "data": {
      "text/plain": [
       "['abc', 'Now', 'start', 3, ['a', 23, 53, 6], 4, 5, 'Hello', 'H', 'e']"
      ]
     },
     "execution_count": 77,
     "metadata": {},
     "output_type": "execute_result"
    }
   ],
   "source": [
    "li"
   ]
  },
  {
   "cell_type": "code",
   "execution_count": 78,
   "id": "ca5837b0",
   "metadata": {},
   "outputs": [
    {
     "data": {
      "text/plain": [
       "['a', 23, 53, 6]"
      ]
     },
     "execution_count": 78,
     "metadata": {},
     "output_type": "execute_result"
    }
   ],
   "source": [
    "li.pop(4)"
   ]
  },
  {
   "cell_type": "code",
   "execution_count": 79,
   "id": "fd0c2474",
   "metadata": {},
   "outputs": [
    {
     "data": {
      "text/plain": [
       "['abc', 'Now', 'start', 3, 4, 5, 'Hello', 'H', 'e']"
      ]
     },
     "execution_count": 79,
     "metadata": {},
     "output_type": "execute_result"
    }
   ],
   "source": [
    "li"
   ]
  },
  {
   "cell_type": "markdown",
   "id": "5643a98e",
   "metadata": {},
   "source": [
    "## Remove() [it remove the values directly, not from index]"
   ]
  },
  {
   "cell_type": "code",
   "execution_count": 80,
   "id": "e7530f4f",
   "metadata": {},
   "outputs": [],
   "source": [
    "li.remove('Now')"
   ]
  },
  {
   "cell_type": "code",
   "execution_count": 81,
   "id": "2dd193d5",
   "metadata": {},
   "outputs": [
    {
     "data": {
      "text/plain": [
       "['abc', 'start', 3, 4, 5, 'Hello', 'H', 'e']"
      ]
     },
     "execution_count": 81,
     "metadata": {},
     "output_type": "execute_result"
    }
   ],
   "source": [
    "li"
   ]
  },
  {
   "cell_type": "code",
   "execution_count": 82,
   "id": "d06777df",
   "metadata": {},
   "outputs": [
    {
     "ename": "ValueError",
     "evalue": "list.remove(x): x not in list",
     "output_type": "error",
     "traceback": [
      "\u001b[1;31m---------------------------------------------------------------------------\u001b[0m",
      "\u001b[1;31mValueError\u001b[0m                                Traceback (most recent call last)",
      "Input \u001b[1;32mIn [82]\u001b[0m, in \u001b[0;36m<cell line: 1>\u001b[1;34m()\u001b[0m\n\u001b[1;32m----> 1\u001b[0m \u001b[43mli\u001b[49m\u001b[38;5;241;43m.\u001b[39;49m\u001b[43mremove\u001b[49m\u001b[43m(\u001b[49m\u001b[38;5;241;43m234\u001b[39;49m\u001b[43m)\u001b[49m\n",
      "\u001b[1;31mValueError\u001b[0m: list.remove(x): x not in list"
     ]
    }
   ],
   "source": [
    "li.remove(234)"
   ]
  },
  {
   "cell_type": "code",
   "execution_count": 83,
   "id": "ceb18e08",
   "metadata": {},
   "outputs": [
    {
     "data": {
      "text/plain": [
       "['abc', 'start', 3, 4, 5, 'Hello', 'H', 'e']"
      ]
     },
     "execution_count": 83,
     "metadata": {},
     "output_type": "execute_result"
    }
   ],
   "source": [
    "li"
   ]
  },
  {
   "cell_type": "code",
   "execution_count": 84,
   "id": "9c69de83",
   "metadata": {},
   "outputs": [
    {
     "data": {
      "text/plain": [
       "['a', 23, 53, 6]"
      ]
     },
     "execution_count": 84,
     "metadata": {},
     "output_type": "execute_result"
    }
   ],
   "source": [
    "ln\n"
   ]
  },
  {
   "cell_type": "code",
   "execution_count": 85,
   "id": "a89e4c5c",
   "metadata": {},
   "outputs": [],
   "source": [
    "li.append(ln)"
   ]
  },
  {
   "cell_type": "code",
   "execution_count": 86,
   "id": "53764745",
   "metadata": {},
   "outputs": [
    {
     "data": {
      "text/plain": [
       "['abc', 'start', 3, 4, 5, 'Hello', 'H', 'e', ['a', 23, 53, 6]]"
      ]
     },
     "execution_count": 86,
     "metadata": {},
     "output_type": "execute_result"
    }
   ],
   "source": [
    "li"
   ]
  },
  {
   "cell_type": "markdown",
   "id": "56dbbc04",
   "metadata": {},
   "source": [
    "### Remove list from list"
   ]
  },
  {
   "cell_type": "code",
   "execution_count": 87,
   "id": "76c8abeb",
   "metadata": {},
   "outputs": [],
   "source": [
    "li[8].remove(23)"
   ]
  },
  {
   "cell_type": "code",
   "execution_count": 88,
   "id": "25631f98",
   "metadata": {},
   "outputs": [
    {
     "data": {
      "text/plain": [
       "['abc', 'start', 3, 4, 5, 'Hello', 'H', 'e', ['a', 53, 6]]"
      ]
     },
     "execution_count": 88,
     "metadata": {},
     "output_type": "execute_result"
    }
   ],
   "source": [
    "li"
   ]
  },
  {
   "cell_type": "code",
   "execution_count": 89,
   "id": "767a55b2",
   "metadata": {},
   "outputs": [],
   "source": [
    "li[8].remove(6)"
   ]
  },
  {
   "cell_type": "code",
   "execution_count": 90,
   "id": "d3827a3d",
   "metadata": {},
   "outputs": [
    {
     "data": {
      "text/plain": [
       "['abc', 'start', 3, 4, 5, 'Hello', 'H', 'e', ['a', 53]]"
      ]
     },
     "execution_count": 90,
     "metadata": {},
     "output_type": "execute_result"
    }
   ],
   "source": [
    "li"
   ]
  },
  {
   "cell_type": "markdown",
   "id": "640fef6c",
   "metadata": {},
   "source": [
    "### Strings are immutable so we cannot remove the element"
   ]
  },
  {
   "cell_type": "code",
   "execution_count": 91,
   "id": "5a59af0b",
   "metadata": {},
   "outputs": [
    {
     "ename": "AttributeError",
     "evalue": "'str' object has no attribute 'remove'",
     "output_type": "error",
     "traceback": [
      "\u001b[1;31m---------------------------------------------------------------------------\u001b[0m",
      "\u001b[1;31mAttributeError\u001b[0m                            Traceback (most recent call last)",
      "Input \u001b[1;32mIn [91]\u001b[0m, in \u001b[0;36m<cell line: 1>\u001b[1;34m()\u001b[0m\n\u001b[1;32m----> 1\u001b[0m \u001b[43mli\u001b[49m\u001b[43m[\u001b[49m\u001b[38;5;241;43m1\u001b[39;49m\u001b[43m]\u001b[49m\u001b[43m[\u001b[49m\u001b[38;5;241;43m0\u001b[39;49m\u001b[43m:\u001b[49m\u001b[38;5;241;43m2\u001b[39;49m\u001b[43m]\u001b[49m\u001b[38;5;241;43m.\u001b[39;49m\u001b[43mremove\u001b[49m(st)\n",
      "\u001b[1;31mAttributeError\u001b[0m: 'str' object has no attribute 'remove'"
     ]
    }
   ],
   "source": [
    "li[1][0:2].remove(st)"
   ]
  },
  {
   "cell_type": "code",
   "execution_count": 92,
   "id": "545e9541",
   "metadata": {},
   "outputs": [
    {
     "data": {
      "text/plain": [
       "['abc', 'start', 3, 4, 5, 'Hello', 'H', 'e', ['a', 53]]"
      ]
     },
     "execution_count": 92,
     "metadata": {},
     "output_type": "execute_result"
    }
   ],
   "source": [
    "li"
   ]
  },
  {
   "cell_type": "markdown",
   "id": "27bc30c9",
   "metadata": {},
   "source": [
    "### remove only works on first occurence "
   ]
  },
  {
   "cell_type": "code",
   "execution_count": 93,
   "id": "efbd7174",
   "metadata": {},
   "outputs": [],
   "source": [
    "li.append(4)"
   ]
  },
  {
   "cell_type": "code",
   "execution_count": 94,
   "id": "943129df",
   "metadata": {},
   "outputs": [
    {
     "data": {
      "text/plain": [
       "['abc', 'start', 3, 4, 5, 'Hello', 'H', 'e', ['a', 53], 4]"
      ]
     },
     "execution_count": 94,
     "metadata": {},
     "output_type": "execute_result"
    }
   ],
   "source": [
    "li"
   ]
  },
  {
   "cell_type": "code",
   "execution_count": 95,
   "id": "e96bfcda",
   "metadata": {},
   "outputs": [],
   "source": [
    "li.remove(4)"
   ]
  },
  {
   "cell_type": "code",
   "execution_count": 96,
   "id": "f2cc6f41",
   "metadata": {},
   "outputs": [
    {
     "data": {
      "text/plain": [
       "['abc', 'start', 3, 5, 'Hello', 'H', 'e', ['a', 53], 4]"
      ]
     },
     "execution_count": 96,
     "metadata": {},
     "output_type": "execute_result"
    }
   ],
   "source": [
    "li"
   ]
  },
  {
   "cell_type": "markdown",
   "id": "90119ea7",
   "metadata": {},
   "source": [
    "### reverse the list [reverse() is permanent whereas ::-1 is temporary]"
   ]
  },
  {
   "cell_type": "code",
   "execution_count": 97,
   "id": "28f0dd6a",
   "metadata": {},
   "outputs": [
    {
     "data": {
      "text/plain": [
       "[4, ['a', 53], 'e', 'H', 'Hello', 5, 3, 'start', 'abc']"
      ]
     },
     "execution_count": 97,
     "metadata": {},
     "output_type": "execute_result"
    }
   ],
   "source": [
    "li[::-1]"
   ]
  },
  {
   "cell_type": "code",
   "execution_count": 98,
   "id": "2d5e7ced",
   "metadata": {},
   "outputs": [],
   "source": [
    "li.reverse()\n"
   ]
  },
  {
   "cell_type": "code",
   "execution_count": 99,
   "id": "ab83a82c",
   "metadata": {},
   "outputs": [
    {
     "data": {
      "text/plain": [
       "[4, ['a', 53], 'e', 'H', 'Hello', 5, 3, 'start', 'abc']"
      ]
     },
     "execution_count": 99,
     "metadata": {},
     "output_type": "execute_result"
    }
   ],
   "source": [
    "li"
   ]
  },
  {
   "cell_type": "code",
   "execution_count": 100,
   "id": "a96d035f",
   "metadata": {},
   "outputs": [],
   "source": [
    "li.reverse()"
   ]
  },
  {
   "cell_type": "code",
   "execution_count": 101,
   "id": "6c4d7222",
   "metadata": {},
   "outputs": [
    {
     "data": {
      "text/plain": [
       "['abc', 'start', 3, 5, 'Hello', 'H', 'e', ['a', 53], 4]"
      ]
     },
     "execution_count": 101,
     "metadata": {},
     "output_type": "execute_result"
    }
   ],
   "source": [
    "li"
   ]
  },
  {
   "cell_type": "markdown",
   "id": "4a1e4b66",
   "metadata": {},
   "source": [
    "### we can also reverse permanent with ::-1 by using assignment operation"
   ]
  },
  {
   "cell_type": "code",
   "execution_count": 102,
   "id": "83024036",
   "metadata": {},
   "outputs": [],
   "source": [
    "li = li[::-1]"
   ]
  },
  {
   "cell_type": "code",
   "execution_count": 103,
   "id": "2a39315b",
   "metadata": {},
   "outputs": [
    {
     "data": {
      "text/plain": [
       "[4, ['a', 53], 'e', 'H', 'Hello', 5, 3, 'start', 'abc']"
      ]
     },
     "execution_count": 103,
     "metadata": {},
     "output_type": "execute_result"
    }
   ],
   "source": [
    "li"
   ]
  },
  {
   "cell_type": "code",
   "execution_count": 104,
   "id": "f5947634",
   "metadata": {},
   "outputs": [],
   "source": [
    "li.reverse()"
   ]
  },
  {
   "cell_type": "code",
   "execution_count": 105,
   "id": "e01acae4",
   "metadata": {},
   "outputs": [
    {
     "data": {
      "text/plain": [
       "['abc', 'start', 3, 5, 'Hello', 'H', 'e', ['a', 53], 4]"
      ]
     },
     "execution_count": 105,
     "metadata": {},
     "output_type": "execute_result"
    }
   ],
   "source": [
    "li"
   ]
  },
  {
   "cell_type": "markdown",
   "id": "d35aa212",
   "metadata": {},
   "source": [
    "## Sort Function  [The list must have only one data type]"
   ]
  },
  {
   "cell_type": "code",
   "execution_count": 106,
   "id": "ba08c825",
   "metadata": {},
   "outputs": [
    {
     "ename": "TypeError",
     "evalue": "'<' not supported between instances of 'int' and 'str'",
     "output_type": "error",
     "traceback": [
      "\u001b[1;31m---------------------------------------------------------------------------\u001b[0m",
      "\u001b[1;31mTypeError\u001b[0m                                 Traceback (most recent call last)",
      "Input \u001b[1;32mIn [106]\u001b[0m, in \u001b[0;36m<cell line: 1>\u001b[1;34m()\u001b[0m\n\u001b[1;32m----> 1\u001b[0m \u001b[43mli\u001b[49m\u001b[38;5;241;43m.\u001b[39;49m\u001b[43msort\u001b[49m\u001b[43m(\u001b[49m\u001b[43m)\u001b[49m\n",
      "\u001b[1;31mTypeError\u001b[0m: '<' not supported between instances of 'int' and 'str'"
     ]
    }
   ],
   "source": [
    "li.sort()"
   ]
  },
  {
   "cell_type": "code",
   "execution_count": 107,
   "id": "b7fa3810",
   "metadata": {},
   "outputs": [],
   "source": [
    "l2=[3,6,3,1,8,7,5]"
   ]
  },
  {
   "cell_type": "code",
   "execution_count": 108,
   "id": "d9e326bc",
   "metadata": {},
   "outputs": [],
   "source": [
    "l2.sort()"
   ]
  },
  {
   "cell_type": "code",
   "execution_count": 109,
   "id": "0d45bf6a",
   "metadata": {},
   "outputs": [
    {
     "data": {
      "text/plain": [
       "[1, 3, 3, 5, 6, 7, 8]"
      ]
     },
     "execution_count": 109,
     "metadata": {},
     "output_type": "execute_result"
    }
   ],
   "source": [
    "l2"
   ]
  },
  {
   "cell_type": "code",
   "execution_count": 110,
   "id": "0197368b",
   "metadata": {},
   "outputs": [],
   "source": [
    "l2.append(3)"
   ]
  },
  {
   "cell_type": "code",
   "execution_count": 111,
   "id": "3cfe3ed3",
   "metadata": {},
   "outputs": [
    {
     "data": {
      "text/plain": [
       "[1, 3, 3, 5, 6, 7, 8, 3]"
      ]
     },
     "execution_count": 111,
     "metadata": {},
     "output_type": "execute_result"
    }
   ],
   "source": [
    "l2"
   ]
  },
  {
   "cell_type": "code",
   "execution_count": 112,
   "id": "cc075449",
   "metadata": {},
   "outputs": [],
   "source": [
    "l3 = [\"bca\",\"abv\",\"fge\",\"gsa\"]"
   ]
  },
  {
   "cell_type": "code",
   "execution_count": 113,
   "id": "efd1618c",
   "metadata": {},
   "outputs": [],
   "source": [
    "l3.sort()"
   ]
  },
  {
   "cell_type": "code",
   "execution_count": 114,
   "id": "4feca9df",
   "metadata": {},
   "outputs": [
    {
     "data": {
      "text/plain": [
       "['abv', 'bca', 'fge', 'gsa']"
      ]
     },
     "execution_count": 114,
     "metadata": {},
     "output_type": "execute_result"
    }
   ],
   "source": [
    "l3"
   ]
  },
  {
   "cell_type": "markdown",
   "id": "d981f052",
   "metadata": {},
   "source": [
    " ## Index() [return an index of given element]"
   ]
  },
  {
   "cell_type": "code",
   "execution_count": 115,
   "id": "4a6ef49b",
   "metadata": {},
   "outputs": [
    {
     "data": {
      "text/plain": [
       "1"
      ]
     },
     "execution_count": 115,
     "metadata": {},
     "output_type": "execute_result"
    }
   ],
   "source": [
    "l3.index(\"bca\")"
   ]
  },
  {
   "cell_type": "code",
   "execution_count": 116,
   "id": "ef5da05e",
   "metadata": {},
   "outputs": [
    {
     "data": {
      "text/plain": [
       "2"
      ]
     },
     "execution_count": 116,
     "metadata": {},
     "output_type": "execute_result"
    }
   ],
   "source": [
    "l3.index(\"fge\")"
   ]
  },
  {
   "cell_type": "markdown",
   "id": "c11abdec",
   "metadata": {},
   "source": [
    "## Count() [it return the number of occurence of an data]"
   ]
  },
  {
   "cell_type": "code",
   "execution_count": 117,
   "id": "c94484ab",
   "metadata": {},
   "outputs": [
    {
     "data": {
      "text/plain": [
       "1"
      ]
     },
     "execution_count": 117,
     "metadata": {},
     "output_type": "execute_result"
    }
   ],
   "source": [
    "l3.count(\"bca\")"
   ]
  },
  {
   "cell_type": "code",
   "execution_count": 118,
   "id": "ae7edba6",
   "metadata": {},
   "outputs": [],
   "source": [
    "l3.append(\"bca\")"
   ]
  },
  {
   "cell_type": "code",
   "execution_count": 119,
   "id": "99ae9b6a",
   "metadata": {},
   "outputs": [
    {
     "data": {
      "text/plain": [
       "2"
      ]
     },
     "execution_count": 119,
     "metadata": {},
     "output_type": "execute_result"
    }
   ],
   "source": [
    "l3.count(\"bca\")"
   ]
  },
  {
   "cell_type": "code",
   "execution_count": 120,
   "id": "50da39ed",
   "metadata": {},
   "outputs": [],
   "source": [
    "s = \"bca\""
   ]
  },
  {
   "cell_type": "code",
   "execution_count": 121,
   "id": "c9b2f939",
   "metadata": {},
   "outputs": [
    {
     "ename": "TypeError",
     "evalue": "'str' object does not support item assignment",
     "output_type": "error",
     "traceback": [
      "\u001b[1;31m---------------------------------------------------------------------------\u001b[0m",
      "\u001b[1;31mTypeError\u001b[0m                                 Traceback (most recent call last)",
      "Input \u001b[1;32mIn [121]\u001b[0m, in \u001b[0;36m<cell line: 1>\u001b[1;34m()\u001b[0m\n\u001b[1;32m----> 1\u001b[0m s[\u001b[38;5;241m0\u001b[39m] \u001b[38;5;241m=\u001b[39m \u001b[38;5;124m'\u001b[39m\u001b[38;5;124ma\u001b[39m\u001b[38;5;124m'\u001b[39m\n",
      "\u001b[1;31mTypeError\u001b[0m: 'str' object does not support item assignment"
     ]
    }
   ],
   "source": [
    "s[0] = 'a'"
   ]
  },
  {
   "cell_type": "code",
   "execution_count": 122,
   "id": "41c47be7",
   "metadata": {},
   "outputs": [
    {
     "data": {
      "text/plain": [
       "['abv', 'bca', 'fge', 'gsa', 'bca']"
      ]
     },
     "execution_count": 122,
     "metadata": {},
     "output_type": "execute_result"
    }
   ],
   "source": [
    "l3"
   ]
  },
  {
   "cell_type": "code",
   "execution_count": 123,
   "id": "ab55ec8f",
   "metadata": {},
   "outputs": [],
   "source": [
    "l3[0] = \"abc\""
   ]
  },
  {
   "cell_type": "code",
   "execution_count": 124,
   "id": "68ea19fc",
   "metadata": {},
   "outputs": [
    {
     "data": {
      "text/plain": [
       "['abc', 'bca', 'fge', 'gsa', 'bca']"
      ]
     },
     "execution_count": 124,
     "metadata": {},
     "output_type": "execute_result"
    }
   ],
   "source": [
    "l3"
   ]
  },
  {
   "cell_type": "markdown",
   "id": "699fba7f",
   "metadata": {},
   "source": [
    " # Tuples"
   ]
  },
  {
   "cell_type": "code",
   "execution_count": 128,
   "id": "50e293e9",
   "metadata": {},
   "outputs": [],
   "source": [
    "t = (2,3,4,5,.22,\"asdn\",\"skf\",2+3j,[32,43,3,2,'as'])"
   ]
  },
  {
   "cell_type": "code",
   "execution_count": 129,
   "id": "6262f568",
   "metadata": {},
   "outputs": [
    {
     "data": {
      "text/plain": [
       "(2, 3, 4, 5, 0.22, 'asdn', 'skf', (2+3j), [32, 43, 3, 2, 'as'])"
      ]
     },
     "execution_count": 129,
     "metadata": {},
     "output_type": "execute_result"
    }
   ],
   "source": [
    "t"
   ]
  },
  {
   "cell_type": "code",
   "execution_count": 130,
   "id": "4f8cdd24",
   "metadata": {},
   "outputs": [
    {
     "data": {
      "text/plain": [
       "tuple"
      ]
     },
     "execution_count": 130,
     "metadata": {},
     "output_type": "execute_result"
    }
   ],
   "source": [
    "type(t)"
   ]
  },
  {
   "cell_type": "code",
   "execution_count": 131,
   "id": "a3343ebd",
   "metadata": {},
   "outputs": [
    {
     "data": {
      "text/plain": [
       "9"
      ]
     },
     "execution_count": 131,
     "metadata": {},
     "output_type": "execute_result"
    }
   ],
   "source": [
    "len(t)"
   ]
  },
  {
   "cell_type": "code",
   "execution_count": 132,
   "id": "586a32b1",
   "metadata": {},
   "outputs": [
    {
     "data": {
      "text/plain": [
       "2"
      ]
     },
     "execution_count": 132,
     "metadata": {},
     "output_type": "execute_result"
    }
   ],
   "source": [
    "t[0]"
   ]
  },
  {
   "cell_type": "code",
   "execution_count": 133,
   "id": "659b345b",
   "metadata": {},
   "outputs": [
    {
     "data": {
      "text/plain": [
       "(2, 3, 4, 5, 0.22, 'asdn', 'skf', (2+3j), [32, 43, 3, 2, 'as'])"
      ]
     },
     "execution_count": 133,
     "metadata": {},
     "output_type": "execute_result"
    }
   ],
   "source": [
    "t"
   ]
  },
  {
   "cell_type": "code",
   "execution_count": 134,
   "id": "53e225f1",
   "metadata": {},
   "outputs": [
    {
     "data": {
      "text/plain": [
       "[32, 43, 3, 2, 'as']"
      ]
     },
     "execution_count": 134,
     "metadata": {},
     "output_type": "execute_result"
    }
   ],
   "source": [
    "t[-1]"
   ]
  },
  {
   "cell_type": "code",
   "execution_count": 135,
   "id": "1bcec2bd",
   "metadata": {},
   "outputs": [
    {
     "data": {
      "text/plain": [
       "([32, 43, 3, 2, 'as'], (2+3j), 'skf', 'asdn', 0.22, 5, 4, 3, 2)"
      ]
     },
     "execution_count": 135,
     "metadata": {},
     "output_type": "execute_result"
    }
   ],
   "source": [
    "t[::-1]"
   ]
  },
  {
   "cell_type": "code",
   "execution_count": 136,
   "id": "aa37c44a",
   "metadata": {},
   "outputs": [
    {
     "ename": "TypeError",
     "evalue": "'tuple' object does not support item assignment",
     "output_type": "error",
     "traceback": [
      "\u001b[1;31m---------------------------------------------------------------------------\u001b[0m",
      "\u001b[1;31mTypeError\u001b[0m                                 Traceback (most recent call last)",
      "Input \u001b[1;32mIn [136]\u001b[0m, in \u001b[0;36m<cell line: 1>\u001b[1;34m()\u001b[0m\n\u001b[1;32m----> 1\u001b[0m t[\u001b[38;5;241m0\u001b[39m] \u001b[38;5;241m=\u001b[39m \u001b[38;5;241m2\u001b[39m\n",
      "\u001b[1;31mTypeError\u001b[0m: 'tuple' object does not support item assignment"
     ]
    }
   ],
   "source": [
    "t[0] = 2"
   ]
  },
  {
   "cell_type": "markdown",
   "id": "13d04c11",
   "metadata": {},
   "source": [
    "### Tuples have only two functions count() and index()"
   ]
  },
  {
   "cell_type": "code",
   "execution_count": 139,
   "id": "29d9a8d7",
   "metadata": {},
   "outputs": [
    {
     "data": {
      "text/plain": [
       "(2, 3, 4, 5, 0.22, 'asdn', 'skf', (2+3j), [32, 43, 3, 2, 'as'])"
      ]
     },
     "execution_count": 139,
     "metadata": {},
     "output_type": "execute_result"
    }
   ],
   "source": [
    "t"
   ]
  },
  {
   "cell_type": "code",
   "execution_count": 141,
   "id": "a2f37f88",
   "metadata": {},
   "outputs": [
    {
     "data": {
      "text/plain": [
       "1"
      ]
     },
     "execution_count": 141,
     "metadata": {},
     "output_type": "execute_result"
    }
   ],
   "source": [
    "t.count(2)"
   ]
  },
  {
   "cell_type": "code",
   "execution_count": 142,
   "id": "08c0fcd3",
   "metadata": {},
   "outputs": [
    {
     "data": {
      "text/plain": [
       "4"
      ]
     },
     "execution_count": 142,
     "metadata": {},
     "output_type": "execute_result"
    }
   ],
   "source": [
    "t.index(.22)"
   ]
  },
  {
   "cell_type": "markdown",
   "id": "73316ef2",
   "metadata": {},
   "source": [
    "# Set "
   ]
  },
  {
   "cell_type": "code",
   "execution_count": 151,
   "id": "e8f33c62",
   "metadata": {},
   "outputs": [],
   "source": [
    "s1 = { }"
   ]
  },
  {
   "cell_type": "code",
   "execution_count": 152,
   "id": "8f870a04",
   "metadata": {},
   "outputs": [
    {
     "data": {
      "text/plain": [
       "dict"
      ]
     },
     "execution_count": 152,
     "metadata": {},
     "output_type": "execute_result"
    }
   ],
   "source": [
    "type(s1)"
   ]
  },
  {
   "cell_type": "code",
   "execution_count": 153,
   "id": "815541cb",
   "metadata": {},
   "outputs": [],
   "source": [
    "s2={1}"
   ]
  },
  {
   "cell_type": "code",
   "execution_count": 154,
   "id": "62a72d64",
   "metadata": {},
   "outputs": [
    {
     "data": {
      "text/plain": [
       "set"
      ]
     },
     "execution_count": 154,
     "metadata": {},
     "output_type": "execute_result"
    }
   ],
   "source": [
    "type(s2)"
   ]
  },
  {
   "cell_type": "code",
   "execution_count": 157,
   "id": "9f91b757",
   "metadata": {},
   "outputs": [
    {
     "ename": "TypeError",
     "evalue": "unhashable type: 'list'",
     "output_type": "error",
     "traceback": [
      "\u001b[1;31m---------------------------------------------------------------------------\u001b[0m",
      "\u001b[1;31mTypeError\u001b[0m                                 Traceback (most recent call last)",
      "Input \u001b[1;32mIn [157]\u001b[0m, in \u001b[0;36m<cell line: 1>\u001b[1;34m()\u001b[0m\n\u001b[1;32m----> 1\u001b[0m s3\u001b[38;5;241m=\u001b[39m{\u001b[38;5;241m1\u001b[39m,\u001b[38;5;241m2\u001b[39m,\u001b[38;5;241m3.2\u001b[39m,\u001b[38;5;124m\"\u001b[39m\u001b[38;5;124mABC\u001b[39m\u001b[38;5;124m\"\u001b[39m,\u001b[38;5;241m3\u001b[39m\u001b[38;5;241m+\u001b[39m\u001b[38;5;241m5\u001b[39mj,[\u001b[38;5;241m2\u001b[39m,\u001b[38;5;241m1\u001b[39m,\u001b[38;5;241m2\u001b[39m,\u001b[38;5;124m\"\u001b[39m\u001b[38;5;124mdf\u001b[39m\u001b[38;5;124m\"\u001b[39m]}\n",
      "\u001b[1;31mTypeError\u001b[0m: unhashable type: 'list'"
     ]
    }
   ],
   "source": [
    "s3={1,2,3.2,\"ABC\",3+5j,[2,1,2,\"df\"]}"
   ]
  },
  {
   "cell_type": "code",
   "execution_count": 159,
   "id": "128c27a4",
   "metadata": {},
   "outputs": [],
   "source": [
    "s3={1,2,3.2,\"ABC\",3+5j}"
   ]
  },
  {
   "cell_type": "code",
   "execution_count": 160,
   "id": "150e2fc1",
   "metadata": {},
   "outputs": [
    {
     "data": {
      "text/plain": [
       "{(3+5j), 1, 2, 3.2, 'ABC'}"
      ]
     },
     "execution_count": 160,
     "metadata": {},
     "output_type": "execute_result"
    }
   ],
   "source": [
    "s3"
   ]
  },
  {
   "cell_type": "code",
   "execution_count": 161,
   "id": "14f131fd",
   "metadata": {},
   "outputs": [],
   "source": [
    "s4 = {2,4,\"aas\",3.3,(2,12,\"aas\")}"
   ]
  },
  {
   "cell_type": "code",
   "execution_count": 162,
   "id": "a9e24d22",
   "metadata": {},
   "outputs": [
    {
     "data": {
      "text/plain": [
       "{(2, 12, 'aas'), 2, 3.3, 4, 'aas'}"
      ]
     },
     "execution_count": 162,
     "metadata": {},
     "output_type": "execute_result"
    }
   ],
   "source": [
    "s4"
   ]
  },
  {
   "cell_type": "markdown",
   "id": "528a342b",
   "metadata": {},
   "source": [
    "## Note:\n",
    "### Set can only contain Immutable data types"
   ]
  },
  {
   "cell_type": "code",
   "execution_count": 163,
   "id": "310c7342",
   "metadata": {},
   "outputs": [],
   "source": [
    "s5= {2,2,4,6,4,3,12,1,1,12,3,1,4,56,4,3,1,2}"
   ]
  },
  {
   "cell_type": "code",
   "execution_count": 164,
   "id": "b6c9422b",
   "metadata": {},
   "outputs": [
    {
     "data": {
      "text/plain": [
       "{1, 2, 3, 4, 6, 12, 56}"
      ]
     },
     "execution_count": 164,
     "metadata": {},
     "output_type": "execute_result"
    }
   ],
   "source": [
    "s5"
   ]
  },
  {
   "cell_type": "markdown",
   "id": "0721f303",
   "metadata": {},
   "source": [
    "### Set Return only unique data and remove all the duplicates , As python is a case sensitive language so it will not remove the data given below"
   ]
  },
  {
   "cell_type": "code",
   "execution_count": 165,
   "id": "fc78a799",
   "metadata": {},
   "outputs": [],
   "source": [
    "s6={\"abc\",\"Abc\",\"ABC\"}"
   ]
  },
  {
   "cell_type": "code",
   "execution_count": 166,
   "id": "734749a7",
   "metadata": {},
   "outputs": [
    {
     "data": {
      "text/plain": [
       "{'ABC', 'Abc', 'abc'}"
      ]
     },
     "execution_count": 166,
     "metadata": {},
     "output_type": "execute_result"
    }
   ],
   "source": [
    "s6"
   ]
  },
  {
   "cell_type": "code",
   "execution_count": 168,
   "id": "6a218fdb",
   "metadata": {},
   "outputs": [],
   "source": [
    "lss = [1,2,3,2,1,2,3,21,2,3,12,3]"
   ]
  },
  {
   "cell_type": "code",
   "execution_count": 169,
   "id": "5d33bfa2",
   "metadata": {},
   "outputs": [
    {
     "data": {
      "text/plain": [
       "{1, 2, 3, 12, 21}"
      ]
     },
     "execution_count": 169,
     "metadata": {},
     "output_type": "execute_result"
    }
   ],
   "source": [
    "set(lss)"
   ]
  },
  {
   "cell_type": "code",
   "execution_count": 170,
   "id": "12957e74",
   "metadata": {},
   "outputs": [],
   "source": [
    "lstt = list(set(lss))"
   ]
  },
  {
   "cell_type": "code",
   "execution_count": 171,
   "id": "b5087d05",
   "metadata": {},
   "outputs": [
    {
     "data": {
      "text/plain": [
       "[1, 2, 3, 12, 21]"
      ]
     },
     "execution_count": 171,
     "metadata": {},
     "output_type": "execute_result"
    }
   ],
   "source": [
    "lstt"
   ]
  },
  {
   "cell_type": "code",
   "execution_count": 172,
   "id": "d9424ef3",
   "metadata": {},
   "outputs": [],
   "source": [
    "s6 = {23,5,3232,6,43,22,112,\"ava\",323,23}"
   ]
  },
  {
   "cell_type": "code",
   "execution_count": 173,
   "id": "0d873b6e",
   "metadata": {},
   "outputs": [
    {
     "data": {
      "text/plain": [
       "{112, 22, 23, 323, 3232, 43, 5, 6, 'ava'}"
      ]
     },
     "execution_count": 173,
     "metadata": {},
     "output_type": "execute_result"
    }
   ],
   "source": [
    "s6"
   ]
  },
  {
   "cell_type": "code",
   "execution_count": 174,
   "id": "7254ef1e",
   "metadata": {},
   "outputs": [],
   "source": [
    "s6.add(54)"
   ]
  },
  {
   "cell_type": "code",
   "execution_count": 175,
   "id": "1b991e47",
   "metadata": {},
   "outputs": [
    {
     "data": {
      "text/plain": [
       "{112, 22, 23, 323, 3232, 43, 5, 54, 6, 'ava'}"
      ]
     },
     "execution_count": 175,
     "metadata": {},
     "output_type": "execute_result"
    }
   ],
   "source": [
    "s6"
   ]
  },
  {
   "cell_type": "code",
   "execution_count": 176,
   "id": "6eebd898",
   "metadata": {},
   "outputs": [],
   "source": [
    "s6.add(54)"
   ]
  },
  {
   "cell_type": "code",
   "execution_count": 177,
   "id": "8942c87d",
   "metadata": {},
   "outputs": [
    {
     "data": {
      "text/plain": [
       "{112, 22, 23, 323, 3232, 43, 5, 54, 6, 'ava'}"
      ]
     },
     "execution_count": 177,
     "metadata": {},
     "output_type": "execute_result"
    }
   ],
   "source": [
    "s6"
   ]
  },
  {
   "cell_type": "markdown",
   "id": "a6a69486",
   "metadata": {},
   "source": [
    "### set never allows duplicacy\n",
    "## Set Use Hashing for store data, wheres as other use indexing"
   ]
  },
  {
   "cell_type": "code",
   "execution_count": 178,
   "id": "4ed37d97",
   "metadata": {},
   "outputs": [],
   "source": [
    "s6.remove(22)"
   ]
  },
  {
   "cell_type": "code",
   "execution_count": 179,
   "id": "2cfbc72a",
   "metadata": {},
   "outputs": [
    {
     "data": {
      "text/plain": [
       "{112, 23, 323, 3232, 43, 5, 54, 6, 'ava'}"
      ]
     },
     "execution_count": 179,
     "metadata": {},
     "output_type": "execute_result"
    }
   ],
   "source": [
    "s6"
   ]
  },
  {
   "cell_type": "code",
   "execution_count": null,
   "id": "be986e0a",
   "metadata": {},
   "outputs": [],
   "source": []
  }
 ],
 "metadata": {
  "kernelspec": {
   "display_name": "Python 3 (ipykernel)",
   "language": "python",
   "name": "python3"
  },
  "language_info": {
   "codemirror_mode": {
    "name": "ipython",
    "version": 3
   },
   "file_extension": ".py",
   "mimetype": "text/x-python",
   "name": "python",
   "nbconvert_exporter": "python",
   "pygments_lexer": "ipython3",
   "version": "3.9.12"
  }
 },
 "nbformat": 4,
 "nbformat_minor": 5
}
