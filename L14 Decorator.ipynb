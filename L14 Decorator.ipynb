{
 "cells": [
  {
   "cell_type": "code",
   "execution_count": 2,
   "id": "3f4752b6",
   "metadata": {},
   "outputs": [],
   "source": [
    "def test():\n",
    "    print(\"This is my function to test\")"
   ]
  },
  {
   "cell_type": "code",
   "execution_count": 3,
   "id": "ff08a2e7",
   "metadata": {},
   "outputs": [
    {
     "name": "stdout",
     "output_type": "stream",
     "text": [
      "This is my function to test\n"
     ]
    }
   ],
   "source": [
    "test()"
   ]
  },
  {
   "cell_type": "markdown",
   "id": "fb6ecac6",
   "metadata": {},
   "source": [
    "#####  Now when we need to tell that this function is end or start"
   ]
  },
  {
   "cell_type": "code",
   "execution_count": 4,
   "id": "eff4b247",
   "metadata": {},
   "outputs": [],
   "source": [
    "def test():\n",
    "    print(\"Start\")\n",
    "    print(\"This is my function\")\n",
    "    print(\"End of function\")"
   ]
  },
  {
   "cell_type": "code",
   "execution_count": 5,
   "id": "5a018caf",
   "metadata": {},
   "outputs": [
    {
     "name": "stdout",
     "output_type": "stream",
     "text": [
      "Start\n",
      "This is my function\n",
      "End of function\n"
     ]
    }
   ],
   "source": [
    "test()"
   ]
  },
  {
   "cell_type": "markdown",
   "id": "40b6955c",
   "metadata": {},
   "source": [
    " #####  Now Using decorate"
   ]
  },
  {
   "cell_type": "code",
   "execution_count": 7,
   "id": "fd3127ae",
   "metadata": {},
   "outputs": [],
   "source": [
    "def deco(func):\n",
    "    def inner_dec():\n",
    "        print(\"This is the start of my fun\")\n",
    "        func()  #function given in parameters\n",
    "        print(\"End of function\")\n",
    "        \n",
    "    return inner_dec\n"
   ]
  },
  {
   "cell_type": "code",
   "execution_count": 12,
   "id": "136d0039",
   "metadata": {},
   "outputs": [],
   "source": [
    "@ deco  # it tells the interpreter that first pass the test1() in the deco()\n",
    "def test1():\n",
    "    print(\"6 + 7\")"
   ]
  },
  {
   "cell_type": "code",
   "execution_count": 13,
   "id": "f007a30e",
   "metadata": {},
   "outputs": [
    {
     "name": "stdout",
     "output_type": "stream",
     "text": [
      "This is the start of my fun\n",
      "6 + 7\n",
      "End of function\n"
     ]
    }
   ],
   "source": [
    "test1()"
   ]
  },
  {
   "cell_type": "markdown",
   "id": "9f8360bb",
   "metadata": {},
   "source": [
    "####  To calculate the time for execution of function"
   ]
  },
  {
   "cell_type": "code",
   "execution_count": 25,
   "id": "01051386",
   "metadata": {},
   "outputs": [],
   "source": [
    "import time\n",
    "\n",
    "\n",
    "def timer_test(func):\n",
    "    \n",
    "    def timer_test_inner():\n",
    "        start = time.time()\n",
    "        func()\n",
    "        end = time.time()\n",
    "        print(end - start)\n",
    "    return timer_test_inner"
   ]
  },
  {
   "cell_type": "code",
   "execution_count": 32,
   "id": "defc8175",
   "metadata": {},
   "outputs": [],
   "source": [
    "@timer_test\n",
    "def test2():\n",
    "    for i in range(100000000):\n",
    "        pass"
   ]
  },
  {
   "cell_type": "code",
   "execution_count": 35,
   "id": "25d4bb7e",
   "metadata": {},
   "outputs": [
    {
     "name": "stdout",
     "output_type": "stream",
     "text": [
      "1.4706051349639893\n"
     ]
    }
   ],
   "source": [
    "test2()"
   ]
  },
  {
   "cell_type": "code",
   "execution_count": 36,
   "id": "0cd553a2",
   "metadata": {},
   "outputs": [
    {
     "name": "stdout",
     "output_type": "stream",
     "text": [
      "1.347994089126587\n"
     ]
    }
   ],
   "source": [
    "\n",
    "test2()"
   ]
  },
  {
   "cell_type": "code",
   "execution_count": null,
   "id": "90edf811",
   "metadata": {},
   "outputs": [],
   "source": []
  }
 ],
 "metadata": {
  "kernelspec": {
   "display_name": "Python 3 (ipykernel)",
   "language": "python",
   "name": "python3"
  },
  "language_info": {
   "codemirror_mode": {
    "name": "ipython",
    "version": 3
   },
   "file_extension": ".py",
   "mimetype": "text/x-python",
   "name": "python",
   "nbconvert_exporter": "python",
   "pygments_lexer": "ipython3",
   "version": "3.9.12"
  }
 },
 "nbformat": 4,
 "nbformat_minor": 5
}
