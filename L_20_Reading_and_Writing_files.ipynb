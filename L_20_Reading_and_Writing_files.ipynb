{
 "cells": [
  {
   "cell_type": "code",
   "execution_count": 2,
   "id": "d9bf3a46",
   "metadata": {},
   "outputs": [],
   "source": [
    "data = {\n",
    "    'name': 'sudh',\n",
    "    'email': 'abc@gmail.com',\n",
    "    'mob': 393929393,\n",
    "    'subject' : ['data science','big data','data analytics']\n",
    "}"
   ]
  },
  {
   "cell_type": "code",
   "execution_count": 5,
   "id": "a92ee8c4",
   "metadata": {},
   "outputs": [
    {
     "name": "stdout",
     "output_type": "stream",
     "text": [
      "D:\\Programming\\PW Data Science\\Pyhton\\Text_Files\n"
     ]
    }
   ],
   "source": [
    "cd Text_Files"
   ]
  },
  {
   "cell_type": "code",
   "execution_count": 6,
   "id": "d655d951",
   "metadata": {},
   "outputs": [],
   "source": [
    "import json"
   ]
  },
  {
   "cell_type": "markdown",
   "id": "31e724cc",
   "metadata": {},
   "source": [
    "####  we use dump method to write data in a json file"
   ]
  },
  {
   "cell_type": "code",
   "execution_count": 8,
   "id": "0a95dcd8",
   "metadata": {},
   "outputs": [],
   "source": [
    "with open('data.json','w') as f:\n",
    "    json.dump(data , f)"
   ]
  },
  {
   "cell_type": "markdown",
   "id": "0696a38c",
   "metadata": {},
   "source": [
    "####  we use load method to read json data"
   ]
  },
  {
   "cell_type": "code",
   "execution_count": 13,
   "id": "8d82b573",
   "metadata": {},
   "outputs": [],
   "source": [
    "with open('data.json','r') as f:\n",
    "    data1 = json.load(f)"
   ]
  },
  {
   "cell_type": "code",
   "execution_count": 14,
   "id": "a037864c",
   "metadata": {},
   "outputs": [
    {
     "data": {
      "text/plain": [
       "{'name': 'sudh',\n",
       " 'email': 'abc@gmail.com',\n",
       " 'mob': 393929393,\n",
       " 'subject': ['data science', 'big data', 'data analytics']}"
      ]
     },
     "execution_count": 14,
     "metadata": {},
     "output_type": "execute_result"
    }
   ],
   "source": [
    "data1"
   ]
  },
  {
   "cell_type": "code",
   "execution_count": 15,
   "id": "b1ed9809",
   "metadata": {},
   "outputs": [
    {
     "data": {
      "text/plain": [
       "'big data'"
      ]
     },
     "execution_count": 15,
     "metadata": {},
     "output_type": "execute_result"
    }
   ],
   "source": [
    "data1['subject'][1]"
   ]
  },
  {
   "cell_type": "markdown",
   "id": "e53f0b66",
   "metadata": {},
   "source": [
    "###  CSV"
   ]
  },
  {
   "cell_type": "code",
   "execution_count": 16,
   "id": "84c1afe0",
   "metadata": {},
   "outputs": [],
   "source": [
    "import csv"
   ]
  },
  {
   "cell_type": "code",
   "execution_count": 18,
   "id": "85b647a1",
   "metadata": {},
   "outputs": [],
   "source": [
    "data = [['name','email','phone_number'],\n",
    "        ['harry','abc@gmail.com',234324234],\n",
    "        ['leon','len@gmail.com',343423443]\n",
    "]"
   ]
  },
  {
   "cell_type": "markdown",
   "id": "fac9d7e3",
   "metadata": {},
   "source": [
    "####  write operation in csv"
   ]
  },
  {
   "cell_type": "code",
   "execution_count": 20,
   "id": "29c115d8",
   "metadata": {},
   "outputs": [],
   "source": [
    "with open('data.csv','w') as f:\n",
    "    writer = csv.writer(f)\n",
    "    \n",
    "    for i in data:\n",
    "        writer.writerow(i)"
   ]
  },
  {
   "cell_type": "markdown",
   "id": "992bb1db",
   "metadata": {},
   "source": [
    "####  Read operation in csv"
   ]
  },
  {
   "cell_type": "code",
   "execution_count": 22,
   "id": "f37e3a7d",
   "metadata": {},
   "outputs": [
    {
     "name": "stdout",
     "output_type": "stream",
     "text": [
      "['name', 'email', 'phone_number']\n",
      "[]\n",
      "['harry', 'abc@gmail.com', '234324234']\n",
      "[]\n",
      "['leon', 'len@gmail.com', '343423443']\n",
      "[]\n"
     ]
    }
   ],
   "source": [
    "with open('data.csv','r') as f:\n",
    "    read_data = csv.reader(f)\n",
    "    \n",
    "    for i in read_data:\n",
    "        print(i)"
   ]
  },
  {
   "cell_type": "markdown",
   "id": "835b0f3c",
   "metadata": {},
   "source": [
    "####  Binary data extension is .bin"
   ]
  },
  {
   "cell_type": "markdown",
   "id": "f051f90f",
   "metadata": {},
   "source": [
    "##### Binary data can't be read directly, it should be converted in image, mp3 etc..\n"
   ]
  },
  {
   "cell_type": "code",
   "execution_count": 23,
   "id": "3b29c203",
   "metadata": {},
   "outputs": [],
   "source": [
    "with open('test.bin','wb') as f:\n",
    "    f.write(b\"\\x01\\x02\\x03\")"
   ]
  },
  {
   "cell_type": "markdown",
   "id": "07e3612f",
   "metadata": {},
   "source": [
    "####  Read binary data"
   ]
  },
  {
   "cell_type": "code",
   "execution_count": 24,
   "id": "b6448b58",
   "metadata": {},
   "outputs": [
    {
     "name": "stdout",
     "output_type": "stream",
     "text": [
      "b'\\x01\\x02\\x03'\n"
     ]
    }
   ],
   "source": [
    "with open('test.bin','rb') as f:\n",
    "    print(f.read())"
   ]
  },
  {
   "cell_type": "code",
   "execution_count": null,
   "id": "6a106bc7",
   "metadata": {},
   "outputs": [],
   "source": []
  }
 ],
 "metadata": {
  "kernelspec": {
   "display_name": "Python 3 (ipykernel)",
   "language": "python",
   "name": "python3"
  },
  "language_info": {
   "codemirror_mode": {
    "name": "ipython",
    "version": 3
   },
   "file_extension": ".py",
   "mimetype": "text/x-python",
   "name": "python",
   "nbconvert_exporter": "python",
   "pygments_lexer": "ipython3",
   "version": "3.9.12"
  }
 },
 "nbformat": 4,
 "nbformat_minor": 5
}
