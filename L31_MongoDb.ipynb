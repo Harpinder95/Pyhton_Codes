{
 "cells": [
  {
   "cell_type": "markdown",
   "id": "87d65f67",
   "metadata": {},
   "source": [
    "### MongoDb cloud version is known as Atlas"
   ]
  },
  {
   "cell_type": "code",
   "execution_count": 1,
   "id": "a68765cb",
   "metadata": {},
   "outputs": [],
   "source": [
    "import pymongo"
   ]
  },
  {
   "cell_type": "code",
   "execution_count": 3,
   "id": "09fd15d9",
   "metadata": {},
   "outputs": [],
   "source": [
    "\n",
    "client = pymongo.MongoClient(\"mongodb+srv:/uqopdhq.mongodb.net/?retryWrites=true&w=majority\")\n",
    "db = client.test\n"
   ]
  },
  {
   "cell_type": "code",
   "execution_count": 5,
   "id": "4e30c0d1",
   "metadata": {},
   "outputs": [
    {
     "data": {
      "text/plain": [
       "Database(MongoClient(host=['ac-tld2du8-shard-00-01.uqopdhq.mongodb.net:27017', 'ac-tld2du8-shard-00-00.uqopdhq.mongodb.net:27017', 'ac-tld2du8-shard-00-02.uqopdhq.mongodb.net:27017'], document_class=dict, tz_aware=False, connect=True, retrywrites=True, w='majority', authsource='admin', replicaset='atlas-eu15nk-shard-0', tls=True), 'test')"
      ]
     },
     "execution_count": 5,
     "metadata": {},
     "output_type": "execute_result"
    }
   ],
   "source": [
    "db"
   ]
  },
  {
   "cell_type": "markdown",
   "id": "fc991ff8",
   "metadata": {},
   "source": [
    "### Creating a Database"
   ]
  },
  {
   "cell_type": "code",
   "execution_count": 6,
   "id": "4a2aa61d",
   "metadata": {},
   "outputs": [],
   "source": [
    "db = client['db1']"
   ]
  },
  {
   "cell_type": "code",
   "execution_count": 7,
   "id": "61b62b8d",
   "metadata": {},
   "outputs": [],
   "source": [
    "data = {\n",
    "    'name':'Harry',\n",
    "    'Roll_no':232,\n",
    "    'class':'Data science masters'\n",
    "}"
   ]
  },
  {
   "cell_type": "markdown",
   "id": "88e4f664",
   "metadata": {},
   "source": [
    "###  Creating a Collection similar as Table in RDBMS"
   ]
  },
  {
   "cell_type": "code",
   "execution_count": 8,
   "id": "b65dd33f",
   "metadata": {},
   "outputs": [],
   "source": [
    "coll_db1 = db[\"my_records\"]"
   ]
  },
  {
   "cell_type": "markdown",
   "id": "ff42c2f9",
   "metadata": {},
   "source": [
    "###  Inserting data in collection"
   ]
  },
  {
   "cell_type": "markdown",
   "id": "b2af73ab",
   "metadata": {},
   "source": [
    "###  Inserting single record"
   ]
  },
  {
   "cell_type": "code",
   "execution_count": 9,
   "id": "c31958ee",
   "metadata": {},
   "outputs": [
    {
     "data": {
      "text/plain": [
       "<pymongo.results.InsertOneResult at 0x219259ea760>"
      ]
     },
     "execution_count": 9,
     "metadata": {},
     "output_type": "execute_result"
    }
   ],
   "source": [
    "coll_db1.insert_one(data)"
   ]
  },
  {
   "cell_type": "code",
   "execution_count": 10,
   "id": "cf4fe451",
   "metadata": {},
   "outputs": [],
   "source": [
    "data1 = {\n",
    "    \"mail_id\":\"abc@gmail.com\",\n",
    "    \"mob\":92393022,\n",
    "    \"addr\":\"mumbai\"\n",
    "}"
   ]
  },
  {
   "cell_type": "code",
   "execution_count": 11,
   "id": "60109962",
   "metadata": {},
   "outputs": [
    {
     "data": {
      "text/plain": [
       "<pymongo.results.InsertOneResult at 0x21925b9c310>"
      ]
     },
     "execution_count": 11,
     "metadata": {},
     "output_type": "execute_result"
    }
   ],
   "source": [
    "coll_db1.insert_one(data1)"
   ]
  },
  {
   "cell_type": "markdown",
   "id": "62b3677c",
   "metadata": {},
   "source": [
    "###  Inserting multiple record"
   ]
  },
  {
   "cell_type": "code",
   "execution_count": 12,
   "id": "a7f786ac",
   "metadata": {},
   "outputs": [],
   "source": [
    "data2 =[\n",
    "    { \"name\": \"Amy\", \"address\": \"Apple st 652\" },\n",
    "  { \"name\": \"Hannah\", \"address\": \"Mountain 21\" },\n",
    "  { \"name\": \"Michael\", \"address\": \"Valley 345\" },\n",
    "  { \"name\": \"Sandy\", \"address\": \"Ocean blvd 2\" },\n",
    "  { \"name\": \"Betty\", \"address\": \"Green Grass 1\" },\n",
    "  { \"name\": \"Richard\", \"address\": \"Sky st 331\" },\n",
    "  { \"name\": \"Susan\", \"address\": \"One way 98\" },\n",
    "  { \"name\": \"Vicky\", \"address\": \"Yellow Garden 2\" },\n",
    "  { \"name\": \"Ben\", \"address\": \"Park Lane 38\" },\n",
    "  { \"name\": \"William\", \"address\": \"Central st 954\" },\n",
    "  { \"name\": \"Chuck\", \"address\": \"Main Road 989\" },\n",
    "  { \"name\": \"Viola\", \"address\": \"Sideway 1633\" }\n",
    "]"
   ]
  },
  {
   "cell_type": "code",
   "execution_count": 13,
   "id": "531c7d46",
   "metadata": {},
   "outputs": [
    {
     "data": {
      "text/plain": [
       "<pymongo.results.InsertManyResult at 0x21925f70460>"
      ]
     },
     "execution_count": 13,
     "metadata": {},
     "output_type": "execute_result"
    }
   ],
   "source": [
    "coll_db1.insert_many(data2)"
   ]
  },
  {
   "cell_type": "code",
   "execution_count": 14,
   "id": "ccd449c5",
   "metadata": {},
   "outputs": [],
   "source": [
    "data3 = {\n",
    " \"name\": \"notebook\",\n",
    " \"qty\": 50,\n",
    " \"rating\": [ { \"score\": 8 }, { \"score\": 9 } ],\n",
    " \"size\": { \"height\": 11, \"width\": 8.5, \"unit\": \"in\" },\n",
    " \"status\": \"A\",\n",
    " \"tags\": [ \"college-ruled\", \"perforated\"]\n",
    "}"
   ]
  },
  {
   "cell_type": "code",
   "execution_count": 16,
   "id": "fb3af0ec",
   "metadata": {},
   "outputs": [
    {
     "data": {
      "text/plain": [
       "<pymongo.results.InsertOneResult at 0x21926e53be0>"
      ]
     },
     "execution_count": 16,
     "metadata": {},
     "output_type": "execute_result"
    }
   ],
   "source": [
    "coll_db1.insert_one(data3)"
   ]
  },
  {
   "cell_type": "code",
   "execution_count": 17,
   "id": "450c2b63",
   "metadata": {},
   "outputs": [],
   "source": [
    "list_of_records = [\n",
    "    {'companyName': 'iNeuron',\n",
    "     'product': 'Affordable AI',\n",
    "     'courseOffered': 'Machine Learning with Deployment'},\n",
    "    \n",
    "    {'companyName': 'iNeuron',\n",
    "     'product': 'Affordable AI',\n",
    "     'courseOffered': 'Deep Learning for NLP and Computer vision'},\n",
    "    \n",
    "    {'companyName': 'iNeuron',\n",
    "     'product': 'Master Program',\n",
    "     'courseOffered': 'Data Science Masters Program'}\n",
    "]"
   ]
  },
  {
   "cell_type": "code",
   "execution_count": 18,
   "id": "59ad7e3f",
   "metadata": {},
   "outputs": [
    {
     "data": {
      "text/plain": [
       "<pymongo.results.InsertManyResult at 0x21926eab370>"
      ]
     },
     "execution_count": 18,
     "metadata": {},
     "output_type": "execute_result"
    }
   ],
   "source": [
    "coll_db1.insert_many(list_of_records)"
   ]
  },
  {
   "cell_type": "markdown",
   "id": "17b9f437",
   "metadata": {},
   "source": [
    "###  Find or Look data"
   ]
  },
  {
   "cell_type": "code",
   "execution_count": 19,
   "id": "abb1011b",
   "metadata": {},
   "outputs": [
    {
     "data": {
      "text/plain": [
       "{'_id': ObjectId('64258bf7318f69d79823f31e'),\n",
       " 'name': 'Harry',\n",
       " 'Roll_no': 232,\n",
       " 'class': 'Data science masters'}"
      ]
     },
     "execution_count": 19,
     "metadata": {},
     "output_type": "execute_result"
    }
   ],
   "source": [
    "coll_db1.find_one()"
   ]
  },
  {
   "cell_type": "markdown",
   "id": "cd1c614a",
   "metadata": {},
   "source": [
    "### Print all the data"
   ]
  },
  {
   "cell_type": "code",
   "execution_count": 21,
   "id": "d79a411f",
   "metadata": {},
   "outputs": [
    {
     "name": "stdout",
     "output_type": "stream",
     "text": [
      "{'_id': ObjectId('64258bf7318f69d79823f31e'), 'name': 'Harry', 'Roll_no': 232, 'class': 'Data science masters'}\n",
      "{'_id': ObjectId('64258c9a318f69d79823f31f'), 'mail_id': 'abc@gmail.com', 'mob': 92393022, 'addr': 'mumbai'}\n",
      "{'_id': ObjectId('64258df9318f69d79823f320'), 'name': 'Amy', 'address': 'Apple st 652'}\n",
      "{'_id': ObjectId('64258df9318f69d79823f321'), 'name': 'Hannah', 'address': 'Mountain 21'}\n",
      "{'_id': ObjectId('64258df9318f69d79823f322'), 'name': 'Michael', 'address': 'Valley 345'}\n",
      "{'_id': ObjectId('64258df9318f69d79823f323'), 'name': 'Sandy', 'address': 'Ocean blvd 2'}\n",
      "{'_id': ObjectId('64258df9318f69d79823f324'), 'name': 'Betty', 'address': 'Green Grass 1'}\n",
      "{'_id': ObjectId('64258df9318f69d79823f325'), 'name': 'Richard', 'address': 'Sky st 331'}\n",
      "{'_id': ObjectId('64258df9318f69d79823f326'), 'name': 'Susan', 'address': 'One way 98'}\n",
      "{'_id': ObjectId('64258df9318f69d79823f327'), 'name': 'Vicky', 'address': 'Yellow Garden 2'}\n",
      "{'_id': ObjectId('64258df9318f69d79823f328'), 'name': 'Ben', 'address': 'Park Lane 38'}\n",
      "{'_id': ObjectId('64258df9318f69d79823f329'), 'name': 'William', 'address': 'Central st 954'}\n",
      "{'_id': ObjectId('64258df9318f69d79823f32a'), 'name': 'Chuck', 'address': 'Main Road 989'}\n",
      "{'_id': ObjectId('64258df9318f69d79823f32b'), 'name': 'Viola', 'address': 'Sideway 1633'}\n",
      "{'_id': ObjectId('64258e8d318f69d79823f32c'), 'name': 'notebook', 'qty': 50, 'rating': [{'score': 8}, {'score': 9}], 'size': {'height': 11, 'width': 8.5, 'unit': 'in'}, 'status': 'A', 'tags': ['college-ruled', 'perforated']}\n",
      "{'_id': ObjectId('64258f30318f69d79823f32d'), 'companyName': 'iNeuron', 'product': 'Affordable AI', 'courseOffered': 'Machine Learning with Deployment'}\n",
      "{'_id': ObjectId('64258f30318f69d79823f32e'), 'companyName': 'iNeuron', 'product': 'Affordable AI', 'courseOffered': 'Deep Learning for NLP and Computer vision'}\n",
      "{'_id': ObjectId('64258f30318f69d79823f32f'), 'companyName': 'iNeuron', 'product': 'Master Program', 'courseOffered': 'Data Science Masters Program'}\n"
     ]
    }
   ],
   "source": [
    "for i in coll_db1.find():\n",
    "    print(i)"
   ]
  },
  {
   "cell_type": "markdown",
   "id": "a6c54064",
   "metadata": {},
   "source": [
    "###  Find any particular record"
   ]
  },
  {
   "cell_type": "code",
   "execution_count": 23,
   "id": "79389f91",
   "metadata": {},
   "outputs": [
    {
     "name": "stdout",
     "output_type": "stream",
     "text": [
      "{'_id': ObjectId('64258bf7318f69d79823f31e'), 'name': 'Harry', 'Roll_no': 232, 'class': 'Data science masters'}\n"
     ]
    }
   ],
   "source": [
    "for i in coll_db1.find({'name':\"Harry\"}):\n",
    "    print(i)"
   ]
  },
  {
   "cell_type": "code",
   "execution_count": 24,
   "id": "2c879036",
   "metadata": {},
   "outputs": [
    {
     "name": "stdout",
     "output_type": "stream",
     "text": [
      "{'_id': ObjectId('64258f30318f69d79823f32d'), 'companyName': 'iNeuron', 'product': 'Affordable AI', 'courseOffered': 'Machine Learning with Deployment'}\n",
      "{'_id': ObjectId('64258f30318f69d79823f32e'), 'companyName': 'iNeuron', 'product': 'Affordable AI', 'courseOffered': 'Deep Learning for NLP and Computer vision'}\n"
     ]
    }
   ],
   "source": [
    "for i in coll_db1.find({'product': 'Affordable AI'}):\n",
    "    print(i)"
   ]
  },
  {
   "cell_type": "code",
   "execution_count": 25,
   "id": "5777a131",
   "metadata": {},
   "outputs": [],
   "source": [
    "random_data = [\n",
    "    {'_id': '3', 'companyName': 'iNeuron', 'Faculty': 'XYZ'},\n",
    "    {'_id': '4', 'companyName': 'iNeuron', 'Faculty': 'ABC'},\n",
    "    {'_id': '5', 'companyName': 'iNeuron', 'Faculty': 'PQR'},\n",
    "]"
   ]
  },
  {
   "cell_type": "code",
   "execution_count": 26,
   "id": "4fc8b342",
   "metadata": {},
   "outputs": [
    {
     "data": {
      "text/plain": [
       "<pymongo.results.InsertManyResult at 0x21925b649d0>"
      ]
     },
     "execution_count": 26,
     "metadata": {},
     "output_type": "execute_result"
    }
   ],
   "source": [
    "coll_db1.insert_many(random_data)"
   ]
  },
  {
   "cell_type": "code",
   "execution_count": 29,
   "id": "04964ef6",
   "metadata": {},
   "outputs": [
    {
     "name": "stdout",
     "output_type": "stream",
     "text": [
      "{'_id': ObjectId('64258bf7318f69d79823f31e'), 'name': 'Harry', 'Roll_no': 232, 'class': 'Data science masters'}\n",
      "{'_id': ObjectId('64258c9a318f69d79823f31f'), 'mail_id': 'abc@gmail.com', 'mob': 92393022, 'addr': 'mumbai'}\n",
      "{'_id': ObjectId('64258df9318f69d79823f320'), 'name': 'Amy', 'address': 'Apple st 652'}\n",
      "{'_id': ObjectId('64258df9318f69d79823f321'), 'name': 'Hannah', 'address': 'Mountain 21'}\n",
      "{'_id': ObjectId('64258df9318f69d79823f322'), 'name': 'Michael', 'address': 'Valley 345'}\n",
      "{'_id': ObjectId('64258df9318f69d79823f323'), 'name': 'Sandy', 'address': 'Ocean blvd 2'}\n",
      "{'_id': ObjectId('64258df9318f69d79823f324'), 'name': 'Betty', 'address': 'Green Grass 1'}\n",
      "{'_id': ObjectId('64258df9318f69d79823f325'), 'name': 'Richard', 'address': 'Sky st 331'}\n",
      "{'_id': ObjectId('64258df9318f69d79823f326'), 'name': 'Susan', 'address': 'One way 98'}\n",
      "{'_id': ObjectId('64258df9318f69d79823f327'), 'name': 'Vicky', 'address': 'Yellow Garden 2'}\n",
      "{'_id': ObjectId('64258df9318f69d79823f328'), 'name': 'Ben', 'address': 'Park Lane 38'}\n",
      "{'_id': ObjectId('64258df9318f69d79823f329'), 'name': 'William', 'address': 'Central st 954'}\n",
      "{'_id': ObjectId('64258df9318f69d79823f32a'), 'name': 'Chuck', 'address': 'Main Road 989'}\n",
      "{'_id': ObjectId('64258df9318f69d79823f32b'), 'name': 'Viola', 'address': 'Sideway 1633'}\n",
      "{'_id': ObjectId('64258e8d318f69d79823f32c'), 'name': 'notebook', 'qty': 50, 'rating': [{'score': 8}, {'score': 9}], 'size': {'height': 11, 'width': 8.5, 'unit': 'in'}, 'status': 'A', 'tags': ['college-ruled', 'perforated']}\n",
      "{'_id': ObjectId('64258f30318f69d79823f32d'), 'companyName': 'iNeuron', 'product': 'Affordable AI', 'courseOffered': 'Machine Learning with Deployment'}\n",
      "{'_id': ObjectId('64258f30318f69d79823f32e'), 'companyName': 'iNeuron', 'product': 'Affordable AI', 'courseOffered': 'Deep Learning for NLP and Computer vision'}\n",
      "{'_id': ObjectId('64258f30318f69d79823f32f'), 'companyName': 'iNeuron', 'product': 'Master Program', 'courseOffered': 'Data Science Masters Program'}\n",
      "{'_id': '3', 'companyName': 'iNeuron', 'Faculty': 'XYZ'}\n",
      "{'_id': '4', 'companyName': 'iNeuron', 'Faculty': 'ABC'}\n",
      "{'_id': '5', 'companyName': 'iNeuron', 'Faculty': 'PQR'}\n"
     ]
    }
   ],
   "source": [
    "for i in coll_db1.find():\n",
    "    print(i)"
   ]
  },
  {
   "cell_type": "markdown",
   "id": "d79a951f",
   "metadata": {},
   "source": [
    "### Applying a filter , here gte mean greater than equal to"
   ]
  },
  {
   "cell_type": "code",
   "execution_count": 32,
   "id": "213994af",
   "metadata": {},
   "outputs": [
    {
     "name": "stdout",
     "output_type": "stream",
     "text": [
      "{'_id': '4', 'companyName': 'iNeuron', 'Faculty': 'ABC'}\n",
      "{'_id': '5', 'companyName': 'iNeuron', 'Faculty': 'PQR'}\n"
     ]
    }
   ],
   "source": [
    "for i in coll_db1.find({\"_id\": {\"$gte\":'4'}}):\n",
    "    print(i)"
   ]
  },
  {
   "cell_type": "markdown",
   "id": "aeb2b28d",
   "metadata": {},
   "source": [
    " ### Update the records"
   ]
  },
  {
   "cell_type": "markdown",
   "id": "f69de1f4",
   "metadata": {},
   "source": [
    "###  set after dollar sign is used to update the record"
   ]
  },
  {
   "cell_type": "code",
   "execution_count": 34,
   "id": "344492bc",
   "metadata": {},
   "outputs": [
    {
     "data": {
      "text/plain": [
       "<pymongo.results.UpdateResult at 0x219271d8df0>"
      ]
     },
     "execution_count": 34,
     "metadata": {},
     "output_type": "execute_result"
    }
   ],
   "source": [
    "coll_db1.update_many({'companyName':'iNeuron'},{\"$set\":{'companyName':'Data Science Masters'}})"
   ]
  },
  {
   "cell_type": "code",
   "execution_count": 35,
   "id": "0d2a1bb6",
   "metadata": {},
   "outputs": [
    {
     "name": "stdout",
     "output_type": "stream",
     "text": [
      "{'_id': ObjectId('64258bf7318f69d79823f31e'), 'name': 'Harry', 'Roll_no': 232, 'class': 'Data science masters'}\n",
      "{'_id': ObjectId('64258c9a318f69d79823f31f'), 'mail_id': 'abc@gmail.com', 'mob': 92393022, 'addr': 'mumbai'}\n",
      "{'_id': ObjectId('64258df9318f69d79823f320'), 'name': 'Amy', 'address': 'Apple st 652'}\n",
      "{'_id': ObjectId('64258df9318f69d79823f321'), 'name': 'Hannah', 'address': 'Mountain 21'}\n",
      "{'_id': ObjectId('64258df9318f69d79823f322'), 'name': 'Michael', 'address': 'Valley 345'}\n",
      "{'_id': ObjectId('64258df9318f69d79823f323'), 'name': 'Sandy', 'address': 'Ocean blvd 2'}\n",
      "{'_id': ObjectId('64258df9318f69d79823f324'), 'name': 'Betty', 'address': 'Green Grass 1'}\n",
      "{'_id': ObjectId('64258df9318f69d79823f325'), 'name': 'Richard', 'address': 'Sky st 331'}\n",
      "{'_id': ObjectId('64258df9318f69d79823f326'), 'name': 'Susan', 'address': 'One way 98'}\n",
      "{'_id': ObjectId('64258df9318f69d79823f327'), 'name': 'Vicky', 'address': 'Yellow Garden 2'}\n",
      "{'_id': ObjectId('64258df9318f69d79823f328'), 'name': 'Ben', 'address': 'Park Lane 38'}\n",
      "{'_id': ObjectId('64258df9318f69d79823f329'), 'name': 'William', 'address': 'Central st 954'}\n",
      "{'_id': ObjectId('64258df9318f69d79823f32a'), 'name': 'Chuck', 'address': 'Main Road 989'}\n",
      "{'_id': ObjectId('64258df9318f69d79823f32b'), 'name': 'Viola', 'address': 'Sideway 1633'}\n",
      "{'_id': ObjectId('64258e8d318f69d79823f32c'), 'name': 'notebook', 'qty': 50, 'rating': [{'score': 8}, {'score': 9}], 'size': {'height': 11, 'width': 8.5, 'unit': 'in'}, 'status': 'A', 'tags': ['college-ruled', 'perforated']}\n",
      "{'_id': ObjectId('64258f30318f69d79823f32d'), 'companyName': 'Data Science Masters', 'product': 'Affordable AI', 'courseOffered': 'Machine Learning with Deployment'}\n",
      "{'_id': ObjectId('64258f30318f69d79823f32e'), 'companyName': 'Data Science Masters', 'product': 'Affordable AI', 'courseOffered': 'Deep Learning for NLP and Computer vision'}\n",
      "{'_id': ObjectId('64258f30318f69d79823f32f'), 'companyName': 'Data Science Masters', 'product': 'Master Program', 'courseOffered': 'Data Science Masters Program'}\n",
      "{'_id': '3', 'companyName': 'Data Science Masters', 'Faculty': 'XYZ'}\n",
      "{'_id': '4', 'companyName': 'Data Science Masters', 'Faculty': 'ABC'}\n",
      "{'_id': '5', 'companyName': 'Data Science Masters', 'Faculty': 'PQR'}\n"
     ]
    }
   ],
   "source": [
    "for i in coll_db1.find():\n",
    "    print(i)"
   ]
  },
  {
   "cell_type": "code",
   "execution_count": null,
   "id": "a889c63f",
   "metadata": {},
   "outputs": [],
   "source": [
    "coll_db1."
   ]
  }
 ],
 "metadata": {
  "kernelspec": {
   "display_name": "Python 3 (ipykernel)",
   "language": "python",
   "name": "python3"
  },
  "language_info": {
   "codemirror_mode": {
    "name": "ipython",
    "version": 3
   },
   "file_extension": ".py",
   "mimetype": "text/x-python",
   "name": "python",
   "nbconvert_exporter": "python",
   "pygments_lexer": "ipython3",
   "version": "3.9.12"
  }
 },
 "nbformat": 4,
 "nbformat_minor": 5
}
