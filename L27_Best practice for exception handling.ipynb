{
 "cells": [
  {
   "cell_type": "code",
   "execution_count": 1,
   "id": "68c5b18a",
   "metadata": {},
   "outputs": [
    {
     "name": "stdout",
     "output_type": "stream",
     "text": [
      "division by zero\n"
     ]
    }
   ],
   "source": [
    "# use always a specific exception\n",
    "try:\n",
    "    10/0\n",
    "except Exception as e:\n",
    "    print(e)"
   ]
  },
  {
   "cell_type": "code",
   "execution_count": 3,
   "id": "152c1144",
   "metadata": {},
   "outputs": [
    {
     "name": "stdout",
     "output_type": "stream",
     "text": [
      "division by zero\n"
     ]
    }
   ],
   "source": [
    "\n",
    "try:\n",
    "    10/0\n",
    "except ZeroDivisionError as e:\n",
    "    print(e)"
   ]
  },
  {
   "cell_type": "code",
   "execution_count": 6,
   "id": "7646a18f",
   "metadata": {},
   "outputs": [
    {
     "name": "stdout",
     "output_type": "stream",
     "text": [
      "I am trying to handle a Zero Division Error::  division by zero\n"
     ]
    }
   ],
   "source": [
    "# always print a proper message\n",
    "# use always a specific exception\n",
    "try:\n",
    "    10/0\n",
    "except Exception as e:\n",
    "    print(\"I am trying to handle a Zero Division Error:: \",e)"
   ]
  },
  {
   "cell_type": "code",
   "execution_count": 7,
   "id": "0f291213",
   "metadata": {},
   "outputs": [],
   "source": [
    "#always trying to log your error\n",
    "import logging\n",
    "logging.basicConfig(filename ='error.log',level = logging.ERROR)\n",
    "# use always a specific exception\n",
    "try:\n",
    "    10/0\n",
    "except Exception as e:\n",
    "    logging.error(\"I am trying to handle a Zero Division Error::{} \".format(e))"
   ]
  },
  {
   "cell_type": "code",
   "execution_count": 8,
   "id": "25a30598",
   "metadata": {},
   "outputs": [],
   "source": [
    "# always avoid to write a multiple exception handling\n",
    "try:\n",
    "    10/0\n",
    "except FileNotFoundError as e:\n",
    "    logging.error(\"I am handling file not found error {}\".format(e))\n",
    "except AttributeError as e:\n",
    "    logging.error(\"I am handling Attribute error {}\".format(e))\n",
    "except ZeroDivisionError as e:\n",
    "    logging.error(\"I am handling ZeroDivisionError {}\".format(e))"
   ]
  },
  {
   "cell_type": "code",
   "execution_count": 9,
   "id": "cc2f272e",
   "metadata": {},
   "outputs": [],
   "source": [
    "# always Document all the error\n",
    "\n",
    "# cleanup all the resources\n",
    "\n",
    "\n",
    "try:\n",
    "    with open('tes.txt','w') as f:\n",
    "        f.write(\"This is my data to file\")\n",
    "except FileNotFoundError as e:\n",
    "    logging.error(\"I am handling file not found error {}\".format(e))\n",
    "finally:\n",
    "    f.close()"
   ]
  },
  {
   "cell_type": "code",
   "execution_count": null,
   "id": "1c9ac80f",
   "metadata": {},
   "outputs": [],
   "source": []
  }
 ],
 "metadata": {
  "kernelspec": {
   "display_name": "Python 3 (ipykernel)",
   "language": "python",
   "name": "python3"
  },
  "language_info": {
   "codemirror_mode": {
    "name": "ipython",
    "version": 3
   },
   "file_extension": ".py",
   "mimetype": "text/x-python",
   "name": "python",
   "nbconvert_exporter": "python",
   "pygments_lexer": "ipython3",
   "version": "3.9.12"
  }
 },
 "nbformat": 4,
 "nbformat_minor": 5
}
