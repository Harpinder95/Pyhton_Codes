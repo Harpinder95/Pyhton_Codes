{
 "cells": [
  {
   "cell_type": "code",
   "execution_count": 1,
   "id": "a7afdfef",
   "metadata": {},
   "outputs": [],
   "source": [
    "n=3\n",
    "p=2"
   ]
  },
  {
   "cell_type": "code",
   "execution_count": 2,
   "id": "eac7b39e",
   "metadata": {},
   "outputs": [],
   "source": [
    "def test(n,p):\n",
    "    return n**p"
   ]
  },
  {
   "cell_type": "code",
   "execution_count": 3,
   "id": "9dee8403",
   "metadata": {},
   "outputs": [
    {
     "data": {
      "text/plain": [
       "243"
      ]
     },
     "execution_count": 3,
     "metadata": {},
     "output_type": "execute_result"
    }
   ],
   "source": [
    "test(3,5)"
   ]
  },
  {
   "cell_type": "markdown",
   "id": "bf2d99c0",
   "metadata": {},
   "source": [
    "### Lambda function  OR Anonymous Function OR One-Liner Function"
   ]
  },
  {
   "cell_type": "code",
   "execution_count": 4,
   "id": "16aed5ef",
   "metadata": {},
   "outputs": [
    {
     "data": {
      "text/plain": [
       "<function __main__.<lambda>(n, p)>"
      ]
     },
     "execution_count": 4,
     "metadata": {},
     "output_type": "execute_result"
    }
   ],
   "source": [
    "lambda n,p : n**p"
   ]
  },
  {
   "cell_type": "code",
   "execution_count": 5,
   "id": "f286bfd1",
   "metadata": {},
   "outputs": [],
   "source": [
    "a= lambda n,p : n**p"
   ]
  },
  {
   "cell_type": "code",
   "execution_count": 6,
   "id": "e05b7ab7",
   "metadata": {},
   "outputs": [
    {
     "data": {
      "text/plain": [
       "1024"
      ]
     },
     "execution_count": 6,
     "metadata": {},
     "output_type": "execute_result"
    }
   ],
   "source": [
    "a(4,5)"
   ]
  },
  {
   "cell_type": "code",
   "execution_count": 7,
   "id": "8144a7cd",
   "metadata": {},
   "outputs": [
    {
     "data": {
      "text/plain": [
       "9"
      ]
     },
     "execution_count": 7,
     "metadata": {},
     "output_type": "execute_result"
    }
   ],
   "source": [
    "a(3,2)"
   ]
  },
  {
   "cell_type": "code",
   "execution_count": 8,
   "id": "5b7d9956",
   "metadata": {},
   "outputs": [],
   "source": [
    "add = lambda x,y,z: x+y+z"
   ]
  },
  {
   "cell_type": "code",
   "execution_count": 9,
   "id": "a0978140",
   "metadata": {},
   "outputs": [
    {
     "data": {
      "text/plain": [
       "9"
      ]
     },
     "execution_count": 9,
     "metadata": {},
     "output_type": "execute_result"
    }
   ],
   "source": [
    "add(2,3,4)"
   ]
  },
  {
   "cell_type": "markdown",
   "id": "4dabf50b",
   "metadata": {},
   "source": [
    "#### When we have to do basic functions then we can use lambda function otherwise do the other one"
   ]
  },
  {
   "cell_type": "code",
   "execution_count": 10,
   "id": "d379dc23",
   "metadata": {},
   "outputs": [],
   "source": [
    "cel_to_fer = lambda c: (9/5)*c +32"
   ]
  },
  {
   "cell_type": "code",
   "execution_count": 11,
   "id": "e4ea146b",
   "metadata": {},
   "outputs": [
    {
     "data": {
      "text/plain": [
       "113.0"
      ]
     },
     "execution_count": 11,
     "metadata": {},
     "output_type": "execute_result"
    }
   ],
   "source": [
    "cel_to_fer(45)"
   ]
  },
  {
   "cell_type": "markdown",
   "id": "9585f737",
   "metadata": {},
   "source": [
    "####  Exp 2"
   ]
  },
  {
   "cell_type": "code",
   "execution_count": 14,
   "id": "70115a22",
   "metadata": {},
   "outputs": [],
   "source": [
    "finding_max = lambda x,y : x if x>y else y"
   ]
  },
  {
   "cell_type": "code",
   "execution_count": 17,
   "id": "eaded6bc",
   "metadata": {},
   "outputs": [
    {
     "data": {
      "text/plain": [
       "16"
      ]
     },
     "execution_count": 17,
     "metadata": {},
     "output_type": "execute_result"
    }
   ],
   "source": [
    "finding_max(16,14)"
   ]
  },
  {
   "cell_type": "markdown",
   "id": "fdc30945",
   "metadata": {},
   "source": [
    "#### Exp 3 "
   ]
  },
  {
   "cell_type": "code",
   "execution_count": 24,
   "id": "8b9c2e36",
   "metadata": {},
   "outputs": [],
   "source": [
    "s= \"Harry Data Scientist\""
   ]
  },
  {
   "cell_type": "code",
   "execution_count": 25,
   "id": "8034b8fb",
   "metadata": {},
   "outputs": [],
   "source": [
    "len_of_str = lambda s: len(s)"
   ]
  },
  {
   "cell_type": "code",
   "execution_count": 26,
   "id": "354f11ab",
   "metadata": {},
   "outputs": [
    {
     "data": {
      "text/plain": [
       "20"
      ]
     },
     "execution_count": 26,
     "metadata": {},
     "output_type": "execute_result"
    }
   ],
   "source": [
    "len_of_str(s)"
   ]
  },
  {
   "cell_type": "code",
   "execution_count": null,
   "id": "7fda6c6a",
   "metadata": {},
   "outputs": [],
   "source": []
  }
 ],
 "metadata": {
  "kernelspec": {
   "display_name": "Python 3 (ipykernel)",
   "language": "python",
   "name": "python3"
  },
  "language_info": {
   "codemirror_mode": {
    "name": "ipython",
    "version": 3
   },
   "file_extension": ".py",
   "mimetype": "text/x-python",
   "name": "python",
   "nbconvert_exporter": "python",
   "pygments_lexer": "ipython3",
   "version": "3.9.12"
  }
 },
 "nbformat": 4,
 "nbformat_minor": 5
}
