{
 "cells": [
  {
   "cell_type": "code",
   "execution_count": 1,
   "id": "a79b2e6e",
   "metadata": {},
   "outputs": [],
   "source": [
    "def test():\n",
    "    print(\"Hello\")"
   ]
  },
  {
   "cell_type": "code",
   "execution_count": 13,
   "id": "e0e1a1a2",
   "metadata": {},
   "outputs": [
    {
     "name": "stdout",
     "output_type": "stream",
     "text": [
      "Hello\n"
     ]
    },
    {
     "ename": "TypeError",
     "evalue": "unsupported operand type(s) for +: 'NoneType' and 'str'",
     "output_type": "error",
     "traceback": [
      "\u001b[1;31m---------------------------------------------------------------------------\u001b[0m",
      "\u001b[1;31mTypeError\u001b[0m                                 Traceback (most recent call last)",
      "Input \u001b[1;32mIn [13]\u001b[0m, in \u001b[0;36m<cell line: 1>\u001b[1;34m()\u001b[0m\n\u001b[1;32m----> 1\u001b[0m \u001b[43mtest\u001b[49m\u001b[43m(\u001b[49m\u001b[43m)\u001b[49m\u001b[43m \u001b[49m\u001b[38;5;241;43m+\u001b[39;49m\u001b[43m \u001b[49m\u001b[38;5;124;43m\"\u001b[39;49m\u001b[38;5;124;43mharry\u001b[39;49m\u001b[38;5;124;43m\"\u001b[39;49m\n",
      "\u001b[1;31mTypeError\u001b[0m: unsupported operand type(s) for +: 'NoneType' and 'str'"
     ]
    }
   ],
   "source": [
    "test() + \"harry\""
   ]
  },
  {
   "cell_type": "code",
   "execution_count": 17,
   "id": "2e35ceba",
   "metadata": {},
   "outputs": [],
   "source": [
    "def test2():\n",
    "    return \"Hello \""
   ]
  },
  {
   "cell_type": "code",
   "execution_count": 18,
   "id": "f612302a",
   "metadata": {},
   "outputs": [
    {
     "data": {
      "text/plain": [
       "'Hello Harry'"
      ]
     },
     "execution_count": 18,
     "metadata": {},
     "output_type": "execute_result"
    }
   ],
   "source": [
    "test2() + \"Harry\""
   ]
  },
  {
   "cell_type": "code",
   "execution_count": 3,
   "id": "71d38acc",
   "metadata": {},
   "outputs": [],
   "source": [
    "l = [1,2,3,4,5,6,6,7,8,6,2]"
   ]
  },
  {
   "cell_type": "markdown",
   "id": "9e201e88",
   "metadata": {},
   "source": [
    "### manual length finder function"
   ]
  },
  {
   "cell_type": "code",
   "execution_count": 11,
   "id": "3e9b4862",
   "metadata": {},
   "outputs": [],
   "source": [
    "def lens(list):\n",
    "    x=list\n",
    "    cnt =0\n",
    "    for i in x:\n",
    "        cnt +=1\n",
    "    print(cnt)"
   ]
  },
  {
   "cell_type": "code",
   "execution_count": 12,
   "id": "9ede82f0",
   "metadata": {},
   "outputs": [
    {
     "name": "stdout",
     "output_type": "stream",
     "text": [
      "11\n"
     ]
    }
   ],
   "source": [
    "lens(l)"
   ]
  },
  {
   "cell_type": "code",
   "execution_count": 22,
   "id": "917d66d5",
   "metadata": {},
   "outputs": [],
   "source": [
    "def test3():\n",
    "    return \"sam\",324,12.3j,[23,4,2,2],(23,32,'hash')"
   ]
  },
  {
   "cell_type": "code",
   "execution_count": 23,
   "id": "31ecc69d",
   "metadata": {},
   "outputs": [
    {
     "data": {
      "text/plain": [
       "('sam', 324, 12.3j, [23, 4, 2, 2], (23, 32, 'hash'))"
      ]
     },
     "execution_count": 23,
     "metadata": {},
     "output_type": "execute_result"
    }
   ],
   "source": [
    "test3()"
   ]
  },
  {
   "cell_type": "code",
   "execution_count": 24,
   "id": "065e9a3d",
   "metadata": {},
   "outputs": [],
   "source": [
    "a,b,c,d,e = test3()"
   ]
  },
  {
   "cell_type": "code",
   "execution_count": 25,
   "id": "ea024ae6",
   "metadata": {},
   "outputs": [
    {
     "data": {
      "text/plain": [
       "'sam'"
      ]
     },
     "execution_count": 25,
     "metadata": {},
     "output_type": "execute_result"
    }
   ],
   "source": [
    "a"
   ]
  },
  {
   "cell_type": "code",
   "execution_count": 26,
   "id": "580f9c1f",
   "metadata": {},
   "outputs": [
    {
     "data": {
      "text/plain": [
       "324"
      ]
     },
     "execution_count": 26,
     "metadata": {},
     "output_type": "execute_result"
    }
   ],
   "source": [
    "b"
   ]
  },
  {
   "cell_type": "code",
   "execution_count": 27,
   "id": "c5f86dcd",
   "metadata": {},
   "outputs": [
    {
     "data": {
      "text/plain": [
       "12.3j"
      ]
     },
     "execution_count": 27,
     "metadata": {},
     "output_type": "execute_result"
    }
   ],
   "source": [
    "c"
   ]
  },
  {
   "cell_type": "code",
   "execution_count": 28,
   "id": "e2264c8d",
   "metadata": {},
   "outputs": [
    {
     "data": {
      "text/plain": [
       "[23, 4, 2, 2]"
      ]
     },
     "execution_count": 28,
     "metadata": {},
     "output_type": "execute_result"
    }
   ],
   "source": [
    "d"
   ]
  },
  {
   "cell_type": "code",
   "execution_count": 29,
   "id": "95d4817a",
   "metadata": {},
   "outputs": [
    {
     "data": {
      "text/plain": [
       "(23, 32, 'hash')"
      ]
     },
     "execution_count": 29,
     "metadata": {},
     "output_type": "execute_result"
    }
   ],
   "source": [
    "e"
   ]
  },
  {
   "cell_type": "code",
   "execution_count": 30,
   "id": "800a414b",
   "metadata": {},
   "outputs": [
    {
     "name": "stdout",
     "output_type": "stream",
     "text": [
      "5\n"
     ]
    }
   ],
   "source": [
    "lens(test3())"
   ]
  },
  {
   "cell_type": "code",
   "execution_count": 31,
   "id": "84591f6e",
   "metadata": {},
   "outputs": [],
   "source": [
    " def test4():\n",
    "        a = 4+5*23\n",
    "        return a"
   ]
  },
  {
   "cell_type": "code",
   "execution_count": 32,
   "id": "816f50bb",
   "metadata": {},
   "outputs": [
    {
     "data": {
      "text/plain": [
       "119"
      ]
     },
     "execution_count": 32,
     "metadata": {},
     "output_type": "execute_result"
    }
   ],
   "source": [
    "test4()"
   ]
  },
  {
   "cell_type": "code",
   "execution_count": 33,
   "id": "a7ab0cbd",
   "metadata": {},
   "outputs": [],
   "source": [
    "def test5(a,b,c):\n",
    "    return a+b*c"
   ]
  },
  {
   "cell_type": "code",
   "execution_count": 35,
   "id": "cbd9f2db",
   "metadata": {},
   "outputs": [
    {
     "data": {
      "text/plain": [
       "471"
      ]
     },
     "execution_count": 35,
     "metadata": {},
     "output_type": "execute_result"
    }
   ],
   "source": [
    "test5(3,234,2)"
   ]
  },
  {
   "cell_type": "code",
   "execution_count": 37,
   "id": "7649c9d5",
   "metadata": {},
   "outputs": [],
   "source": [
    "def test6(a,b):\n",
    "    return a+b"
   ]
  },
  {
   "cell_type": "code",
   "execution_count": 39,
   "id": "e900dc3d",
   "metadata": {},
   "outputs": [
    {
     "data": {
      "text/plain": [
       "'Radha Soami'"
      ]
     },
     "execution_count": 39,
     "metadata": {},
     "output_type": "execute_result"
    }
   ],
   "source": [
    "test6(\"Radha \",\"Soami\")"
   ]
  },
  {
   "cell_type": "code",
   "execution_count": 40,
   "id": "05e6e0e4",
   "metadata": {},
   "outputs": [
    {
     "data": {
      "text/plain": [
       "[1, 23, 4, 5, 'dsaf', 'asd', 'asdf']"
      ]
     },
     "execution_count": 40,
     "metadata": {},
     "output_type": "execute_result"
    }
   ],
   "source": [
    "test6([1,23,4,5,'dsaf'],['asd','asdf'])"
   ]
  },
  {
   "cell_type": "code",
   "execution_count": 54,
   "id": "4a5abcab",
   "metadata": {},
   "outputs": [],
   "source": [
    "ls = [1,2,3,4,34.3,23.3,'har','dsfa',[23,5,2,12,4,2]]"
   ]
  },
  {
   "cell_type": "code",
   "execution_count": 55,
   "id": "dfaddf1e",
   "metadata": {},
   "outputs": [],
   "source": [
    "def test7(lt):\n",
    "    lp=[]\n",
    "    for i in lt:\n",
    "        if type(i)==int or type(i)==float:\n",
    "            lp.append(i)\n",
    "        else:\n",
    "             pass\n",
    "    return lp\n",
    "        "
   ]
  },
  {
   "cell_type": "code",
   "execution_count": 56,
   "id": "8b7fd994",
   "metadata": {},
   "outputs": [
    {
     "data": {
      "text/plain": [
       "[1, 2, 3, 4, 34.3, 23.3]"
      ]
     },
     "execution_count": 56,
     "metadata": {},
     "output_type": "execute_result"
    }
   ],
   "source": [
    "test7(ls)"
   ]
  },
  {
   "cell_type": "code",
   "execution_count": 74,
   "id": "b0b262c5",
   "metadata": {},
   "outputs": [],
   "source": [
    "def test8(a):\n",
    "    lp=[]\n",
    "    for i in a:\n",
    "        if type(i)==list:\n",
    "            for j in i:\n",
    "                 if type(j)==int or type(j)==float:\n",
    "                    lp.append(j)\n",
    "        else: \n",
    "            if type(i)==int or type(i)==float:\n",
    "                lp.append(i)\n",
    "    return lp\n"
   ]
  },
  {
   "cell_type": "code",
   "execution_count": 75,
   "id": "8249d184",
   "metadata": {},
   "outputs": [
    {
     "data": {
      "text/plain": [
       "[1, 2, 3, 4, 34.3, 23.3, 'har', 'dsfa', [23, 5, 2, 12, 4, 2]]"
      ]
     },
     "execution_count": 75,
     "metadata": {},
     "output_type": "execute_result"
    }
   ],
   "source": [
    "ls"
   ]
  },
  {
   "cell_type": "code",
   "execution_count": 76,
   "id": "3cf02b73",
   "metadata": {},
   "outputs": [
    {
     "data": {
      "text/plain": [
       "[1, 2, 3, 4, 34.3, 23.3, 23, 5, 2, 12, 4, 2]"
      ]
     },
     "execution_count": 76,
     "metadata": {},
     "output_type": "execute_result"
    }
   ],
   "source": [
    "test8(ls)"
   ]
  },
  {
   "cell_type": "markdown",
   "id": "ff51fed1",
   "metadata": {},
   "source": [
    "### Add docstring to a function"
   ]
  },
  {
   "cell_type": "code",
   "execution_count": 81,
   "id": "471544e8",
   "metadata": {},
   "outputs": [
    {
     "data": {
      "text/plain": [
       "[1, 2, 3, 4, 34.3, 23.3, 23, 5, 2, 12, 4, 2]"
      ]
     },
     "execution_count": 81,
     "metadata": {},
     "output_type": "execute_result"
    }
   ],
   "source": [
    "test8(ls)"
   ]
  },
  {
   "cell_type": "code",
   "execution_count": 82,
   "id": "522d612f",
   "metadata": {},
   "outputs": [],
   "source": [
    "def test9(a):\n",
    "    \"\"\"This function return only numeric value\"\"\"\n",
    "    lp=[]\n",
    "    for i in a:\n",
    "        if type(i)==list:\n",
    "            for j in i:\n",
    "                 if type(j)==int or type(j)==float:\n",
    "                    lp.append(j)\n",
    "        else: \n",
    "            if type(i)==int or type(i)==float:\n",
    "                lp.append(i)\n",
    "    return lp\n"
   ]
  },
  {
   "cell_type": "code",
   "execution_count": null,
   "id": "3c589f27",
   "metadata": {},
   "outputs": [],
   "source": [
    "test9()"
   ]
  },
  {
   "cell_type": "markdown",
   "id": "d9780f44",
   "metadata": {},
   "source": [
    "### Dynamic parameter using "
   ]
  },
  {
   "cell_type": "code",
   "execution_count": 88,
   "id": "f58c7073",
   "metadata": {},
   "outputs": [],
   "source": [
    "def test10(*args):\n",
    "    return args"
   ]
  },
  {
   "cell_type": "code",
   "execution_count": 89,
   "id": "7a718d27",
   "metadata": {},
   "outputs": [
    {
     "data": {
      "text/plain": [
       "()"
      ]
     },
     "execution_count": 89,
     "metadata": {},
     "output_type": "execute_result"
    }
   ],
   "source": [
    "test10()"
   ]
  },
  {
   "cell_type": "code",
   "execution_count": 90,
   "id": "7f041611",
   "metadata": {},
   "outputs": [
    {
     "data": {
      "text/plain": [
       "tuple"
      ]
     },
     "execution_count": 90,
     "metadata": {},
     "output_type": "execute_result"
    }
   ],
   "source": [
    "type(test10())"
   ]
  },
  {
   "cell_type": "code",
   "execution_count": 91,
   "id": "20ffae88",
   "metadata": {},
   "outputs": [
    {
     "data": {
      "text/plain": [
       "(23, 3, 1, 3)"
      ]
     },
     "execution_count": 91,
     "metadata": {},
     "output_type": "execute_result"
    }
   ],
   "source": [
    "test10(23,3,1,3)"
   ]
  },
  {
   "cell_type": "code",
   "execution_count": 93,
   "id": "cf3e8898",
   "metadata": {},
   "outputs": [
    {
     "data": {
      "text/plain": [
       "('asdf', 123, 3, 2, (2+3j), '23423', 3.43, 2.32)"
      ]
     },
     "execution_count": 93,
     "metadata": {},
     "output_type": "execute_result"
    }
   ],
   "source": [
    "test10('asdf',123,3,2,2+3j,'23423',3.43,2.32)"
   ]
  },
  {
   "cell_type": "markdown",
   "id": "5972a1d1",
   "metadata": {},
   "source": [
    "### We can use any keyword instead of 'args' it is just a convention not compulsory"
   ]
  },
  {
   "cell_type": "code",
   "execution_count": 94,
   "id": "09cef3b5",
   "metadata": {},
   "outputs": [],
   "source": [
    "def test11(*hae):\n",
    "    return hae"
   ]
  },
  {
   "cell_type": "code",
   "execution_count": 95,
   "id": "e8e9c0aa",
   "metadata": {},
   "outputs": [
    {
     "data": {
      "text/plain": [
       "(2, 2, 2, 21, 3)"
      ]
     },
     "execution_count": 95,
     "metadata": {},
     "output_type": "execute_result"
    }
   ],
   "source": [
    "test11(2,2,2,21,3)"
   ]
  },
  {
   "cell_type": "markdown",
   "id": "c1114e35",
   "metadata": {},
   "source": [
    "### use another arguments with 'args'"
   ]
  },
  {
   "cell_type": "code",
   "execution_count": 96,
   "id": "033c213b",
   "metadata": {},
   "outputs": [],
   "source": [
    "def test12(*args, a):\n",
    "    return args,a"
   ]
  },
  {
   "cell_type": "code",
   "execution_count": 97,
   "id": "e3825d63",
   "metadata": {},
   "outputs": [
    {
     "ename": "TypeError",
     "evalue": "test12() missing 1 required keyword-only argument: 'a'",
     "output_type": "error",
     "traceback": [
      "\u001b[1;31m---------------------------------------------------------------------------\u001b[0m",
      "\u001b[1;31mTypeError\u001b[0m                                 Traceback (most recent call last)",
      "Input \u001b[1;32mIn [97]\u001b[0m, in \u001b[0;36m<cell line: 1>\u001b[1;34m()\u001b[0m\n\u001b[1;32m----> 1\u001b[0m \u001b[43mtest12\u001b[49m\u001b[43m(\u001b[49m\u001b[38;5;241;43m1\u001b[39;49m\u001b[43m,\u001b[49m\u001b[38;5;241;43m2\u001b[39;49m\u001b[43m,\u001b[49m\u001b[38;5;241;43m3\u001b[39;49m\u001b[43m,\u001b[49m\u001b[38;5;241;43m4\u001b[39;49m\u001b[43m,\u001b[49m\u001b[38;5;124;43m'\u001b[39;49m\u001b[38;5;124;43msdfsdf\u001b[39;49m\u001b[38;5;124;43m'\u001b[39;49m\u001b[43m)\u001b[49m\n",
      "\u001b[1;31mTypeError\u001b[0m: test12() missing 1 required keyword-only argument: 'a'"
     ]
    }
   ],
   "source": [
    "test12(1,2,3,4,'sdfsdf')"
   ]
  },
  {
   "cell_type": "code",
   "execution_count": 98,
   "id": "bd88059f",
   "metadata": {},
   "outputs": [
    {
     "data": {
      "text/plain": [
       "((12, 2, 3, 2, 3, 'sdfs', 'sdfsd'), 'dasf')"
      ]
     },
     "execution_count": 98,
     "metadata": {},
     "output_type": "execute_result"
    }
   ],
   "source": [
    "test12(12,2,3,2,3,'sdfs','sdfsd', a='dasf')"
   ]
  },
  {
   "cell_type": "markdown",
   "id": "596608be",
   "metadata": {},
   "source": [
    "### Fix arguments with manual arguments"
   ]
  },
  {
   "cell_type": "code",
   "execution_count": 106,
   "id": "9a1f053a",
   "metadata": {},
   "outputs": [],
   "source": [
    "def test14(c,d,a=23,b=1):\n",
    "    return a,b,c,d"
   ]
  },
  {
   "cell_type": "code",
   "execution_count": 107,
   "id": "f057ab1b",
   "metadata": {},
   "outputs": [
    {
     "ename": "TypeError",
     "evalue": "test14() missing 2 required positional arguments: 'c' and 'd'",
     "output_type": "error",
     "traceback": [
      "\u001b[1;31m---------------------------------------------------------------------------\u001b[0m",
      "\u001b[1;31mTypeError\u001b[0m                                 Traceback (most recent call last)",
      "Input \u001b[1;32mIn [107]\u001b[0m, in \u001b[0;36m<cell line: 1>\u001b[1;34m()\u001b[0m\n\u001b[1;32m----> 1\u001b[0m \u001b[43mtest14\u001b[49m\u001b[43m(\u001b[49m\u001b[43m)\u001b[49m\n",
      "\u001b[1;31mTypeError\u001b[0m: test14() missing 2 required positional arguments: 'c' and 'd'"
     ]
    }
   ],
   "source": [
    "test14()"
   ]
  },
  {
   "cell_type": "code",
   "execution_count": 108,
   "id": "c59f1322",
   "metadata": {},
   "outputs": [
    {
     "data": {
      "text/plain": [
       "(23, 1, 'asdfasd', 2)"
      ]
     },
     "execution_count": 108,
     "metadata": {},
     "output_type": "execute_result"
    }
   ],
   "source": [
    "test14('asdfasd',2)"
   ]
  },
  {
   "cell_type": "code",
   "execution_count": 109,
   "id": "1d8f31b6",
   "metadata": {},
   "outputs": [
    {
     "data": {
      "text/plain": [
       "(34, 1, 2, 5)"
      ]
     },
     "execution_count": 109,
     "metadata": {},
     "output_type": "execute_result"
    }
   ],
   "source": [
    "test14(2,5, a=34)"
   ]
  },
  {
   "cell_type": "markdown",
   "id": "fb7ae1d0",
   "metadata": {},
   "source": [
    "### Passing dictionary in function using 'kwargs' = key value argument"
   ]
  },
  {
   "cell_type": "code",
   "execution_count": 117,
   "id": "b06e5429",
   "metadata": {},
   "outputs": [],
   "source": [
    "def test15(**kwargs):\n",
    "    return kwargs"
   ]
  },
  {
   "cell_type": "code",
   "execution_count": 118,
   "id": "017559bd",
   "metadata": {},
   "outputs": [
    {
     "data": {
      "text/plain": [
       "{}"
      ]
     },
     "execution_count": 118,
     "metadata": {},
     "output_type": "execute_result"
    }
   ],
   "source": [
    "test15()"
   ]
  },
  {
   "cell_type": "code",
   "execution_count": 119,
   "id": "9969b63a",
   "metadata": {},
   "outputs": [
    {
     "data": {
      "text/plain": [
       "dict"
      ]
     },
     "execution_count": 119,
     "metadata": {},
     "output_type": "execute_result"
    }
   ],
   "source": [
    "type(test15())"
   ]
  },
  {
   "cell_type": "code",
   "execution_count": 121,
   "id": "1866da76",
   "metadata": {},
   "outputs": [
    {
     "data": {
      "text/plain": [
       "{'a': [1, 2, 3, 4], 'b': 'har', 'c': 234.3}"
      ]
     },
     "execution_count": 121,
     "metadata": {},
     "output_type": "execute_result"
    }
   ],
   "source": [
    "test15(a=[1,2,3,4],b='har',c=234.3)"
   ]
  },
  {
   "cell_type": "code",
   "execution_count": null,
   "id": "1b4e096d",
   "metadata": {},
   "outputs": [],
   "source": []
  },
  {
   "cell_type": "code",
   "execution_count": null,
   "id": "5e3e5396",
   "metadata": {},
   "outputs": [],
   "source": []
  }
 ],
 "metadata": {
  "kernelspec": {
   "display_name": "Python 3 (ipykernel)",
   "language": "python",
   "name": "python3"
  },
  "language_info": {
   "codemirror_mode": {
    "name": "ipython",
    "version": 3
   },
   "file_extension": ".py",
   "mimetype": "text/x-python",
   "name": "python",
   "nbconvert_exporter": "python",
   "pygments_lexer": "ipython3",
   "version": "3.9.12"
  }
 },
 "nbformat": 4,
 "nbformat_minor": 5
}
