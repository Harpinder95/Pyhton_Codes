{
 "cells": [
  {
   "cell_type": "markdown",
   "id": "da750348",
   "metadata": {},
   "source": [
    "### While loop application"
   ]
  },
  {
   "cell_type": "markdown",
   "id": "079b2521",
   "metadata": {},
   "source": [
    "#### Find factorial"
   ]
  },
  {
   "cell_type": "code",
   "execution_count": 1,
   "id": "eb57ef75",
   "metadata": {},
   "outputs": [
    {
     "name": "stdout",
     "output_type": "stream",
     "text": [
      "Enter your number6\n"
     ]
    },
    {
     "data": {
      "text/plain": [
       "720"
      ]
     },
     "execution_count": 1,
     "metadata": {},
     "output_type": "execute_result"
    }
   ],
   "source": [
    "number = int(input(\"Enter your number\"))\n",
    "fact = 1\n",
    "while number>0:\n",
    "    fact = fact*number\n",
    "    number -=1\n",
    "fact"
   ]
  },
  {
   "cell_type": "markdown",
   "id": "af8be215",
   "metadata": {},
   "source": [
    "#### Fibbonnici series\n"
   ]
  },
  {
   "cell_type": "code",
   "execution_count": 2,
   "id": "80ae6d89",
   "metadata": {},
   "outputs": [
    {
     "name": "stdout",
     "output_type": "stream",
     "text": [
      "Enter the value of n for fibbinicci series : 5\n",
      "0 1 1 2 3 "
     ]
    }
   ],
   "source": [
    "n = int(input(\"Enter the value of n for fibbinicci series : \"))\n",
    "a,b=0,1\n",
    "fib =0\n",
    "while n>0:\n",
    "    fib=a+b \n",
    "    print(a,end=\" \")\n",
    "    a=b\n",
    "    b=fib\n",
    "    n -=1\n"
   ]
  },
  {
   "cell_type": "markdown",
   "id": "e1e1a9b8",
   "metadata": {},
   "source": [
    "#### Reverse string using while loop"
   ]
  },
  {
   "cell_type": "code",
   "execution_count": 3,
   "id": "8b08b75d",
   "metadata": {},
   "outputs": [
    {
     "name": "stdout",
     "output_type": "stream",
     "text": [
      "Enter your string for reversal: 6kjh\n",
      "hjk6\n"
     ]
    }
   ],
   "source": [
    "st = input(\"Enter your string for reversal: \")\n",
    "n = len(st)\n",
    "rev=\"\"\n",
    "while n!=0:\n",
    "    rev +=st[n-1]\n",
    "    n-=1\n",
    "print(rev)"
   ]
  },
  {
   "cell_type": "markdown",
   "id": "e75c41ac",
   "metadata": {},
   "source": [
    "#### Print Table of numbers"
   ]
  },
  {
   "cell_type": "code",
   "execution_count": 4,
   "id": "37c2c634",
   "metadata": {},
   "outputs": [
    {
     "name": "stdout",
     "output_type": "stream",
     "text": [
      "Which table you want to print: 58\n",
      "58 x 1 = 58\n",
      "58 x 2 = 116\n",
      "58 x 3 = 174\n",
      "58 x 4 = 232\n",
      "58 x 5 = 290\n",
      "58 x 6 = 348\n",
      "58 x 7 = 406\n",
      "58 x 8 = 464\n",
      "58 x 9 = 522\n",
      "58 x 10 = 580\n"
     ]
    }
   ],
   "source": [
    "n = int(input(\"Which table you want to print: \"))\n",
    "i=1\n",
    "while i <=10:\n",
    "    print(f\"{n} x {i} = {n*i}\")\n",
    "    i +=1"
   ]
  },
  {
   "cell_type": "markdown",
   "id": "d0a10871",
   "metadata": {},
   "source": [
    "## Comprehension"
   ]
  },
  {
   "cell_type": "markdown",
   "id": "79125ab9",
   "metadata": {},
   "source": [
    "#### List Comprehension"
   ]
  },
  {
   "cell_type": "code",
   "execution_count": 5,
   "id": "eda196cb",
   "metadata": {},
   "outputs": [
    {
     "data": {
      "text/plain": [
       "[1, 4, 9, 16, 25]"
      ]
     },
     "execution_count": 5,
     "metadata": {},
     "output_type": "execute_result"
    }
   ],
   "source": [
    "l=[1,2,3,4,5]\n",
    "\n",
    "[i**2 for i in l]"
   ]
  },
  {
   "cell_type": "code",
   "execution_count": 9,
   "id": "eb8a6d8d",
   "metadata": {},
   "outputs": [
    {
     "data": {
      "text/plain": [
       "[2, 4]"
      ]
     },
     "execution_count": 9,
     "metadata": {},
     "output_type": "execute_result"
    }
   ],
   "source": [
    "[i for i in l if i%2==0]"
   ]
  },
  {
   "cell_type": "code",
   "execution_count": 11,
   "id": "32248278",
   "metadata": {},
   "outputs": [
    {
     "data": {
      "text/plain": [
       "['HARRY', 'BETA', 'QAYXH']"
      ]
     },
     "execution_count": 11,
     "metadata": {},
     "output_type": "execute_result"
    }
   ],
   "source": [
    "l1 = [\"harry\",\"beta\",\"qayxh\"]\n",
    "[i.upper() for i in l1]"
   ]
  },
  {
   "cell_type": "code",
   "execution_count": 12,
   "id": "2e5efe11",
   "metadata": {},
   "outputs": [
    {
     "data": {
      "text/plain": [
       "[1, 2, 3, 4, 5]"
      ]
     },
     "execution_count": 12,
     "metadata": {},
     "output_type": "execute_result"
    }
   ],
   "source": [
    "l"
   ]
  },
  {
   "cell_type": "markdown",
   "id": "3dba2eeb",
   "metadata": {},
   "source": [
    "#### Tuple Comprehension"
   ]
  },
  {
   "cell_type": "code",
   "execution_count": 16,
   "id": "114ca1e3",
   "metadata": {},
   "outputs": [
    {
     "data": {
      "text/plain": [
       "[1, 4, 9, 16, 25]"
      ]
     },
     "execution_count": 16,
     "metadata": {},
     "output_type": "execute_result"
    }
   ],
   "source": [
    "list((i**2 for i in l))"
   ]
  },
  {
   "cell_type": "markdown",
   "id": "042d9a5c",
   "metadata": {},
   "source": [
    " ###  Dictionary comprehension"
   ]
  },
  {
   "cell_type": "code",
   "execution_count": 17,
   "id": "cb07cc8e",
   "metadata": {},
   "outputs": [],
   "source": [
    "d = {1:'a',2:'b',3:'c'}"
   ]
  },
  {
   "cell_type": "code",
   "execution_count": 20,
   "id": "e0310c34",
   "metadata": {},
   "outputs": [
    {
     "data": {
      "text/plain": [
       "{1: 'a', 4: 'b', 9: 'c'}"
      ]
     },
     "execution_count": 20,
     "metadata": {},
     "output_type": "execute_result"
    }
   ],
   "source": [
    "{k**2:v for k , v in d.items()}"
   ]
  },
  {
   "cell_type": "code",
   "execution_count": 24,
   "id": "d5002409",
   "metadata": {},
   "outputs": [
    {
     "data": {
      "text/plain": [
       "{2: 'b', 3: 'c'}"
      ]
     },
     "execution_count": 24,
     "metadata": {},
     "output_type": "execute_result"
    }
   ],
   "source": [
    "{k:v for k,v in d.items() if k>1}"
   ]
  }
 ],
 "metadata": {
  "kernelspec": {
   "display_name": "Python 3 (ipykernel)",
   "language": "python",
   "name": "python3"
  },
  "language_info": {
   "codemirror_mode": {
    "name": "ipython",
    "version": 3
   },
   "file_extension": ".py",
   "mimetype": "text/x-python",
   "name": "python",
   "nbconvert_exporter": "python",
   "pygments_lexer": "ipython3",
   "version": "3.9.12"
  }
 },
 "nbformat": 4,
 "nbformat_minor": 5
}
