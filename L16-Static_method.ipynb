{
 "cells": [
  {
   "cell_type": "code",
   "execution_count": 1,
   "id": "f9c42463",
   "metadata": {},
   "outputs": [],
   "source": [
    "class pwskills :\n",
    "    \n",
    "    def student_details(self, name, email, num):\n",
    "        print(name,  email, num)"
   ]
  },
  {
   "cell_type": "code",
   "execution_count": 4,
   "id": "cb38d631",
   "metadata": {},
   "outputs": [],
   "source": [
    "pw = pwskills()"
   ]
  },
  {
   "cell_type": "code",
   "execution_count": 5,
   "id": "e4850a8a",
   "metadata": {},
   "outputs": [
    {
     "name": "stdout",
     "output_type": "stream",
     "text": [
      "Harry abc@gmail.com 932829382\n"
     ]
    }
   ],
   "source": [
    "pw.student_details(\"Harry\",\"abc@gmail.com\",932829382)"
   ]
  },
  {
   "cell_type": "markdown",
   "id": "03d25496",
   "metadata": {},
   "source": [
    "##### Instead of using a function agian and again we can simply use static method"
   ]
  },
  {
   "cell_type": "markdown",
   "id": "457b2199",
   "metadata": {},
   "source": [
    "##### Static method decorator ,,, it is also called utility method"
   ]
  },
  {
   "cell_type": "code",
   "execution_count": 15,
   "id": "3dcbba28",
   "metadata": {},
   "outputs": [],
   "source": [
    "class pwskills1 :\n",
    "    \n",
    "    def student_details(self, name, email, num):\n",
    "        print(name,  email, num)\n",
    "        \n",
    "    @staticmethod\n",
    "    def mentor_class(list_mentor):\n",
    "        print(list_mentor)\n",
    "    \n",
    "    def mentor_list(self, mentor_list):\n",
    "        print(mentor_list)"
   ]
  },
  {
   "cell_type": "code",
   "execution_count": 16,
   "id": "b3fd77e7",
   "metadata": {},
   "outputs": [
    {
     "name": "stdout",
     "output_type": "stream",
     "text": [
      "['Harry', 'Dacis']\n"
     ]
    }
   ],
   "source": [
    "pwskills1.mentor_class([\"Harry\",\"Dacis\"])"
   ]
  },
  {
   "cell_type": "code",
   "execution_count": 17,
   "id": "02cf5454",
   "metadata": {},
   "outputs": [],
   "source": [
    "st1 = pwskills1()"
   ]
  },
  {
   "cell_type": "code",
   "execution_count": 18,
   "id": "02d6aab3",
   "metadata": {},
   "outputs": [
    {
     "name": "stdout",
     "output_type": "stream",
     "text": [
      "['Harry', 'krih']\n"
     ]
    }
   ],
   "source": [
    "st1.mentor_list([\"Harry\",\"krih\"])"
   ]
  },
  {
   "cell_type": "code",
   "execution_count": null,
   "id": "bd9223cc",
   "metadata": {},
   "outputs": [],
   "source": []
  },
  {
   "cell_type": "markdown",
   "id": "953f4812",
   "metadata": {},
   "source": [
    "#####  Calling static method from class method"
   ]
  },
  {
   "cell_type": "code",
   "execution_count": 29,
   "id": "9bdbbc15",
   "metadata": {},
   "outputs": [],
   "source": [
    "class pwskills2 :\n",
    "    \n",
    "    def student_details(self, name, email, num):\n",
    "        print(name,  email, num)\n",
    "        \n",
    "    @staticmethod\n",
    "    def mentor_mailid(mail_id):\n",
    "        print(mail_id)\n",
    "        \n",
    "    @staticmethod\n",
    "    def mentor_class(list_mentor):\n",
    "        pwskills2.mentor_mailid(\"harry@gmail.com\")\n",
    "        print(list_mentor)\n",
    "        \n",
    "    \n",
    "    @classmethod\n",
    "    def class_name(cls):\n",
    "        cls.mentor_class([\"Harry\",\"krih\"])\n",
    "    \n",
    "    def mentor_list(self, mentor_list):\n",
    "        print(mentor_list)\n",
    "        self.mentor_class([\"Harry\",\"krih\"])"
   ]
  },
  {
   "cell_type": "code",
   "execution_count": 30,
   "id": "23313da7",
   "metadata": {},
   "outputs": [
    {
     "name": "stdout",
     "output_type": "stream",
     "text": [
      "harry@gmail.com\n",
      "['Harry', 'krih']\n"
     ]
    }
   ],
   "source": [
    "pwskills2.class_name()"
   ]
  },
  {
   "cell_type": "markdown",
   "id": "b3a93b91",
   "metadata": {},
   "source": [
    "#####  Calling static method from static mehtod"
   ]
  },
  {
   "cell_type": "code",
   "execution_count": 31,
   "id": "247e305a",
   "metadata": {},
   "outputs": [
    {
     "name": "stdout",
     "output_type": "stream",
     "text": [
      "harry@gmail.com\n",
      "['Harry', 'krih']\n"
     ]
    }
   ],
   "source": [
    "pwskills2.mentor_class([\"Harry\",\"krih\"])"
   ]
  },
  {
   "cell_type": "markdown",
   "id": "7d202c36",
   "metadata": {},
   "source": [
    "##### Calling static method from instance method"
   ]
  },
  {
   "cell_type": "code",
   "execution_count": 32,
   "id": "961fceee",
   "metadata": {},
   "outputs": [],
   "source": [
    "pw = pwskills2()"
   ]
  },
  {
   "cell_type": "code",
   "execution_count": 33,
   "id": "0ed4360e",
   "metadata": {},
   "outputs": [
    {
     "name": "stdout",
     "output_type": "stream",
     "text": [
      "['Harry', 'krih']\n",
      "harry@gmail.com\n",
      "['Harry', 'krih']\n"
     ]
    }
   ],
   "source": [
    "pw.mentor_list([\"Harry\",\"krih\"])"
   ]
  },
  {
   "cell_type": "code",
   "execution_count": null,
   "id": "c15ab17c",
   "metadata": {},
   "outputs": [],
   "source": []
  }
 ],
 "metadata": {
  "kernelspec": {
   "display_name": "Python 3 (ipykernel)",
   "language": "python",
   "name": "python3"
  },
  "language_info": {
   "codemirror_mode": {
    "name": "ipython",
    "version": 3
   },
   "file_extension": ".py",
   "mimetype": "text/x-python",
   "name": "python",
   "nbconvert_exporter": "python",
   "pygments_lexer": "ipython3",
   "version": "3.9.12"
  }
 },
 "nbformat": 4,
 "nbformat_minor": 5
}
