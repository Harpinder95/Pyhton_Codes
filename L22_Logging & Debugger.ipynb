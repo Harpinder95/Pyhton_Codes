{
 "cells": [
  {
   "cell_type": "code",
   "execution_count": 1,
   "id": "65deeb3f",
   "metadata": {},
   "outputs": [
    {
     "name": "stdout",
     "output_type": "stream",
     "text": [
      "this is my print\n"
     ]
    }
   ],
   "source": [
    "print(\"this is my print\")"
   ]
  },
  {
   "cell_type": "markdown",
   "id": "faab7040",
   "metadata": {},
   "source": [
    " ##### we should use logging instead of printing to investigate the problem in future, because the print gave its data on the console and data held in main memory, which is not much usable"
   ]
  },
  {
   "cell_type": "code",
   "execution_count": 2,
   "id": "3b0ba270",
   "metadata": {},
   "outputs": [],
   "source": [
    "import logging"
   ]
  },
  {
   "cell_type": "markdown",
   "id": "ab4c801d",
   "metadata": {},
   "source": [
    "####  Set the basic configuration of logging"
   ]
  },
  {
   "cell_type": "code",
   "execution_count": 3,
   "id": "45d3af01",
   "metadata": {},
   "outputs": [
    {
     "name": "stdout",
     "output_type": "stream",
     "text": [
      "D:\\Programming\\PW Data Science\\Pyhton\\Text_Files\n"
     ]
    }
   ],
   "source": [
    "cd Text_Files"
   ]
  },
  {
   "cell_type": "code",
   "execution_count": 4,
   "id": "cc443837",
   "metadata": {},
   "outputs": [],
   "source": [
    "logging.basicConfig(filename = \"test.log\", level = logging.DEBUG , format = '%(asctime)s %(name)s %(message)s %(levelname)s %(lineno)s')"
   ]
  },
  {
   "cell_type": "code",
   "execution_count": 5,
   "id": "3876f506",
   "metadata": {},
   "outputs": [],
   "source": [
    "logging.info(\"Log this line of execution\")"
   ]
  },
  {
   "cell_type": "code",
   "execution_count": 6,
   "id": "aa18f224",
   "metadata": {},
   "outputs": [],
   "source": [
    "logging.info(\"This is my print\")"
   ]
  },
  {
   "cell_type": "markdown",
   "id": "489d7f9d",
   "metadata": {},
   "source": [
    "####  Levels in logging"
   ]
  },
  {
   "cell_type": "code",
   "execution_count": 7,
   "id": "a9f39b03",
   "metadata": {},
   "outputs": [],
   "source": [
    "# 1. NOTSET\n",
    "# 2. DEBUG\n",
    "# 3. INFO\n",
    "# 4. WARNING\n",
    "# 5. ERROR\n",
    "# 6. CRITICAL"
   ]
  },
  {
   "cell_type": "code",
   "execution_count": 8,
   "id": "066ad2a1",
   "metadata": {},
   "outputs": [],
   "source": [
    "logging.debug(\"this is my msg\")"
   ]
  },
  {
   "cell_type": "code",
   "execution_count": 9,
   "id": "863546ca",
   "metadata": {},
   "outputs": [],
   "source": [
    "logging.warning(\"this is my warning message\")"
   ]
  },
  {
   "cell_type": "code",
   "execution_count": 10,
   "id": "09d57e6b",
   "metadata": {},
   "outputs": [],
   "source": [
    "logging.error(\"this is my error\")"
   ]
  },
  {
   "cell_type": "code",
   "execution_count": 11,
   "id": "7a9edff5",
   "metadata": {},
   "outputs": [],
   "source": [
    "logging.critical(\"this is my critical msg\")"
   ]
  },
  {
   "cell_type": "code",
   "execution_count": 12,
   "id": "c79a22e8",
   "metadata": {},
   "outputs": [],
   "source": [
    "logging.shutdown()"
   ]
  },
  {
   "cell_type": "code",
   "execution_count": 13,
   "id": "b4cb624e",
   "metadata": {},
   "outputs": [],
   "source": [
    "logging.basicConfig(filename = 'tests1.log',level = logging.DEBUG, format = '%(asctime)s %(message)s')"
   ]
  },
  {
   "cell_type": "code",
   "execution_count": 14,
   "id": "44445d49",
   "metadata": {},
   "outputs": [],
   "source": [
    "logging.info(\"this is my info logging\")"
   ]
  },
  {
   "cell_type": "code",
   "execution_count": 15,
   "id": "d2cb004f",
   "metadata": {},
   "outputs": [],
   "source": [
    "logging.error(\"this is my error message\")"
   ]
  },
  {
   "cell_type": "code",
   "execution_count": 16,
   "id": "71ca7727",
   "metadata": {},
   "outputs": [],
   "source": [
    "logging.critical(\"this is my critical\")"
   ]
  },
  {
   "cell_type": "code",
   "execution_count": 17,
   "id": "e374afa0",
   "metadata": {},
   "outputs": [],
   "source": [
    "logging.shutdown()"
   ]
  },
  {
   "cell_type": "code",
   "execution_count": 18,
   "id": "15b20200",
   "metadata": {},
   "outputs": [],
   "source": [
    "logging.basicConfig(filename = 'test2.log', level = logging.DEBUG, format = '%(asctime)s %(name)s %(message)s %(levelname)s %(lineno)s')"
   ]
  },
  {
   "cell_type": "code",
   "execution_count": 19,
   "id": "ffc3b7ad",
   "metadata": {},
   "outputs": [],
   "source": [
    "logging.info(\"this is info file\")"
   ]
  },
  {
   "cell_type": "code",
   "execution_count": 20,
   "id": "5848edfb",
   "metadata": {},
   "outputs": [],
   "source": [
    "logging.error(\"this is error message\")"
   ]
  },
  {
   "cell_type": "code",
   "execution_count": null,
   "id": "32fe4e8c",
   "metadata": {},
   "outputs": [],
   "source": []
  },
  {
   "cell_type": "code",
   "execution_count": 21,
   "id": "113bf883",
   "metadata": {},
   "outputs": [],
   "source": [
    "l = [1,2,3,4,5,6,[2,4,3],\"sudh\",'hary']"
   ]
  },
  {
   "cell_type": "code",
   "execution_count": 32,
   "id": "b3dcb504",
   "metadata": {},
   "outputs": [],
   "source": [
    "l1 = []\n",
    "l2_str = []\n",
    "for i in l:\n",
    "    logging.info(\"we are iterating through our list and local variable i {}\" .format(l)) # we can also log l\n",
    "    if type(i) == list:\n",
    "        logging.info(\"i'm inside if statement and I'm trying to check list\" +str(i)) # we can also log i\n",
    "        for j in i:\n",
    "            logging.info(\"I am inside another for loop for list inside another list element\" + str(j)) # we can log j here\n",
    "            if type(j) == int:\n",
    "                logging.info(\"I am inside if statement\")\n",
    "                l1.append(j)\n",
    "    elif type(i) == int:\n",
    "        logging.info(\"I am inside another elif statement to check the remaining list\")\n",
    "        l1.append(i)\n",
    "    else:\n",
    "        logging.info(\"I'm inside the else statement\")\n",
    "        if type(i) == str:\n",
    "            l2_str.append(i)\n",
    "            \n",
    "logging.info(\"my final result for int is {l1} and str is {l2}\".format(l1 = l1, l2 = l2_str))"
   ]
  },
  {
   "cell_type": "code",
   "execution_count": 23,
   "id": "19a4c09f",
   "metadata": {},
   "outputs": [
    {
     "data": {
      "text/plain": [
       "[1, 2, 3, 4, 5, 6, 2, 4, 3]"
      ]
     },
     "execution_count": 23,
     "metadata": {},
     "output_type": "execute_result"
    }
   ],
   "source": [
    "l1"
   ]
  },
  {
   "cell_type": "code",
   "execution_count": 24,
   "id": "2ae64d88",
   "metadata": {},
   "outputs": [
    {
     "data": {
      "text/plain": [
       "['sudh', 'hary']"
      ]
     },
     "execution_count": 24,
     "metadata": {},
     "output_type": "execute_result"
    }
   ],
   "source": [
    "l2_str"
   ]
  },
  {
   "cell_type": "code",
   "execution_count": null,
   "id": "f6ff2c5b",
   "metadata": {},
   "outputs": [],
   "source": [
    " "
   ]
  }
 ],
 "metadata": {
  "kernelspec": {
   "display_name": "Python 3 (ipykernel)",
   "language": "python",
   "name": "python3"
  },
  "language_info": {
   "codemirror_mode": {
    "name": "ipython",
    "version": 3
   },
   "file_extension": ".py",
   "mimetype": "text/x-python",
   "name": "python",
   "nbconvert_exporter": "python",
   "pygments_lexer": "ipython3",
   "version": "3.9.12"
  }
 },
 "nbformat": 4,
 "nbformat_minor": 5
}
