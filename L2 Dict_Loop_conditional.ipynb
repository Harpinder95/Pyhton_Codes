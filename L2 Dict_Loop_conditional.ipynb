{
 "cells": [
  {
   "cell_type": "markdown",
   "id": "b312cb4b",
   "metadata": {},
   "source": [
    "## Dictonary"
   ]
  },
  {
   "cell_type": "code",
   "execution_count": 1,
   "id": "0a45d93e",
   "metadata": {},
   "outputs": [],
   "source": [
    "d = {}"
   ]
  },
  {
   "cell_type": "code",
   "execution_count": 2,
   "id": "043caba8",
   "metadata": {},
   "outputs": [
    {
     "data": {
      "text/plain": [
       "dict"
      ]
     },
     "execution_count": 2,
     "metadata": {},
     "output_type": "execute_result"
    }
   ],
   "source": [
    "type(d)"
   ]
  },
  {
   "cell_type": "markdown",
   "id": "04c21cc2",
   "metadata": {},
   "source": [
    "## key must be unique"
   ]
  },
  {
   "cell_type": "code",
   "execution_count": 4,
   "id": "696a5f44",
   "metadata": {},
   "outputs": [],
   "source": [
    "d1={'key':'value'}"
   ]
  },
  {
   "cell_type": "code",
   "execution_count": 5,
   "id": "47be8cd3",
   "metadata": {},
   "outputs": [
    {
     "data": {
      "text/plain": [
       "{'key': 'value'}"
      ]
     },
     "execution_count": 5,
     "metadata": {},
     "output_type": "execute_result"
    }
   ],
   "source": [
    "d1 "
   ]
  },
  {
   "cell_type": "code",
   "execution_count": 6,
   "id": "8c27ad56",
   "metadata": {},
   "outputs": [],
   "source": [
    "d2= {'name':'Harry','email':'abc@gmail.com','number':9394329939}"
   ]
  },
  {
   "cell_type": "code",
   "execution_count": 7,
   "id": "262ce627",
   "metadata": {},
   "outputs": [
    {
     "data": {
      "text/plain": [
       "{'name': 'Harry', 'email': 'abc@gmail.com', 'number': 9394329939}"
      ]
     },
     "execution_count": 7,
     "metadata": {},
     "output_type": "execute_result"
    }
   ],
   "source": [
    "d2"
   ]
  },
  {
   "cell_type": "code",
   "execution_count": 9,
   "id": "9d1b17b4",
   "metadata": {},
   "outputs": [
    {
     "data": {
      "text/plain": [
       "dict_values(['Harry', 'abc@gmail.com', 9394329939])"
      ]
     },
     "execution_count": 9,
     "metadata": {},
     "output_type": "execute_result"
    }
   ],
   "source": [
    "d2.values()"
   ]
  },
  {
   "cell_type": "code",
   "execution_count": 15,
   "id": "56724892",
   "metadata": {},
   "outputs": [],
   "source": [
    "d3={21:'ada',23:'fadf','@ajd':34,True:2343}"
   ]
  },
  {
   "cell_type": "code",
   "execution_count": 16,
   "id": "a7754a45",
   "metadata": {},
   "outputs": [
    {
     "data": {
      "text/plain": [
       "{21: 'ada', 23: 'fadf', '@ajd': 34, True: 2343}"
      ]
     },
     "execution_count": 16,
     "metadata": {},
     "output_type": "execute_result"
    }
   ],
   "source": [
    "d3"
   ]
  },
  {
   "cell_type": "code",
   "execution_count": 18,
   "id": "7fe6f74a",
   "metadata": {},
   "outputs": [
    {
     "data": {
      "text/plain": [
       "'ada'"
      ]
     },
     "execution_count": 18,
     "metadata": {},
     "output_type": "execute_result"
    }
   ],
   "source": [
    "d3[21]"
   ]
  },
  {
   "cell_type": "code",
   "execution_count": 19,
   "id": "32e7d2a0",
   "metadata": {},
   "outputs": [
    {
     "data": {
      "text/plain": [
       "2343"
      ]
     },
     "execution_count": 19,
     "metadata": {},
     "output_type": "execute_result"
    }
   ],
   "source": [
    "d3[True]"
   ]
  },
  {
   "cell_type": "code",
   "execution_count": 20,
   "id": "e5a12c97",
   "metadata": {},
   "outputs": [
    {
     "data": {
      "text/plain": [
       "2343"
      ]
     },
     "execution_count": 20,
     "metadata": {},
     "output_type": "execute_result"
    }
   ],
   "source": [
    "d3[1]"
   ]
  },
  {
   "cell_type": "markdown",
   "id": "67a90afa",
   "metadata": {},
   "source": [
    "### In the case of Duplicate keys it always took the last key-value pair"
   ]
  },
  {
   "cell_type": "code",
   "execution_count": 21,
   "id": "af53cfcc",
   "metadata": {},
   "outputs": [],
   "source": [
    "d4={'name':'har','mail_id':'abc@mail','name':'harry'}"
   ]
  },
  {
   "cell_type": "code",
   "execution_count": 22,
   "id": "0b31ef89",
   "metadata": {},
   "outputs": [
    {
     "data": {
      "text/plain": [
       "'harry'"
      ]
     },
     "execution_count": 22,
     "metadata": {},
     "output_type": "execute_result"
    }
   ],
   "source": [
    "d4['name']"
   ]
  },
  {
   "cell_type": "code",
   "execution_count": 25,
   "id": "e9aed8e7",
   "metadata": {},
   "outputs": [],
   "source": [
    "d5={'company':'ASN','course':['web devop','data science','system design']}"
   ]
  },
  {
   "cell_type": "code",
   "execution_count": 26,
   "id": "5f7d58f8",
   "metadata": {},
   "outputs": [
    {
     "data": {
      "text/plain": [
       "{'company': 'ASN', 'course': ['web devop', 'data science', 'system design']}"
      ]
     },
     "execution_count": 26,
     "metadata": {},
     "output_type": "execute_result"
    }
   ],
   "source": [
    "d5"
   ]
  },
  {
   "cell_type": "code",
   "execution_count": 27,
   "id": "fd91c003",
   "metadata": {},
   "outputs": [
    {
     "data": {
      "text/plain": [
       "['web devop', 'data science', 'system design']"
      ]
     },
     "execution_count": 27,
     "metadata": {},
     "output_type": "execute_result"
    }
   ],
   "source": [
    "d5['course']"
   ]
  },
  {
   "cell_type": "code",
   "execution_count": 28,
   "id": "a60f119d",
   "metadata": {},
   "outputs": [
    {
     "data": {
      "text/plain": [
       "'system design'"
      ]
     },
     "execution_count": 28,
     "metadata": {},
     "output_type": "execute_result"
    }
   ],
   "source": [
    "d5['course'][2]"
   ]
  },
  {
   "cell_type": "code",
   "execution_count": 40,
   "id": "0a1b5352",
   "metadata": {},
   "outputs": [],
   "source": [
    "d6={'number':[2,42,52,5,2,1,3],'assignment':(2,3,4,5,32,45),'launch date':{23,3,5}, 'class':{'web dev':8,'data science':3,'system design':7}}"
   ]
  },
  {
   "cell_type": "code",
   "execution_count": 41,
   "id": "1dba834a",
   "metadata": {},
   "outputs": [
    {
     "data": {
      "text/plain": [
       "{'number': [2, 42, 52, 5, 2, 1, 3],\n",
       " 'assignment': (2, 3, 4, 5, 32, 45),\n",
       " 'launch date': {3, 5, 23},\n",
       " 'class': {'web dev': 8, 'data science': 3, 'system design': 7}}"
      ]
     },
     "execution_count": 41,
     "metadata": {},
     "output_type": "execute_result"
    }
   ],
   "source": [
    "d6"
   ]
  },
  {
   "cell_type": "code",
   "execution_count": 35,
   "id": "00ee1cd7",
   "metadata": {},
   "outputs": [
    {
     "data": {
      "text/plain": [
       "(2, 3, 4, 5, 32, 45)"
      ]
     },
     "execution_count": 35,
     "metadata": {},
     "output_type": "execute_result"
    }
   ],
   "source": [
    "d6['assignment']"
   ]
  },
  {
   "cell_type": "code",
   "execution_count": 36,
   "id": "df1b8699",
   "metadata": {},
   "outputs": [
    {
     "data": {
      "text/plain": [
       "5"
      ]
     },
     "execution_count": 36,
     "metadata": {},
     "output_type": "execute_result"
    }
   ],
   "source": [
    "d6['assignment'][3]"
   ]
  },
  {
   "cell_type": "code",
   "execution_count": 39,
   "id": "ca461058",
   "metadata": {},
   "outputs": [
    {
     "data": {
      "text/plain": [
       "{3, 5, 23}"
      ]
     },
     "execution_count": 39,
     "metadata": {},
     "output_type": "execute_result"
    }
   ],
   "source": [
    "d6['launch date']"
   ]
  },
  {
   "cell_type": "code",
   "execution_count": 42,
   "id": "3f15add6",
   "metadata": {},
   "outputs": [
    {
     "data": {
      "text/plain": [
       "{'number': [2, 42, 52, 5, 2, 1, 3],\n",
       " 'assignment': (2, 3, 4, 5, 32, 45),\n",
       " 'launch date': {3, 5, 23},\n",
       " 'class': {'web dev': 8, 'data science': 3, 'system design': 7}}"
      ]
     },
     "execution_count": 42,
     "metadata": {},
     "output_type": "execute_result"
    }
   ],
   "source": [
    "d6"
   ]
  },
  {
   "cell_type": "code",
   "execution_count": 43,
   "id": "90ebae3e",
   "metadata": {},
   "outputs": [
    {
     "data": {
      "text/plain": [
       "7"
      ]
     },
     "execution_count": 43,
     "metadata": {},
     "output_type": "execute_result"
    }
   ],
   "source": [
    "d6['class']['system design']"
   ]
  },
  {
   "cell_type": "code",
   "execution_count": 44,
   "id": "564b7a05",
   "metadata": {},
   "outputs": [],
   "source": [
    "d6['Mentor']=['Harry','amit','krish','avion']"
   ]
  },
  {
   "cell_type": "code",
   "execution_count": 45,
   "id": "711ca373",
   "metadata": {},
   "outputs": [
    {
     "data": {
      "text/plain": [
       "{'number': [2, 42, 52, 5, 2, 1, 3],\n",
       " 'assignment': (2, 3, 4, 5, 32, 45),\n",
       " 'launch date': {3, 5, 23},\n",
       " 'class': {'web dev': 8, 'data science': 3, 'system design': 7},\n",
       " 'Mentor': ['Harry', 'amit', 'krish', 'avion']}"
      ]
     },
     "execution_count": 45,
     "metadata": {},
     "output_type": "execute_result"
    }
   ],
   "source": [
    "d6"
   ]
  },
  {
   "cell_type": "code",
   "execution_count": 46,
   "id": "34d984d0",
   "metadata": {},
   "outputs": [],
   "source": [
    "del d6['number']"
   ]
  },
  {
   "cell_type": "code",
   "execution_count": 47,
   "id": "bcb765f6",
   "metadata": {},
   "outputs": [
    {
     "data": {
      "text/plain": [
       "{'assignment': (2, 3, 4, 5, 32, 45),\n",
       " 'launch date': {3, 5, 23},\n",
       " 'class': {'web dev': 8, 'data science': 3, 'system design': 7},\n",
       " 'Mentor': ['Harry', 'amit', 'krish', 'avion']}"
      ]
     },
     "execution_count": 47,
     "metadata": {},
     "output_type": "execute_result"
    }
   ],
   "source": [
    "d6"
   ]
  },
  {
   "cell_type": "code",
   "execution_count": 49,
   "id": "79ac15c8",
   "metadata": {},
   "outputs": [
    {
     "data": {
      "text/plain": [
       "dict_keys(['assignment', 'launch date', 'class', 'Mentor'])"
      ]
     },
     "execution_count": 49,
     "metadata": {},
     "output_type": "execute_result"
    }
   ],
   "source": [
    "d6.keys()"
   ]
  },
  {
   "cell_type": "code",
   "execution_count": 51,
   "id": "c38a28ea",
   "metadata": {},
   "outputs": [
    {
     "data": {
      "text/plain": [
       "['assignment', 'launch date', 'class', 'Mentor']"
      ]
     },
     "execution_count": 51,
     "metadata": {},
     "output_type": "execute_result"
    }
   ],
   "source": [
    "list(d6.keys())"
   ]
  },
  {
   "cell_type": "code",
   "execution_count": 52,
   "id": "7bcd9a3c",
   "metadata": {},
   "outputs": [
    {
     "data": {
      "text/plain": [
       "[(2, 3, 4, 5, 32, 45),\n",
       " {3, 5, 23},\n",
       " {'web dev': 8, 'data science': 3, 'system design': 7},\n",
       " ['Harry', 'amit', 'krish', 'avion']]"
      ]
     },
     "execution_count": 52,
     "metadata": {},
     "output_type": "execute_result"
    }
   ],
   "source": [
    "list(d6.values())"
   ]
  },
  {
   "cell_type": "code",
   "execution_count": 58,
   "id": "0b651bf3",
   "metadata": {},
   "outputs": [
    {
     "data": {
      "text/plain": [
       "[('assignment', (2, 3, 4, 5, 32, 45)),\n",
       " ('launch date', {3, 5, 23}),\n",
       " ('class', {'web dev': 8, 'data science': 3, 'system design': 7}),\n",
       " ('Mentor', ['Harry', 'amit', 'krish', 'avion'])]"
      ]
     },
     "execution_count": 58,
     "metadata": {},
     "output_type": "execute_result"
    }
   ],
   "source": [
    "list(d6.items())"
   ]
  },
  {
   "cell_type": "code",
   "execution_count": 59,
   "id": "ed6691c1",
   "metadata": {},
   "outputs": [
    {
     "data": {
      "text/plain": [
       "(2, 3, 4, 5, 32, 45)"
      ]
     },
     "execution_count": 59,
     "metadata": {},
     "output_type": "execute_result"
    }
   ],
   "source": [
    "d6.pop('assignment')"
   ]
  },
  {
   "cell_type": "code",
   "execution_count": 60,
   "id": "0f919956",
   "metadata": {},
   "outputs": [
    {
     "data": {
      "text/plain": [
       "{'launch date': {3, 5, 23},\n",
       " 'class': {'web dev': 8, 'data science': 3, 'system design': 7},\n",
       " 'Mentor': ['Harry', 'amit', 'krish', 'avion']}"
      ]
     },
     "execution_count": 60,
     "metadata": {},
     "output_type": "execute_result"
    }
   ],
   "source": [
    "d6"
   ]
  },
  {
   "cell_type": "markdown",
   "id": "b7925e40",
   "metadata": {},
   "source": [
    "### Condition & looping"
   ]
  },
  {
   "cell_type": "code",
   "execution_count": 63,
   "id": "7e8938a3",
   "metadata": {},
   "outputs": [],
   "source": [
    "l= ['abc','bdf','sadf']\n",
    "ls=[]"
   ]
  },
  {
   "cell_type": "code",
   "execution_count": 64,
   "id": "2cbfdc36",
   "metadata": {},
   "outputs": [],
   "source": [
    "for i in l:\n",
    "    ls.append(i.upper())"
   ]
  },
  {
   "cell_type": "code",
   "execution_count": 65,
   "id": "543de869",
   "metadata": {},
   "outputs": [
    {
     "data": {
      "text/plain": [
       "['ABC', 'BDF', 'SADF']"
      ]
     },
     "execution_count": 65,
     "metadata": {},
     "output_type": "execute_result"
    }
   ],
   "source": [
    "ls"
   ]
  },
  {
   "cell_type": "markdown",
   "id": "79772b7f",
   "metadata": {},
   "source": [
    "## Filter the list using loop and condition"
   ]
  },
  {
   "cell_type": "code",
   "execution_count": 67,
   "id": "cc7b7c40",
   "metadata": {},
   "outputs": [],
   "source": [
    "l = [1,2,3,4,5,\"asdad\",'sda',232,32.23,12+2j]\n",
    "ln=[]\n",
    "ls=[]"
   ]
  },
  {
   "cell_type": "code",
   "execution_count": 71,
   "id": "049fb963",
   "metadata": {},
   "outputs": [],
   "source": [
    "for i in l:\n",
    "    if type(i) == int or type(i)==float or type(i)==complex:\n",
    "        ln.append(i)\n",
    "    elif type(i)==str:\n",
    "        ls.append(i)"
   ]
  },
  {
   "cell_type": "code",
   "execution_count": 72,
   "id": "bb51d6b8",
   "metadata": {},
   "outputs": [
    {
     "data": {
      "text/plain": [
       "[1, 2, 3, 4, 5, 232, 32.23, (12+2j)]"
      ]
     },
     "execution_count": 72,
     "metadata": {},
     "output_type": "execute_result"
    }
   ],
   "source": [
    "ln"
   ]
  },
  {
   "cell_type": "code",
   "execution_count": 73,
   "id": "bd0aaa7f",
   "metadata": {},
   "outputs": [
    {
     "data": {
      "text/plain": [
       "['asdad', 'sda']"
      ]
     },
     "execution_count": 73,
     "metadata": {},
     "output_type": "execute_result"
    }
   ],
   "source": [
    "ls"
   ]
  },
  {
   "cell_type": "code",
   "execution_count": null,
   "id": "352f58bc",
   "metadata": {},
   "outputs": [],
   "source": []
  },
  {
   "cell_type": "code",
   "execution_count": null,
   "id": "ecc9e58f",
   "metadata": {},
   "outputs": [],
   "source": []
  },
  {
   "cell_type": "code",
   "execution_count": null,
   "id": "8d21404a",
   "metadata": {},
   "outputs": [],
   "source": []
  },
  {
   "cell_type": "code",
   "execution_count": null,
   "id": "8081ffa8",
   "metadata": {},
   "outputs": [],
   "source": []
  },
  {
   "cell_type": "code",
   "execution_count": null,
   "id": "423848c5",
   "metadata": {},
   "outputs": [],
   "source": []
  },
  {
   "cell_type": "code",
   "execution_count": null,
   "id": "924eb892",
   "metadata": {},
   "outputs": [],
   "source": []
  },
  {
   "cell_type": "code",
   "execution_count": null,
   "id": "a9480a54",
   "metadata": {},
   "outputs": [],
   "source": []
  },
  {
   "cell_type": "code",
   "execution_count": null,
   "id": "273ba34b",
   "metadata": {},
   "outputs": [],
   "source": []
  },
  {
   "cell_type": "code",
   "execution_count": null,
   "id": "b38a1581",
   "metadata": {},
   "outputs": [],
   "source": []
  },
  {
   "cell_type": "code",
   "execution_count": null,
   "id": "f34d4684",
   "metadata": {},
   "outputs": [],
   "source": []
  },
  {
   "cell_type": "code",
   "execution_count": null,
   "id": "f1390e3e",
   "metadata": {},
   "outputs": [],
   "source": []
  },
  {
   "cell_type": "code",
   "execution_count": null,
   "id": "39af8fdc",
   "metadata": {},
   "outputs": [],
   "source": []
  },
  {
   "cell_type": "code",
   "execution_count": null,
   "id": "3be0bce2",
   "metadata": {},
   "outputs": [],
   "source": []
  },
  {
   "cell_type": "code",
   "execution_count": null,
   "id": "96614bb0",
   "metadata": {},
   "outputs": [],
   "source": []
  },
  {
   "cell_type": "code",
   "execution_count": null,
   "id": "80237da1",
   "metadata": {},
   "outputs": [],
   "source": []
  },
  {
   "cell_type": "code",
   "execution_count": null,
   "id": "1e882770",
   "metadata": {},
   "outputs": [],
   "source": []
  }
 ],
 "metadata": {
  "kernelspec": {
   "display_name": "Python 3 (ipykernel)",
   "language": "python",
   "name": "python3"
  },
  "language_info": {
   "codemirror_mode": {
    "name": "ipython",
    "version": 3
   },
   "file_extension": ".py",
   "mimetype": "text/x-python",
   "name": "python",
   "nbconvert_exporter": "python",
   "pygments_lexer": "ipython3",
   "version": "3.9.12"
  }
 },
 "nbformat": 4,
 "nbformat_minor": 5
}
