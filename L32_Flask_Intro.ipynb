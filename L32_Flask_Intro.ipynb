{
 "cells": [
  {
   "cell_type": "code",
   "execution_count": 43,
   "id": "6f194d85",
   "metadata": {},
   "outputs": [],
   "source": [
    "from flask import Flask\n",
    "from flask import request"
   ]
  },
  {
   "cell_type": "code",
   "execution_count": 39,
   "id": "b029b69e",
   "metadata": {},
   "outputs": [],
   "source": [
    "app = Flask(__name__)"
   ]
  },
  {
   "cell_type": "code",
   "execution_count": 40,
   "id": "274b85b1",
   "metadata": {},
   "outputs": [],
   "source": [
    "@app.route(\"/\")\n",
    "def hello_world():\n",
    "    return \"<h1> Hello World </h1>\"\n",
    "\n"
   ]
  },
  {
   "cell_type": "code",
   "execution_count": 41,
   "id": "7ae521a6",
   "metadata": {},
   "outputs": [],
   "source": [
    "@app.route(\"/hello_world1\")\n",
    "def hello_world1():\n",
    "    return \"<h1> Hello World 1</h1>\"\n",
    "\n",
    "@app.route(\"/hello_world2\")\n",
    "def hello_world2():\n",
    "    return \"<h1> Hello World 2</h1>\"\n",
    "@app.route(\"/test\")\n",
    "def test():\n",
    "    a = 5+6\n",
    "    return \"This is my function to run app {}\".format(a)"
   ]
  },
  {
   "cell_type": "code",
   "execution_count": 44,
   "id": "1d8426f0",
   "metadata": {},
   "outputs": [],
   "source": [
    "@app.route(\"/test2\")\n",
    "def test2():\n",
    "    data = request.args.get('x')\n",
    "    return \"this is a data input from my url {}\".format(data)"
   ]
  },
  {
   "cell_type": "code",
   "execution_count": null,
   "id": "25acb0d3",
   "metadata": {},
   "outputs": [
    {
     "name": "stdout",
     "output_type": "stream",
     "text": [
      " * Serving Flask app \"__main__\" (lazy loading)\n",
      " * Environment: production\n",
      "\u001b[31m   WARNING: This is a development server. Do not use it in a production deployment.\u001b[0m\n",
      "\u001b[2m   Use a production WSGI server instead.\u001b[0m\n",
      " * Debug mode: off\n"
     ]
    },
    {
     "name": "stderr",
     "output_type": "stream",
     "text": [
      " * Running on all addresses.\n",
      "   WARNING: This is a development server. Do not use it in a production deployment.\n",
      " * Running on http://192.168.43.45:5000/ (Press CTRL+C to quit)\n",
      "192.168.43.45 - - [08/Apr/2023 12:57:51] \"GET / HTTP/1.1\" 200 -\n",
      "192.168.43.45 - - [08/Apr/2023 12:57:56] \"GET /test HTTP/1.1\" 200 -\n",
      "192.168.43.45 - - [08/Apr/2023 12:58:08] \"GET /test2 HTTP/1.1\" 200 -\n",
      "192.168.43.45 - - [08/Apr/2023 14:20:40] \"GET /test2?x=%27harry%27 HTTP/1.1\" 200 -\n",
      "192.168.43.45 - - [08/Apr/2023 14:21:10] \"GET /test2?x=%27harry%27 HTTP/1.1\" 200 -\n",
      "192.168.43.45 - - [08/Apr/2023 14:21:27] \"GET /test2?x=%27data%20+%20science%27 HTTP/1.1\" 200 -\n"
     ]
    }
   ],
   "source": [
    "if __name__==\"__main__\":\n",
    "    app.run(host = \"0.0.0.0\")"
   ]
  },
  {
   "cell_type": "code",
   "execution_count": null,
   "id": "c5e25300",
   "metadata": {},
   "outputs": [],
   "source": []
  }
 ],
 "metadata": {
  "kernelspec": {
   "display_name": "Python 3 (ipykernel)",
   "language": "python",
   "name": "python3"
  },
  "language_info": {
   "codemirror_mode": {
    "name": "ipython",
    "version": 3
   },
   "file_extension": ".py",
   "mimetype": "text/x-python",
   "name": "python",
   "nbconvert_exporter": "python",
   "pygments_lexer": "ipython3",
   "version": "3.9.12"
  }
 },
 "nbformat": 4,
 "nbformat_minor": 5
}
