{
 "cells": [
  {
   "cell_type": "code",
   "execution_count": 1,
   "id": "4bd351c7",
   "metadata": {},
   "outputs": [],
   "source": [
    "def test(a,b):\n",
    "    return a+b"
   ]
  },
  {
   "cell_type": "code",
   "execution_count": 2,
   "id": "f5943425",
   "metadata": {},
   "outputs": [
    {
     "data": {
      "text/plain": [
       "4"
      ]
     },
     "execution_count": 2,
     "metadata": {},
     "output_type": "execute_result"
    }
   ],
   "source": [
    "test(1,3)"
   ]
  },
  {
   "cell_type": "code",
   "execution_count": 3,
   "id": "f62f471d",
   "metadata": {},
   "outputs": [
    {
     "data": {
      "text/plain": [
       "'abaqwq'"
      ]
     },
     "execution_count": 3,
     "metadata": {},
     "output_type": "execute_result"
    }
   ],
   "source": [
    "test(\"aba\",\"qwq\")"
   ]
  },
  {
   "cell_type": "code",
   "execution_count": 4,
   "id": "35ae13bb",
   "metadata": {},
   "outputs": [
    {
     "data": {
      "text/plain": [
       "[1, 2, 3, 4, 2, 3, 4, 5]"
      ]
     },
     "execution_count": 4,
     "metadata": {},
     "output_type": "execute_result"
    }
   ],
   "source": [
    "test([1,2,3,4],[2,3,4,5])"
   ]
  },
  {
   "cell_type": "code",
   "execution_count": 5,
   "id": "3762ae10",
   "metadata": {},
   "outputs": [],
   "source": [
    "class data_science:\n",
    "    \n",
    "    def syllabus(self):\n",
    "        print(\"this is my syllabus for data science masters\")"
   ]
  },
  {
   "cell_type": "code",
   "execution_count": 19,
   "id": "df095b77",
   "metadata": {},
   "outputs": [],
   "source": [
    "class web_dev:\n",
    "    \n",
    "    def syllabus(self):\n",
    "        print(\"This is my syllabus for web dev\")"
   ]
  },
  {
   "cell_type": "code",
   "execution_count": 20,
   "id": "46470995",
   "metadata": {},
   "outputs": [],
   "source": [
    "def clas_parcer(class_object):\n",
    "    for i in class_object:\n",
    "        i.syllabus()\n"
   ]
  },
  {
   "cell_type": "code",
   "execution_count": 21,
   "id": "16956c1d",
   "metadata": {},
   "outputs": [],
   "source": [
    "data_sci = data_science()"
   ]
  },
  {
   "cell_type": "code",
   "execution_count": 22,
   "id": "febfe4c7",
   "metadata": {},
   "outputs": [],
   "source": [
    "wb_dev = web_dev()\n"
   ]
  },
  {
   "cell_type": "code",
   "execution_count": 24,
   "id": "1d2c8ae5",
   "metadata": {},
   "outputs": [],
   "source": [
    "class_obj = [data_sci,wb_dev]"
   ]
  },
  {
   "cell_type": "code",
   "execution_count": 25,
   "id": "b599b0f7",
   "metadata": {},
   "outputs": [
    {
     "name": "stdout",
     "output_type": "stream",
     "text": [
      "this is my syllabus for data science masters\n",
      "This is my syllabus for web dev\n"
     ]
    }
   ],
   "source": [
    "clas_parcer(class_obj)"
   ]
  },
  {
   "cell_type": "code",
   "execution_count": null,
   "id": "8d445b5a",
   "metadata": {},
   "outputs": [],
   "source": []
  }
 ],
 "metadata": {
  "kernelspec": {
   "display_name": "Python 3 (ipykernel)",
   "language": "python",
   "name": "python3"
  },
  "language_info": {
   "codemirror_mode": {
    "name": "ipython",
    "version": 3
   },
   "file_extension": ".py",
   "mimetype": "text/x-python",
   "name": "python",
   "nbconvert_exporter": "python",
   "pygments_lexer": "ipython3",
   "version": "3.9.12"
  }
 },
 "nbformat": 4,
 "nbformat_minor": 5
}
