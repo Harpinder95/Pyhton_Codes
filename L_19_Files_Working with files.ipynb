{
 "cells": [
  {
   "cell_type": "code",
   "execution_count": 7,
   "id": "33f5e604",
   "metadata": {},
   "outputs": [],
   "source": [
    "f = open(\"test.txt\",\"w\")"
   ]
  },
  {
   "cell_type": "code",
   "execution_count": 8,
   "id": "29ad2a1f",
   "metadata": {},
   "outputs": [
    {
     "data": {
      "text/plain": [
       "'D:\\\\Programming\\\\PW Data Science\\\\Pyhton\\\\Text_Files'"
      ]
     },
     "execution_count": 8,
     "metadata": {},
     "output_type": "execute_result"
    }
   ],
   "source": [
    "pwd"
   ]
  },
  {
   "cell_type": "code",
   "execution_count": 5,
   "id": "9aa1296d",
   "metadata": {},
   "outputs": [
    {
     "name": "stdout",
     "output_type": "stream",
     "text": [
      "D:\\Programming\\PW Data Science\\Pyhton\\Text_Files\n"
     ]
    }
   ],
   "source": [
    "cd Text_Files"
   ]
  },
  {
   "cell_type": "code",
   "execution_count": 9,
   "id": "338830eb",
   "metadata": {},
   "outputs": [
    {
     "name": "stdout",
     "output_type": "stream",
     "text": [
      " Volume in drive D is Data\n",
      " Volume Serial Number is 8A8B-7EE2\n",
      "\n",
      " Directory of D:\\Programming\\PW Data Science\\Pyhton\\Text_Files\n",
      "\n",
      "06-03-2023  12:28    <DIR>          .\n",
      "06-03-2023  12:28    <DIR>          ..\n",
      "06-03-2023  12:28                 0 test.txt\n",
      "               1 File(s)              0 bytes\n",
      "               2 Dir(s)  746,486,902,784 bytes free\n"
     ]
    }
   ],
   "source": [
    "ls"
   ]
  },
  {
   "cell_type": "code",
   "execution_count": 10,
   "id": "68003e33",
   "metadata": {},
   "outputs": [
    {
     "data": {
      "text/plain": [
       "21"
      ]
     },
     "execution_count": 10,
     "metadata": {},
     "output_type": "execute_result"
    }
   ],
   "source": [
    "f.write(\"This is my first file\")"
   ]
  },
  {
   "cell_type": "code",
   "execution_count": 11,
   "id": "d73a77b8",
   "metadata": {},
   "outputs": [],
   "source": [
    "f.close()"
   ]
  },
  {
   "cell_type": "code",
   "execution_count": 13,
   "id": "be7bbfef",
   "metadata": {},
   "outputs": [],
   "source": [
    "f = open(\"test.txt\",\"w\")"
   ]
  },
  {
   "cell_type": "code",
   "execution_count": 14,
   "id": "a8b591ad",
   "metadata": {},
   "outputs": [
    {
     "data": {
      "text/plain": [
       "15"
      ]
     },
     "execution_count": 14,
     "metadata": {},
     "output_type": "execute_result"
    }
   ],
   "source": [
    "f.write(\"This is my file\")"
   ]
  },
  {
   "cell_type": "code",
   "execution_count": 15,
   "id": "75d3d107",
   "metadata": {},
   "outputs": [],
   "source": [
    "f.close()"
   ]
  },
  {
   "cell_type": "code",
   "execution_count": 42,
   "id": "33160771",
   "metadata": {},
   "outputs": [],
   "source": [
    "f = open(\"test.txt\",\"a\")"
   ]
  },
  {
   "cell_type": "code",
   "execution_count": 43,
   "id": "63d57c08",
   "metadata": {},
   "outputs": [
    {
     "data": {
      "text/plain": [
       "902"
      ]
     },
     "execution_count": 43,
     "metadata": {},
     "output_type": "execute_result"
    }
   ],
   "source": [
    "f.write(\"Knoppix is an astoundingly clever product. It runs Linux completely from a CD, DVD or USB drive. There is no need to install. It bypasses all the software already installed on your PC or laptop and automatically detects the hardware in your computer (subject to suitable hardware). When you've finished using Knoppix, simply restart. Your computer will return to your regular system, and it will behave as if nothing has happened. Knoppix is Free Software and open source under the terms of the GNU General Public License (GPL).This beginner-friendly book is designed to help with these situations:You can't start Windows! Disaster? Possibly not. It is often possible to rescue files using Knoppix from crashed Windows computers, even when Windows cannot be started. This guide takes you step by step through the process.You are curious about Linux, and you want to discover what all the fuss is about.\")"
   ]
  },
  {
   "cell_type": "code",
   "execution_count": 44,
   "id": "74daed14",
   "metadata": {},
   "outputs": [],
   "source": [
    "f.close()"
   ]
  },
  {
   "cell_type": "code",
   "execution_count": 45,
   "id": "7b7d2bed",
   "metadata": {},
   "outputs": [],
   "source": [
    "data = open(\"test.txt\",\"r\")"
   ]
  },
  {
   "cell_type": "code",
   "execution_count": 46,
   "id": "023b7612",
   "metadata": {},
   "outputs": [
    {
     "data": {
      "text/plain": [
       "\"This is my fileThis would be added at the endKnoppix is an astoundingly clever product. It runs Linux completely from a CD, DVD or USB drive. There is no need to install. It bypasses all the software already installed on your PC or laptop and automatically detects the hardware in your computer (subject to suitable hardware). When you've finished using Knoppix, simply restart. Your computer will return to your regular system, and it will behave as if nothing has happened. Knoppix is Free Software and open source under the terms of the GNU General Public License (GPL).This beginner-friendly book is designed to help with these situations:You can't start Windows! Disaster? Possibly not. It is often possible to rescue files using Knoppix from crashed Windows computers, even when Windows cannot be started. This guide takes you step by step through the process.You are curious about Linux, and you want to discover what all the fuss is about.\""
      ]
     },
     "execution_count": 46,
     "metadata": {},
     "output_type": "execute_result"
    }
   ],
   "source": [
    "data.read()"
   ]
  },
  {
   "cell_type": "code",
   "execution_count": 47,
   "id": "1ca3ea41",
   "metadata": {},
   "outputs": [
    {
     "data": {
      "text/plain": [
       "''"
      ]
     },
     "execution_count": 47,
     "metadata": {},
     "output_type": "execute_result"
    }
   ],
   "source": [
    "data.readline()"
   ]
  },
  {
   "cell_type": "markdown",
   "id": "c84038a8",
   "metadata": {},
   "source": [
    "#####  Seek method is used to set the pointer at the given position"
   ]
  },
  {
   "cell_type": "code",
   "execution_count": 48,
   "id": "f4ec5469",
   "metadata": {},
   "outputs": [
    {
     "data": {
      "text/plain": [
       "0"
      ]
     },
     "execution_count": 48,
     "metadata": {},
     "output_type": "execute_result"
    }
   ],
   "source": [
    "data.seek(0)"
   ]
  },
  {
   "cell_type": "code",
   "execution_count": 49,
   "id": "eed472d5",
   "metadata": {},
   "outputs": [
    {
     "data": {
      "text/plain": [
       "10"
      ]
     },
     "execution_count": 49,
     "metadata": {},
     "output_type": "execute_result"
    }
   ],
   "source": [
    "data.seek(10)"
   ]
  },
  {
   "cell_type": "code",
   "execution_count": 50,
   "id": "5b31498d",
   "metadata": {},
   "outputs": [
    {
     "data": {
      "text/plain": [
       "\" fileThis would be added at the endKnoppix is an astoundingly clever product. It runs Linux completely from a CD, DVD or USB drive. There is no need to install. It bypasses all the software already installed on your PC or laptop and automatically detects the hardware in your computer (subject to suitable hardware). When you've finished using Knoppix, simply restart. Your computer will return to your regular system, and it will behave as if nothing has happened. Knoppix is Free Software and open source under the terms of the GNU General Public License (GPL).This beginner-friendly book is designed to help with these situations:You can't start Windows! Disaster? Possibly not. It is often possible to rescue files using Knoppix from crashed Windows computers, even when Windows cannot be started. This guide takes you step by step through the process.You are curious about Linux, and you want to discover what all the fuss is about.\""
      ]
     },
     "execution_count": 50,
     "metadata": {},
     "output_type": "execute_result"
    }
   ],
   "source": [
    "data.read()"
   ]
  },
  {
   "cell_type": "code",
   "execution_count": null,
   "id": "9bd8ac54",
   "metadata": {},
   "outputs": [],
   "source": []
  },
  {
   "cell_type": "code",
   "execution_count": 56,
   "id": "db11d71a",
   "metadata": {},
   "outputs": [],
   "source": [
    "data1 = open(\"test.txt\",'r')"
   ]
  },
  {
   "cell_type": "code",
   "execution_count": 57,
   "id": "67cbc69f",
   "metadata": {},
   "outputs": [
    {
     "name": "stdout",
     "output_type": "stream",
     "text": [
      "This is my fileThis would be added at the endKnoppix is an astoundingly clever product. It runs Linux completely from a CD, DVD or USB drive. There is no need to install. It bypasses all the software already installed on your PC or laptop and automatically detects the hardware in your computer (subject to suitable hardware). When you've finished using Knoppix, simply restart. Your computer will return to your regular system, and it will behave as if nothing has happened. Knoppix is Free Software and open source under the terms of the GNU General Public License (GPL).This beginner-friendly book is designed to help with these situations:You can't start Windows! Disaster? Possibly not. It is often possible to rescue files using Knoppix from crashed Windows computers, even when Windows cannot be started. This guide takes you step by step through the process.You are curious about Linux, and you want to discover what all the fuss is about.\n"
     ]
    }
   ],
   "source": [
    "for i in data1:\n",
    "    print(i)"
   ]
  },
  {
   "cell_type": "markdown",
   "id": "a5ecca67",
   "metadata": {},
   "source": [
    "#####  To find the size of the file"
   ]
  },
  {
   "cell_type": "code",
   "execution_count": 63,
   "id": "35b6e66e",
   "metadata": {},
   "outputs": [],
   "source": [
    "import os"
   ]
  },
  {
   "cell_type": "code",
   "execution_count": 64,
   "id": "10bbb195",
   "metadata": {},
   "outputs": [
    {
     "data": {
      "text/plain": [
       "947"
      ]
     },
     "execution_count": 64,
     "metadata": {},
     "output_type": "execute_result"
    }
   ],
   "source": [
    "os.path.getsize(\"test.txt\")"
   ]
  },
  {
   "cell_type": "code",
   "execution_count": 66,
   "id": "a9bf1066",
   "metadata": {},
   "outputs": [],
   "source": [
    "data1.close()"
   ]
  },
  {
   "cell_type": "markdown",
   "id": "abd97e00",
   "metadata": {},
   "source": [
    "##### To remove the file"
   ]
  },
  {
   "cell_type": "code",
   "execution_count": 68,
   "id": "fffecfe4",
   "metadata": {},
   "outputs": [
    {
     "ename": "PermissionError",
     "evalue": "[WinError 32] The process cannot access the file because it is being used by another process: 'test.txt'",
     "output_type": "error",
     "traceback": [
      "\u001b[1;31m---------------------------------------------------------------------------\u001b[0m",
      "\u001b[1;31mPermissionError\u001b[0m                           Traceback (most recent call last)",
      "Input \u001b[1;32mIn [68]\u001b[0m, in \u001b[0;36m<cell line: 1>\u001b[1;34m()\u001b[0m\n\u001b[1;32m----> 1\u001b[0m \u001b[43mos\u001b[49m\u001b[38;5;241;43m.\u001b[39;49m\u001b[43mremove\u001b[49m\u001b[43m(\u001b[49m\u001b[38;5;124;43m\"\u001b[39;49m\u001b[38;5;124;43mtest.txt\u001b[39;49m\u001b[38;5;124;43m\"\u001b[39;49m\u001b[43m)\u001b[49m\n",
      "\u001b[1;31mPermissionError\u001b[0m: [WinError 32] The process cannot access the file because it is being used by another process: 'test.txt'"
     ]
    }
   ],
   "source": [
    "os.remove(\"test.txt\")"
   ]
  },
  {
   "cell_type": "code",
   "execution_count": null,
   "id": "ddc29bd6",
   "metadata": {},
   "outputs": [],
   "source": []
  },
  {
   "cell_type": "code",
   "execution_count": 73,
   "id": "8380551f",
   "metadata": {},
   "outputs": [],
   "source": [
    "f  = open(\"test1.txt\",\"w\")"
   ]
  },
  {
   "cell_type": "code",
   "execution_count": 74,
   "id": "c52f3742",
   "metadata": {},
   "outputs": [
    {
     "data": {
      "text/plain": [
       "947"
      ]
     },
     "execution_count": 74,
     "metadata": {},
     "output_type": "execute_result"
    }
   ],
   "source": [
    "f.write(\"This is my fileThis would be added at the endKnoppix is an astoundingly clever product. It runs Linux completely from a CD, DVD or USB drive. There is no need to install. It bypasses all the software already installed on your PC or laptop and automatically detects the hardware in your computer (subject to suitable hardware). When you've finished using Knoppix, simply restart. Your computer will return to your regular system, and it will behave as if nothing has happened. Knoppix is Free Software and open source under the terms of the GNU General Public License (GPL).This beginner-friendly book is designed to help with these situations:You can't start Windows! Disaster? Possibly not. It is often possible to rescue files using Knoppix from crashed Windows computers, even when Windows cannot be started. This guide takes you step by step through the process.You are curious about Linux, and you want to discover what all the fuss is about.\")"
   ]
  },
  {
   "cell_type": "code",
   "execution_count": 75,
   "id": "0c2afc2d",
   "metadata": {},
   "outputs": [],
   "source": [
    "f.close()"
   ]
  },
  {
   "cell_type": "code",
   "execution_count": 76,
   "id": "74b0f6d1",
   "metadata": {},
   "outputs": [],
   "source": [
    "os.rename('test1.txt',\"new.txt\")"
   ]
  },
  {
   "cell_type": "markdown",
   "id": "19164b47",
   "metadata": {},
   "source": [
    "#####  TO copy multiple files in the system"
   ]
  },
  {
   "cell_type": "code",
   "execution_count": 77,
   "id": "0f9e2a6d",
   "metadata": {},
   "outputs": [],
   "source": [
    "import shutil"
   ]
  },
  {
   "cell_type": "code",
   "execution_count": 78,
   "id": "7c6b3641",
   "metadata": {},
   "outputs": [
    {
     "data": {
      "text/plain": [
       "'copy_new.txt'"
      ]
     },
     "execution_count": 78,
     "metadata": {},
     "output_type": "execute_result"
    }
   ],
   "source": [
    "shutil.copy(\"new.txt\",\"copy_new.txt\")"
   ]
  },
  {
   "cell_type": "markdown",
   "id": "4942f1ca",
   "metadata": {},
   "source": [
    "####  Now using with open"
   ]
  },
  {
   "cell_type": "code",
   "execution_count": 80,
   "id": "306e7a5a",
   "metadata": {},
   "outputs": [
    {
     "name": "stdout",
     "output_type": "stream",
     "text": [
      "This is my fileThis would be added at the endKnoppix is an astoundingly clever product. It runs Linux completely from a CD, DVD or USB drive. There is no need to install. It bypasses all the software already installed on your PC or laptop and automatically detects the hardware in your computer (subject to suitable hardware). When you've finished using Knoppix, simply restart. Your computer will return to your regular system, and it will behave as if nothing has happened. Knoppix is Free Software and open source under the terms of the GNU General Public License (GPL).This beginner-friendly book is designed to help with these situations:You can't start Windows! Disaster? Possibly not. It is often possible to rescue files using Knoppix from crashed Windows computers, even when Windows cannot be started. This guide takes you step by step through the process.You are curious about Linux, and you want to discover what all the fuss is about.\n"
     ]
    }
   ],
   "source": [
    "with open(\"new.txt\",'r') as f:\n",
    "    print(f.read())"
   ]
  },
  {
   "cell_type": "code",
   "execution_count": null,
   "id": "f0d2fd2d",
   "metadata": {},
   "outputs": [],
   "source": []
  },
  {
   "cell_type": "code",
   "execution_count": null,
   "id": "341cbd85",
   "metadata": {},
   "outputs": [],
   "source": []
  }
 ],
 "metadata": {
  "kernelspec": {
   "display_name": "Python 3 (ipykernel)",
   "language": "python",
   "name": "python3"
  },
  "language_info": {
   "codemirror_mode": {
    "name": "ipython",
    "version": 3
   },
   "file_extension": ".py",
   "mimetype": "text/x-python",
   "name": "python",
   "nbconvert_exporter": "python",
   "pygments_lexer": "ipython3",
   "version": "3.9.12"
  }
 },
 "nbformat": 4,
 "nbformat_minor": 5
}
