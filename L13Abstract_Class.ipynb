{
 "cells": [
  {
   "cell_type": "code",
   "execution_count": 3,
   "id": "bb36222d",
   "metadata": {},
   "outputs": [],
   "source": [
    "import abc\n",
    "class pwskills:\n",
    "    @abc.abstractmethod\n",
    "    def student_details(self):\n",
    "        pass\n",
    "    @abc.abstractmethod\n",
    "    def student_assignment(self):\n",
    "        pass\n",
    "    @abc.abstractmethod\n",
    "    def student_marks(self):\n",
    "        pass"
   ]
  },
  {
   "cell_type": "code",
   "execution_count": 5,
   "id": "64441ab6",
   "metadata": {},
   "outputs": [],
   "source": [
    "class student_details(pwskills):\n",
    "    \n",
    "    def student_details(self):\n",
    "        return \"this is the method for taking student detials\"\n",
    "        \n",
    "    def student_assignment(self):\n",
    "        return \"This is the method for assignment details\"\n",
    "    "
   ]
  },
  {
   "cell_type": "code",
   "execution_count": 7,
   "id": "7d221d8c",
   "metadata": {},
   "outputs": [],
   "source": [
    "class data_science_masters(pwskills):\n",
    "    \n",
    "    def student_details(self):\n",
    "        return \"This will return the student details\"\n",
    "    \n",
    "    def student_assignment(self):\n",
    "        return \"This will return the student assignment details\"\n"
   ]
  },
  {
   "cell_type": "code",
   "execution_count": 9,
   "id": "3f258bb2",
   "metadata": {},
   "outputs": [
    {
     "data": {
      "text/plain": [
       "'This will return the student assignment details'"
      ]
     },
     "execution_count": 9,
     "metadata": {},
     "output_type": "execute_result"
    }
   ],
   "source": [
    "dsm = data_science_masters()\n",
    "dsm.student_assignment()"
   ]
  },
  {
   "cell_type": "code",
   "execution_count": 12,
   "id": "282563b3",
   "metadata": {},
   "outputs": [
    {
     "data": {
      "text/plain": [
       "'This is the method for assignment details'"
      ]
     },
     "execution_count": 12,
     "metadata": {},
     "output_type": "execute_result"
    }
   ],
   "source": [
    "sd = student_details()\n",
    "sd.student_assignment()"
   ]
  },
  {
   "cell_type": "code",
   "execution_count": 13,
   "id": "d2fb02a7",
   "metadata": {},
   "outputs": [],
   "source": [
    "sd.student_marks()"
   ]
  },
  {
   "cell_type": "code",
   "execution_count": null,
   "id": "9483de55",
   "metadata": {},
   "outputs": [],
   "source": []
  }
 ],
 "metadata": {
  "kernelspec": {
   "display_name": "Python 3 (ipykernel)",
   "language": "python",
   "name": "python3"
  },
  "language_info": {
   "codemirror_mode": {
    "name": "ipython",
    "version": 3
   },
   "file_extension": ".py",
   "mimetype": "text/x-python",
   "name": "python",
   "nbconvert_exporter": "python",
   "pygments_lexer": "ipython3",
   "version": "3.9.12"
  }
 },
 "nbformat": 4,
 "nbformat_minor": 5
}
