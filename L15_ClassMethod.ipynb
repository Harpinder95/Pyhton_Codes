{
 "cells": [
  {
   "cell_type": "code",
   "execution_count": 1,
   "id": "bf9a0be2",
   "metadata": {},
   "outputs": [],
   "source": [
    "class pwskills:\n",
    "    \n",
    "    def __init__(self, name, email):\n",
    "        \n",
    "        self.name = name\n",
    "        self.email = email\n",
    "        \n",
    "    def students_details(self):\n",
    "        print(self.name, self.email)"
   ]
  },
  {
   "cell_type": "code",
   "execution_count": 2,
   "id": "a725cce7",
   "metadata": {},
   "outputs": [],
   "source": [
    "pw = pwskills(\"Harry\",\"abs@gmail.com\")"
   ]
  },
  {
   "cell_type": "code",
   "execution_count": 3,
   "id": "8341e6a6",
   "metadata": {},
   "outputs": [
    {
     "data": {
      "text/plain": [
       "'Harry'"
      ]
     },
     "execution_count": 3,
     "metadata": {},
     "output_type": "execute_result"
    }
   ],
   "source": [
    "pw.name"
   ]
  },
  {
   "cell_type": "code",
   "execution_count": 4,
   "id": "c4cb57df",
   "metadata": {},
   "outputs": [
    {
     "data": {
      "text/plain": [
       "'abs@gmail.com'"
      ]
     },
     "execution_count": 4,
     "metadata": {},
     "output_type": "execute_result"
    }
   ],
   "source": [
    "pw.email"
   ]
  },
  {
   "cell_type": "code",
   "execution_count": 5,
   "id": "df2c93bf",
   "metadata": {},
   "outputs": [
    {
     "name": "stdout",
     "output_type": "stream",
     "text": [
      "Harry abs@gmail.com\n"
     ]
    }
   ],
   "source": [
    "pw.students_details()"
   ]
  },
  {
   "cell_type": "code",
   "execution_count": 6,
   "id": "adf785bf",
   "metadata": {},
   "outputs": [],
   "source": [
    "class pwskills1:\n",
    "    \n",
    "    def __init__(self, name, email):\n",
    "        \n",
    "        self.name = name\n",
    "        self.email = email\n",
    "    @classmethod\n",
    "    def details(cls,name,email):\n",
    "        return cls(name,email)\n",
    "    \n",
    "    \n",
    "    def students_details(self):\n",
    "        print(self.name, self.email)"
   ]
  },
  {
   "cell_type": "code",
   "execution_count": 8,
   "id": "9fcdc7fc",
   "metadata": {},
   "outputs": [],
   "source": [
    "pw1 = pwskills1.details(\"Harry\",\"abc@gmail.com\")"
   ]
  },
  {
   "cell_type": "code",
   "execution_count": 9,
   "id": "4f7182b4",
   "metadata": {},
   "outputs": [
    {
     "data": {
      "text/plain": [
       "'Harry'"
      ]
     },
     "execution_count": 9,
     "metadata": {},
     "output_type": "execute_result"
    }
   ],
   "source": [
    "pw1.name"
   ]
  },
  {
   "cell_type": "code",
   "execution_count": 10,
   "id": "a554a1ad",
   "metadata": {},
   "outputs": [
    {
     "data": {
      "text/plain": [
       "'abc@gmail.com'"
      ]
     },
     "execution_count": 10,
     "metadata": {},
     "output_type": "execute_result"
    }
   ],
   "source": [
    "pw1.email"
   ]
  },
  {
   "cell_type": "code",
   "execution_count": 11,
   "id": "8fc173e8",
   "metadata": {},
   "outputs": [
    {
     "name": "stdout",
     "output_type": "stream",
     "text": [
      "Harry abc@gmail.com\n"
     ]
    }
   ],
   "source": [
    "pw1.students_details()"
   ]
  },
  {
   "cell_type": "code",
   "execution_count": 19,
   "id": "ac11ed6e",
   "metadata": {},
   "outputs": [],
   "source": [
    "class pwskills2:\n",
    "    \n",
    "    mob_num = 9182938293\n",
    "    \n",
    "    def __init__(self, name, email):\n",
    "        \n",
    "        self.name = name\n",
    "        self.email = email\n",
    "    @classmethod\n",
    "    def details(cls,name,email):\n",
    "        return cls(name,email)\n",
    "    @classmethod\n",
    "    def change_num(cls, num):\n",
    "        pwskills2.mob_num = num\n",
    "        \n",
    "        \n",
    "    def students_details(self):\n",
    "        print(self.name, self.email,pwskills2.mob_num)"
   ]
  },
  {
   "cell_type": "code",
   "execution_count": 25,
   "id": "919a26c6",
   "metadata": {},
   "outputs": [],
   "source": [
    "pw = pwskills2(\"Rohan\",\"ro@yahoo\")"
   ]
  },
  {
   "cell_type": "code",
   "execution_count": 26,
   "id": "1973cb67",
   "metadata": {},
   "outputs": [
    {
     "name": "stdout",
     "output_type": "stream",
     "text": [
      "Rohan ro@yahoo 28939393\n"
     ]
    }
   ],
   "source": [
    "pw.students_details()"
   ]
  },
  {
   "cell_type": "code",
   "execution_count": 20,
   "id": "06d6f201",
   "metadata": {},
   "outputs": [],
   "source": [
    "pw_obj = pwskills2(\"Harry\",\"abb@gmail\")"
   ]
  },
  {
   "cell_type": "code",
   "execution_count": 23,
   "id": "acc5eab9",
   "metadata": {},
   "outputs": [
    {
     "name": "stdout",
     "output_type": "stream",
     "text": [
      "Harry abb@gmail 28939393\n"
     ]
    }
   ],
   "source": [
    "pw_obj.students_details()"
   ]
  },
  {
   "cell_type": "code",
   "execution_count": 22,
   "id": "2c73c447",
   "metadata": {},
   "outputs": [],
   "source": [
    "pwskills2.change_num(28939393)"
   ]
  },
  {
   "cell_type": "code",
   "execution_count": 18,
   "id": "1b04c5a8",
   "metadata": {},
   "outputs": [
    {
     "data": {
      "text/plain": [
       "28939393"
      ]
     },
     "execution_count": 18,
     "metadata": {},
     "output_type": "execute_result"
    }
   ],
   "source": [
    "pwskills2.mob_num"
   ]
  },
  {
   "cell_type": "code",
   "execution_count": 27,
   "id": "7a4d738a",
   "metadata": {},
   "outputs": [],
   "source": [
    "class pwskills3:\n",
    "    \n",
    "    mob_num = 9182938293\n",
    "    \n",
    "    def __init__(self, name, email):\n",
    "        \n",
    "        self.name = name\n",
    "        self.email = email\n",
    "    @classmethod\n",
    "    def details(cls,name,email):\n",
    "        return cls(name,email)\n",
    "    @classmethod\n",
    "    def change_num(cls, num):\n",
    "        pwskills2.mob_num = num\n",
    "        \n",
    "        \n",
    "    def students_details(self):\n",
    "        print(self.name, self.email,pwskills2.mob_num)"
   ]
  },
  {
   "cell_type": "code",
   "execution_count": 29,
   "id": "7ba98410",
   "metadata": {},
   "outputs": [],
   "source": [
    "def course_details(csl,course_name):\n",
    "    print(\"Course name is : \", course_name)\n"
   ]
  },
  {
   "cell_type": "code",
   "execution_count": 30,
   "id": "c8a29b8f",
   "metadata": {},
   "outputs": [],
   "source": [
    "pwskills3.course_details = classmethod(course_details)"
   ]
  },
  {
   "cell_type": "code",
   "execution_count": 34,
   "id": "0bb19501",
   "metadata": {},
   "outputs": [
    {
     "name": "stdout",
     "output_type": "stream",
     "text": [
      "Course name is :  Data Science Masters\n"
     ]
    }
   ],
   "source": [
    "pw = pwskills3.course_details(\"Data Science Masters\")"
   ]
  },
  {
   "cell_type": "code",
   "execution_count": 35,
   "id": "56ce8ce3",
   "metadata": {},
   "outputs": [],
   "source": [
    "def mentor(cls, list_of_mentors):\n",
    "    print(list_of_mentors)"
   ]
  },
  {
   "cell_type": "code",
   "execution_count": 36,
   "id": "25d699f7",
   "metadata": {},
   "outputs": [],
   "source": [
    "pwskills3.mentor = classmethod(mentor)"
   ]
  },
  {
   "cell_type": "code",
   "execution_count": 37,
   "id": "49708c04",
   "metadata": {},
   "outputs": [
    {
     "name": "stdout",
     "output_type": "stream",
     "text": [
      "['Harry', 'Raman', 'Kavya']\n"
     ]
    }
   ],
   "source": [
    "pwskills3.mentor(['Harry','Raman','Kavya'])"
   ]
  },
  {
   "cell_type": "code",
   "execution_count": null,
   "id": "6c0cc5db",
   "metadata": {},
   "outputs": [],
   "source": []
  },
  {
   "cell_type": "code",
   "execution_count": 39,
   "id": "cfa5cf05",
   "metadata": {},
   "outputs": [],
   "source": [
    "class pwskills4:\n",
    "    \n",
    "    mob_num = 9182938293\n",
    "    \n",
    "    def __init__(self, name, email):\n",
    "        \n",
    "        self.name = name\n",
    "        self.email = email\n",
    "    @classmethod\n",
    "    def details(cls,name,email):\n",
    "        return cls(name,email)\n",
    "    @classmethod\n",
    "    def change_num(cls, num):\n",
    "        pwskills2.mob_num = num\n",
    "        \n",
    "        \n",
    "    def students_details(self):\n",
    "        print(self.name, self.email,pwskills2.mob_num)"
   ]
  },
  {
   "cell_type": "markdown",
   "id": "6b0fa16f",
   "metadata": {},
   "source": [
    "#####  Delete the function from class"
   ]
  },
  {
   "cell_type": "code",
   "execution_count": 40,
   "id": "90aad539",
   "metadata": {},
   "outputs": [],
   "source": [
    "del pwskills4.change_num"
   ]
  },
  {
   "cell_type": "markdown",
   "id": "7fd84cb5",
   "metadata": {},
   "source": [
    "##### Another attribute to delete method"
   ]
  },
  {
   "cell_type": "code",
   "execution_count": 43,
   "id": "dbe6e585",
   "metadata": {},
   "outputs": [],
   "source": [
    "delattr(pwskills4,\"details\")"
   ]
  },
  {
   "cell_type": "markdown",
   "id": "59108cc8",
   "metadata": {},
   "source": [
    "#####  Try to delete inbuilt method of class"
   ]
  },
  {
   "cell_type": "code",
   "execution_count": 45,
   "id": "886b56a8",
   "metadata": {},
   "outputs": [],
   "source": [
    "delattr(pwskills4,\"students_details\")"
   ]
  },
  {
   "cell_type": "markdown",
   "id": "0d91e722",
   "metadata": {},
   "source": [
    "#####  Delete class variable"
   ]
  },
  {
   "cell_type": "code",
   "execution_count": 48,
   "id": "cc9901a5",
   "metadata": {},
   "outputs": [],
   "source": [
    "delattr(pwskills4,\"mob_num\")"
   ]
  },
  {
   "cell_type": "markdown",
   "id": "584c3000",
   "metadata": {},
   "source": [
    "#####  now check if the methods exists in the class"
   ]
  },
  {
   "cell_type": "code",
   "execution_count": 49,
   "id": "b26fead7",
   "metadata": {},
   "outputs": [
    {
     "ename": "AttributeError",
     "evalue": "type object 'pwskills4' has no attribute 'change_num'",
     "output_type": "error",
     "traceback": [
      "\u001b[1;31m---------------------------------------------------------------------------\u001b[0m",
      "\u001b[1;31mAttributeError\u001b[0m                            Traceback (most recent call last)",
      "Input \u001b[1;32mIn [49]\u001b[0m, in \u001b[0;36m<cell line: 1>\u001b[1;34m()\u001b[0m\n\u001b[1;32m----> 1\u001b[0m \u001b[43mpwskills4\u001b[49m\u001b[38;5;241;43m.\u001b[39;49m\u001b[43mchange_num\u001b[49m(\u001b[38;5;241m34\u001b[39m)\n",
      "\u001b[1;31mAttributeError\u001b[0m: type object 'pwskills4' has no attribute 'change_num'"
     ]
    }
   ],
   "source": [
    "pwskills4.change_num(34)"
   ]
  },
  {
   "cell_type": "code",
   "execution_count": 50,
   "id": "9e8354c7",
   "metadata": {},
   "outputs": [
    {
     "ename": "AttributeError",
     "evalue": "type object 'pwskills4' has no attribute 'students_details'",
     "output_type": "error",
     "traceback": [
      "\u001b[1;31m---------------------------------------------------------------------------\u001b[0m",
      "\u001b[1;31mAttributeError\u001b[0m                            Traceback (most recent call last)",
      "Input \u001b[1;32mIn [50]\u001b[0m, in \u001b[0;36m<cell line: 1>\u001b[1;34m()\u001b[0m\n\u001b[1;32m----> 1\u001b[0m \u001b[43mpwskills4\u001b[49m\u001b[38;5;241;43m.\u001b[39;49m\u001b[43mstudents_details\u001b[49m\n",
      "\u001b[1;31mAttributeError\u001b[0m: type object 'pwskills4' has no attribute 'students_details'"
     ]
    }
   ],
   "source": [
    "pwskills4.students_details"
   ]
  },
  {
   "cell_type": "code",
   "execution_count": null,
   "id": "8ff2fab2",
   "metadata": {},
   "outputs": [],
   "source": []
  }
 ],
 "metadata": {
  "kernelspec": {
   "display_name": "Python 3 (ipykernel)",
   "language": "python",
   "name": "python3"
  },
  "language_info": {
   "codemirror_mode": {
    "name": "ipython",
    "version": 3
   },
   "file_extension": ".py",
   "mimetype": "text/x-python",
   "name": "python",
   "nbconvert_exporter": "python",
   "pygments_lexer": "ipython3",
   "version": "3.9.12"
  }
 },
 "nbformat": 4,
 "nbformat_minor": 5
}
