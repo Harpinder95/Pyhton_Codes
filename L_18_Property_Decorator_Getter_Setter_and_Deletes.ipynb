{
 "cells": [
  {
   "cell_type": "markdown",
   "id": "d1821488",
   "metadata": {},
   "source": [
    "####  if we use the _ single underscore before the variable name it becomes protected , where as _ _ means private"
   ]
  },
  {
   "cell_type": "code",
   "execution_count": 4,
   "id": "513b0fe3",
   "metadata": {},
   "outputs": [],
   "source": [
    "class pwskills:\n",
    "    \n",
    "    def __init__(self, course_price, course_name):\n",
    "        \n",
    "        self.__course_price = course_price\n",
    "        self.course_name = course_name"
   ]
  },
  {
   "cell_type": "code",
   "execution_count": 5,
   "id": "64b111bb",
   "metadata": {},
   "outputs": [],
   "source": [
    "pw =  pwskills(3500,\"Data Science Master\")"
   ]
  },
  {
   "cell_type": "code",
   "execution_count": 6,
   "id": "8e87a630",
   "metadata": {},
   "outputs": [
    {
     "data": {
      "text/plain": [
       "'Data Science Master'"
      ]
     },
     "execution_count": 6,
     "metadata": {},
     "output_type": "execute_result"
    }
   ],
   "source": [
    "pw.course_name"
   ]
  },
  {
   "cell_type": "code",
   "execution_count": 10,
   "id": "87a8285b",
   "metadata": {},
   "outputs": [
    {
     "ename": "AttributeError",
     "evalue": "'pwskills' object has no attribute '__course_price'",
     "output_type": "error",
     "traceback": [
      "\u001b[1;31m---------------------------------------------------------------------------\u001b[0m",
      "\u001b[1;31mAttributeError\u001b[0m                            Traceback (most recent call last)",
      "Input \u001b[1;32mIn [10]\u001b[0m, in \u001b[0;36m<cell line: 1>\u001b[1;34m()\u001b[0m\n\u001b[1;32m----> 1\u001b[0m \u001b[43mpw\u001b[49m\u001b[38;5;241;43m.\u001b[39;49m\u001b[43m__course_price\u001b[49m\n",
      "\u001b[1;31mAttributeError\u001b[0m: 'pwskills' object has no attribute '__course_price'"
     ]
    }
   ],
   "source": [
    "pw.__course_price"
   ]
  },
  {
   "cell_type": "code",
   "execution_count": 11,
   "id": "efb2648a",
   "metadata": {},
   "outputs": [
    {
     "data": {
      "text/plain": [
       "3500"
      ]
     },
     "execution_count": 11,
     "metadata": {},
     "output_type": "execute_result"
    }
   ],
   "source": [
    "pw._pwskills__course_price"
   ]
  },
  {
   "cell_type": "markdown",
   "id": "cbecc16d",
   "metadata": {},
   "source": [
    "####  If we want to give access to user of private variables we use decorator @property"
   ]
  },
  {
   "cell_type": "code",
   "execution_count": 12,
   "id": "72b39d12",
   "metadata": {},
   "outputs": [],
   "source": [
    "class pwskills1:\n",
    "    \n",
    "    def __init__(self, course_price, course_name):\n",
    "        \n",
    "        self.__course_price = course_price\n",
    "        self.course_name = course_name\n",
    "        \n",
    "    @property\n",
    "    def course_price_access(self):\n",
    "        return self.__course_price"
   ]
  },
  {
   "cell_type": "code",
   "execution_count": 14,
   "id": "093a6156",
   "metadata": {},
   "outputs": [],
   "source": [
    "pw1 = pwskills1(2000,\"Data Analyst\")"
   ]
  },
  {
   "cell_type": "code",
   "execution_count": 15,
   "id": "b1870f6b",
   "metadata": {},
   "outputs": [
    {
     "data": {
      "text/plain": [
       "2000"
      ]
     },
     "execution_count": 15,
     "metadata": {},
     "output_type": "execute_result"
    }
   ],
   "source": [
    "pw1.course_price_access"
   ]
  },
  {
   "cell_type": "markdown",
   "id": "2e3d9e18",
   "metadata": {},
   "source": [
    "####  if we want to give access of private variable to the user for modifying we use setter"
   ]
  },
  {
   "cell_type": "code",
   "execution_count": 21,
   "id": "be6233ca",
   "metadata": {},
   "outputs": [],
   "source": [
    "class pwskills2:\n",
    "    \n",
    "    def __init__(self, course_price, course_name):\n",
    "        \n",
    "        self.__course_price = course_price\n",
    "        self.course_name = course_name\n",
    "        \n",
    "    @property\n",
    "    def course_price_access(self):\n",
    "        return self.__course_price\n",
    "    \n",
    "    @course_price_access.setter\n",
    "    def course_price_set(self, price):\n",
    "        if price <=3000:\n",
    "            pass\n",
    "        else: \n",
    "            self.__course_price = price\n",
    "            \n",
    "            \n",
    "    @course_price_access.deleter\n",
    "    def delete_course_price(self):\n",
    "        del self.__course_price"
   ]
  },
  {
   "cell_type": "code",
   "execution_count": 35,
   "id": "e7f79378",
   "metadata": {},
   "outputs": [],
   "source": [
    "pw2 = pwskills2(3000,\"BCA\")"
   ]
  },
  {
   "cell_type": "code",
   "execution_count": 47,
   "id": "b4da0bf2",
   "metadata": {},
   "outputs": [
    {
     "data": {
      "text/plain": [
       "4520"
      ]
     },
     "execution_count": 47,
     "metadata": {},
     "output_type": "execute_result"
    }
   ],
   "source": [
    "pw2.course_price_access"
   ]
  },
  {
   "cell_type": "code",
   "execution_count": 48,
   "id": "04d26628",
   "metadata": {},
   "outputs": [],
   "source": [
    "pw2.course_price_set = 4520\n"
   ]
  },
  {
   "cell_type": "code",
   "execution_count": 49,
   "id": "b316e7fd",
   "metadata": {},
   "outputs": [
    {
     "data": {
      "text/plain": [
       "4520"
      ]
     },
     "execution_count": 49,
     "metadata": {},
     "output_type": "execute_result"
    }
   ],
   "source": [
    "pw2.course_price_access"
   ]
  },
  {
   "cell_type": "code",
   "execution_count": 52,
   "id": "7b97252c",
   "metadata": {},
   "outputs": [
    {
     "ename": "AttributeError",
     "evalue": "'pwskills2' object has no attribute '_pwskills2__course_price'",
     "output_type": "error",
     "traceback": [
      "\u001b[1;31m---------------------------------------------------------------------------\u001b[0m",
      "\u001b[1;31mAttributeError\u001b[0m                            Traceback (most recent call last)",
      "Input \u001b[1;32mIn [52]\u001b[0m, in \u001b[0;36m<cell line: 1>\u001b[1;34m()\u001b[0m\n\u001b[1;32m----> 1\u001b[0m \u001b[43mpw2\u001b[49m\u001b[38;5;241;43m.\u001b[39;49m\u001b[43mdelete_course_price\u001b[49m\n",
      "Input \u001b[1;32mIn [21]\u001b[0m, in \u001b[0;36mpwskills2.course_price_access\u001b[1;34m(self)\u001b[0m\n\u001b[0;32m      8\u001b[0m \u001b[38;5;129m@property\u001b[39m\n\u001b[0;32m      9\u001b[0m \u001b[38;5;28;01mdef\u001b[39;00m \u001b[38;5;21mcourse_price_access\u001b[39m(\u001b[38;5;28mself\u001b[39m):\n\u001b[1;32m---> 10\u001b[0m     \u001b[38;5;28;01mreturn\u001b[39;00m \u001b[38;5;28;43mself\u001b[39;49m\u001b[38;5;241;43m.\u001b[39;49m\u001b[43m__course_price\u001b[49m\n",
      "\u001b[1;31mAttributeError\u001b[0m: 'pwskills2' object has no attribute '_pwskills2__course_price'"
     ]
    }
   ],
   "source": [
    "pw2.delete_course_price"
   ]
  },
  {
   "cell_type": "code",
   "execution_count": 51,
   "id": "41a8100a",
   "metadata": {},
   "outputs": [],
   "source": [
    "del pw2.delete_course_price"
   ]
  },
  {
   "cell_type": "code",
   "execution_count": null,
   "id": "792a910e",
   "metadata": {},
   "outputs": [],
   "source": []
  }
 ],
 "metadata": {
  "kernelspec": {
   "display_name": "Python 3 (ipykernel)",
   "language": "python",
   "name": "python3"
  },
  "language_info": {
   "codemirror_mode": {
    "name": "ipython",
    "version": 3
   },
   "file_extension": ".py",
   "mimetype": "text/x-python",
   "name": "python",
   "nbconvert_exporter": "python",
   "pygments_lexer": "ipython3",
   "version": "3.9.12"
  }
 },
 "nbformat": 4,
 "nbformat_minor": 5
}
