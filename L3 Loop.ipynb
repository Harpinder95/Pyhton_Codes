{
 "cells": [
  {
   "cell_type": "markdown",
   "id": "66294a19",
   "metadata": {},
   "source": [
    "## Loop"
   ]
  },
  {
   "cell_type": "code",
   "execution_count": 1,
   "id": "4b6ec7a2",
   "metadata": {},
   "outputs": [],
   "source": [
    "l = ['hary','anem','bris','askd']\n"
   ]
  },
  {
   "cell_type": "code",
   "execution_count": 3,
   "id": "878ba4cb",
   "metadata": {},
   "outputs": [
    {
     "name": "stdout",
     "output_type": "stream",
     "text": [
      "hary\n",
      "anem\n"
     ]
    }
   ],
   "source": [
    "for i in l:\n",
    "    if i=='bris':\n",
    "        break\n",
    "    print(i)\n",
    "else:\n",
    "    print(\"hae\")"
   ]
  },
  {
   "cell_type": "code",
   "execution_count": 4,
   "id": "ac51fe0f",
   "metadata": {},
   "outputs": [
    {
     "name": "stdout",
     "output_type": "stream",
     "text": [
      "hary\n",
      "anem\n",
      "askd\n",
      "hae\n"
     ]
    }
   ],
   "source": [
    "for i in l:\n",
    "    if i=='bris':\n",
    "        continue\n",
    "    print(i)\n",
    "else:\n",
    "    print(\"hae\")"
   ]
  },
  {
   "cell_type": "code",
   "execution_count": 5,
   "id": "e1dcaa8a",
   "metadata": {},
   "outputs": [
    {
     "data": {
      "text/plain": [
       "range(0, 5)"
      ]
     },
     "execution_count": 5,
     "metadata": {},
     "output_type": "execute_result"
    }
   ],
   "source": [
    "range(5)"
   ]
  },
  {
   "cell_type": "code",
   "execution_count": 28,
   "id": "bbe44450",
   "metadata": {},
   "outputs": [],
   "source": [
    "lst = list(range(0,25,2))"
   ]
  },
  {
   "cell_type": "code",
   "execution_count": 29,
   "id": "b07ce893",
   "metadata": {},
   "outputs": [
    {
     "data": {
      "text/plain": [
       "[0, 2, 4, 6, 8, 10, 12, 14, 16, 18, 20, 22, 24]"
      ]
     },
     "execution_count": 29,
     "metadata": {},
     "output_type": "execute_result"
    }
   ],
   "source": [
    "lst"
   ]
  },
  {
   "cell_type": "code",
   "execution_count": 27,
   "id": "86d61611",
   "metadata": {},
   "outputs": [],
   "source": [
    "for i in range(len(l)-1,-1,-1):\n",
    "    print(l[i])"
   ]
  },
  {
   "cell_type": "code",
   "execution_count": 30,
   "id": "8ee5ef8e",
   "metadata": {},
   "outputs": [
    {
     "data": {
      "text/plain": [
       "13"
      ]
     },
     "execution_count": 30,
     "metadata": {},
     "output_type": "execute_result"
    }
   ],
   "source": [
    "len(lst)"
   ]
  },
  {
   "cell_type": "code",
   "execution_count": 35,
   "id": "d3029e91",
   "metadata": {},
   "outputs": [
    {
     "name": "stdout",
     "output_type": "stream",
     "text": [
      "0\n",
      "4\n",
      "8\n",
      "12\n",
      "16\n",
      "20\n"
     ]
    }
   ],
   "source": [
    "for i in range(0,len(lst)-1,2):\n",
    "    print(lst[i])"
   ]
  },
  {
   "cell_type": "code",
   "execution_count": 41,
   "id": "439b00b5",
   "metadata": {},
   "outputs": [
    {
     "name": "stdout",
     "output_type": "stream",
     "text": [
      "sum is 156\n"
     ]
    }
   ],
   "source": [
    "sum=0\n",
    "for i in lst:\n",
    "    sum+=i\n",
    "print(f\"sum is {sum}\")"
   ]
  },
  {
   "cell_type": "code",
   "execution_count": 42,
   "id": "fd04fe3e",
   "metadata": {},
   "outputs": [],
   "source": [
    "t = (1,2,3,4,5,6)\n"
   ]
  },
  {
   "cell_type": "code",
   "execution_count": 44,
   "id": "3c2b295e",
   "metadata": {},
   "outputs": [
    {
     "name": "stdout",
     "output_type": "stream",
     "text": [
      "1\n",
      "2\n",
      "3\n",
      "4\n",
      "5\n",
      "6\n"
     ]
    }
   ],
   "source": [
    "for i in t:\n",
    "    print(i)"
   ]
  },
  {
   "cell_type": "code",
   "execution_count": 47,
   "id": "c766839d",
   "metadata": {},
   "outputs": [],
   "source": [
    "ss=0\n",
    "for i in t:\n",
    "    ss+=i"
   ]
  },
  {
   "cell_type": "code",
   "execution_count": 48,
   "id": "03c6554b",
   "metadata": {},
   "outputs": [
    {
     "name": "stdout",
     "output_type": "stream",
     "text": [
      "21\n"
     ]
    }
   ],
   "source": [
    "print(ss)"
   ]
  },
  {
   "cell_type": "code",
   "execution_count": 49,
   "id": "404ae63c",
   "metadata": {},
   "outputs": [],
   "source": [
    "s =\"You are awesome\""
   ]
  },
  {
   "cell_type": "code",
   "execution_count": 53,
   "id": "11262e1c",
   "metadata": {},
   "outputs": [
    {
     "name": "stdout",
     "output_type": "stream",
     "text": [
      "e\n",
      "m\n",
      "o\n",
      "s\n",
      "e\n",
      "w\n",
      "a\n",
      " \n",
      "e\n",
      "r\n",
      "a\n",
      " \n",
      "u\n",
      "o\n",
      "Y\n"
     ]
    }
   ],
   "source": [
    "for i in range(len(s)-1,-1,-1):\n",
    "    print(s[i])"
   ]
  },
  {
   "cell_type": "markdown",
   "id": "0dc13592",
   "metadata": {},
   "source": [
    "## Dictionary in loops\n"
   ]
  },
  {
   "cell_type": "code",
   "execution_count": 54,
   "id": "b76c5058",
   "metadata": {},
   "outputs": [],
   "source": [
    "d = {'name':'course of data science','mentor':'Harry','class':'Bca'}"
   ]
  },
  {
   "cell_type": "code",
   "execution_count": 55,
   "id": "dbf0b168",
   "metadata": {},
   "outputs": [
    {
     "name": "stdout",
     "output_type": "stream",
     "text": [
      "name\n",
      "mentor\n",
      "class\n"
     ]
    }
   ],
   "source": [
    "for i in d:\n",
    "    print(i)"
   ]
  },
  {
   "cell_type": "code",
   "execution_count": 62,
   "id": "976964a0",
   "metadata": {},
   "outputs": [
    {
     "name": "stdout",
     "output_type": "stream",
     "text": [
      "course of data science\n",
      "Harry\n",
      "Bca\n"
     ]
    }
   ],
   "source": [
    "for i in d.keys():\n",
    "    print(d[i])"
   ]
  },
  {
   "cell_type": "code",
   "execution_count": 63,
   "id": "8b3cd339",
   "metadata": {},
   "outputs": [
    {
     "name": "stdout",
     "output_type": "stream",
     "text": [
      "course of data science\n",
      "Harry\n",
      "Bca\n"
     ]
    }
   ],
   "source": [
    "for i in d.values():\n",
    "    print(i)"
   ]
  },
  {
   "cell_type": "code",
   "execution_count": 61,
   "id": "fd4a4b40",
   "metadata": {},
   "outputs": [
    {
     "data": {
      "text/plain": [
       "dict_values(['course of data science', 'Harry', 'Bca'])"
      ]
     },
     "execution_count": 61,
     "metadata": {},
     "output_type": "execute_result"
    }
   ],
   "source": [
    "d.values()"
   ]
  },
  {
   "cell_type": "code",
   "execution_count": 64,
   "id": "fdea4783",
   "metadata": {},
   "outputs": [
    {
     "name": "stdout",
     "output_type": "stream",
     "text": [
      "('name', 'course of data science')\n",
      "('mentor', 'Harry')\n",
      "('class', 'Bca')\n"
     ]
    }
   ],
   "source": [
    "for i in d.items():\n",
    "    print(i)"
   ]
  },
  {
   "cell_type": "code",
   "execution_count": 65,
   "id": "2aac8484",
   "metadata": {},
   "outputs": [],
   "source": [
    "st = set(d.keys())"
   ]
  },
  {
   "cell_type": "code",
   "execution_count": 66,
   "id": "e4cfc5be",
   "metadata": {},
   "outputs": [
    {
     "data": {
      "text/plain": [
       "{'class', 'mentor', 'name'}"
      ]
     },
     "execution_count": 66,
     "metadata": {},
     "output_type": "execute_result"
    }
   ],
   "source": [
    "st"
   ]
  },
  {
   "cell_type": "code",
   "execution_count": 67,
   "id": "a8ed74cf",
   "metadata": {},
   "outputs": [],
   "source": [
    "st.add(\"k\")"
   ]
  },
  {
   "cell_type": "code",
   "execution_count": 68,
   "id": "e10e1654",
   "metadata": {},
   "outputs": [
    {
     "data": {
      "text/plain": [
       "{'class', 'k', 'mentor', 'name'}"
      ]
     },
     "execution_count": 68,
     "metadata": {},
     "output_type": "execute_result"
    }
   ],
   "source": [
    "st"
   ]
  },
  {
   "cell_type": "code",
   "execution_count": 69,
   "id": "444abaa4",
   "metadata": {},
   "outputs": [
    {
     "data": {
      "text/plain": [
       "range(0, 5)"
      ]
     },
     "execution_count": 69,
     "metadata": {},
     "output_type": "execute_result"
    }
   ],
   "source": [
    "range(5)"
   ]
  },
  {
   "cell_type": "code",
   "execution_count": 70,
   "id": "4f2c362d",
   "metadata": {},
   "outputs": [
    {
     "data": {
      "text/plain": [
       "range"
      ]
     },
     "execution_count": 70,
     "metadata": {},
     "output_type": "execute_result"
    }
   ],
   "source": [
    "type(range(5))"
   ]
  },
  {
   "cell_type": "code",
   "execution_count": null,
   "id": "3ac91245",
   "metadata": {},
   "outputs": [],
   "source": []
  }
 ],
 "metadata": {
  "kernelspec": {
   "display_name": "Python 3 (ipykernel)",
   "language": "python",
   "name": "python3"
  },
  "language_info": {
   "codemirror_mode": {
    "name": "ipython",
    "version": 3
   },
   "file_extension": ".py",
   "mimetype": "text/x-python",
   "name": "python",
   "nbconvert_exporter": "python",
   "pygments_lexer": "ipython3",
   "version": "3.9.12"
  }
 },
 "nbformat": 4,
 "nbformat_minor": 5
}
