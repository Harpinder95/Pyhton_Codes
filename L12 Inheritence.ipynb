{
 "cells": [
  {
   "cell_type": "code",
   "execution_count": 1,
   "id": "f65f7b97",
   "metadata": {},
   "outputs": [],
   "source": [
    "class test:\n",
    "    \n",
    "    def test_meth(self):\n",
    "        return \"this is my first class\""
   ]
  },
  {
   "cell_type": "code",
   "execution_count": 2,
   "id": "103ad911",
   "metadata": {},
   "outputs": [],
   "source": [
    "class child_test(test):\n",
    "    pass"
   ]
  },
  {
   "cell_type": "code",
   "execution_count": 3,
   "id": "0d2b963a",
   "metadata": {},
   "outputs": [],
   "source": [
    "child = child_test()"
   ]
  },
  {
   "cell_type": "code",
   "execution_count": 4,
   "id": "b703bac6",
   "metadata": {},
   "outputs": [
    {
     "data": {
      "text/plain": [
       "'this is my first class'"
      ]
     },
     "execution_count": 4,
     "metadata": {},
     "output_type": "execute_result"
    }
   ],
   "source": [
    "child.test_meth()"
   ]
  },
  {
   "cell_type": "markdown",
   "id": "b0d5b3b4",
   "metadata": {},
   "source": [
    "#### Multilevel inheritence"
   ]
  },
  {
   "cell_type": "code",
   "execution_count": 7,
   "id": "d71d5c10",
   "metadata": {},
   "outputs": [],
   "source": [
    "class class1:\n",
    "    def test_class1(self):\n",
    "        return \"This is method from class 1\"\n",
    "\n",
    "class class2(class1):\n",
    "    \n",
    "    def test_class2(self):\n",
    "        return \"this is class 2\"\n",
    "\n",
    "class class3(class2):\n",
    "    \n",
    "    def test_class3(self):\n",
    "        return \"this is class 3\""
   ]
  },
  {
   "cell_type": "code",
   "execution_count": 8,
   "id": "423df32e",
   "metadata": {},
   "outputs": [],
   "source": [
    "cl = class3()"
   ]
  },
  {
   "cell_type": "code",
   "execution_count": 9,
   "id": "7e23971a",
   "metadata": {},
   "outputs": [
    {
     "data": {
      "text/plain": [
       "'This is method from class 1'"
      ]
     },
     "execution_count": 9,
     "metadata": {},
     "output_type": "execute_result"
    }
   ],
   "source": [
    "cl.test_class1()"
   ]
  },
  {
   "cell_type": "code",
   "execution_count": 10,
   "id": "3ea26496",
   "metadata": {},
   "outputs": [
    {
     "data": {
      "text/plain": [
       "'this is class 2'"
      ]
     },
     "execution_count": 10,
     "metadata": {},
     "output_type": "execute_result"
    }
   ],
   "source": [
    "cl.test_class2()"
   ]
  },
  {
   "cell_type": "code",
   "execution_count": 11,
   "id": "4f0a9501",
   "metadata": {},
   "outputs": [
    {
     "data": {
      "text/plain": [
       "'this is class 3'"
      ]
     },
     "execution_count": 11,
     "metadata": {},
     "output_type": "execute_result"
    }
   ],
   "source": [
    "cl.test_class3()"
   ]
  },
  {
   "cell_type": "markdown",
   "id": "81cb7817",
   "metadata": {},
   "source": [
    "###  Multiple Inheritence"
   ]
  },
  {
   "cell_type": "code",
   "execution_count": 12,
   "id": "bfaabeeb",
   "metadata": {},
   "outputs": [],
   "source": [
    "class a:\n",
    "    \n",
    "    def test1(self):\n",
    "        return \"This is class A\""
   ]
  },
  {
   "cell_type": "code",
   "execution_count": 13,
   "id": "d2abd47b",
   "metadata": {},
   "outputs": [],
   "source": [
    "class b:\n",
    "    \n",
    "    def test2(self):\n",
    "        return \"THis is class B\""
   ]
  },
  {
   "cell_type": "code",
   "execution_count": 14,
   "id": "6a9af532",
   "metadata": {},
   "outputs": [],
   "source": [
    "class c(a,b):\n",
    "    \n",
    "    pass"
   ]
  },
  {
   "cell_type": "code",
   "execution_count": 15,
   "id": "bca7ea72",
   "metadata": {},
   "outputs": [],
   "source": [
    "c3 = c()"
   ]
  },
  {
   "cell_type": "code",
   "execution_count": 16,
   "id": "7b553014",
   "metadata": {},
   "outputs": [
    {
     "data": {
      "text/plain": [
       "'This is class A'"
      ]
     },
     "execution_count": 16,
     "metadata": {},
     "output_type": "execute_result"
    }
   ],
   "source": [
    "c3.test1()"
   ]
  },
  {
   "cell_type": "code",
   "execution_count": 17,
   "id": "603d5de1",
   "metadata": {},
   "outputs": [
    {
     "data": {
      "text/plain": [
       "'THis is class B'"
      ]
     },
     "execution_count": 17,
     "metadata": {},
     "output_type": "execute_result"
    }
   ],
   "source": [
    "c3.test2()"
   ]
  },
  {
   "cell_type": "code",
   "execution_count": null,
   "id": "39b9cc52",
   "metadata": {},
   "outputs": [],
   "source": []
  }
 ],
 "metadata": {
  "kernelspec": {
   "display_name": "Python 3 (ipykernel)",
   "language": "python",
   "name": "python3"
  },
  "language_info": {
   "codemirror_mode": {
    "name": "ipython",
    "version": 3
   },
   "file_extension": ".py",
   "mimetype": "text/x-python",
   "name": "python",
   "nbconvert_exporter": "python",
   "pygments_lexer": "ipython3",
   "version": "3.9.12"
  }
 },
 "nbformat": 4,
 "nbformat_minor": 5
}
