{
 "cells": [
  {
   "cell_type": "markdown",
   "id": "31b9f6e0",
   "metadata": {},
   "source": [
    "####  Buffer basically read and write file in chunk"
   ]
  },
  {
   "cell_type": "code",
   "execution_count": 1,
   "id": "637d6833",
   "metadata": {},
   "outputs": [],
   "source": [
    "import io"
   ]
  },
  {
   "cell_type": "code",
   "execution_count": 2,
   "id": "472de4c7",
   "metadata": {},
   "outputs": [
    {
     "name": "stdout",
     "output_type": "stream",
     "text": [
      "D:\\Programming\\PW Data Science\\Pyhton\\Text_Files\n"
     ]
    }
   ],
   "source": [
    "cd Text_Files"
   ]
  },
  {
   "cell_type": "markdown",
   "id": "6713570a",
   "metadata": {},
   "source": [
    "#####  Write operation"
   ]
  },
  {
   "cell_type": "code",
   "execution_count": 7,
   "id": "dba07927",
   "metadata": {},
   "outputs": [],
   "source": [
    "with open(\"test1.txt\",'wb') as f:\n",
    "    file = io.BufferedWriter(f)\n",
    "    \n",
    "    file .write(b\"A ballpoint pen dispenses a viscous oil-based ink by means of a small hard sphere, or ball, which rolls over the surface being written on. The ball is held captive in a socket at the tip of the pen with one half exposed and the other half immersed in ink from the pen's reservoir. When the ball rotates, it transfers the ink - which wets the ball - from the reservoir to the external surface. The ball is typically under a millimeter in diameter and made of brass, steel, or tungsten carbide.[\\n\")\n",
    "    file .write(b\"This is my Second line\\n\")\n",
    "    file.flush()"
   ]
  },
  {
   "cell_type": "markdown",
   "id": "fb5ab2e3",
   "metadata": {},
   "source": [
    "#####  Read file"
   ]
  },
  {
   "cell_type": "code",
   "execution_count": 8,
   "id": "cb146303",
   "metadata": {},
   "outputs": [
    {
     "name": "stdout",
     "output_type": "stream",
     "text": [
      "b\"A ballpoint pen dispenses a viscous oil-based ink by means of a small hard sphere, or ball, which rolls over the surface being written on. The ball is held captive in a socket at the tip of the pen with one half exposed and the other half immersed in ink from the pen's reservoir. When the ball rotates, it transfers the ink - which wets the ball - from the reservoir to the external surface. The ball is typically under a millimeter in diameter and made of brass, steel, or tungsten carbide.[\\nThis is my Second line\\n\"\n"
     ]
    }
   ],
   "source": [
    "with open('test1.txt','rb') as f:\n",
    "    \n",
    "    file = io.BufferedReader(f)\n",
    "    \n",
    "    print(file.read())\n",
    "    "
   ]
  },
  {
   "cell_type": "markdown",
   "id": "54a64f99",
   "metadata": {},
   "source": [
    "#####  We can also define the size of buffer reader"
   ]
  },
  {
   "cell_type": "code",
   "execution_count": 10,
   "id": "cab3072c",
   "metadata": {},
   "outputs": [
    {
     "name": "stdout",
     "output_type": "stream",
     "text": [
      "b'A ballpoint pen disp'\n"
     ]
    }
   ],
   "source": [
    "with open('test1.txt','rb') as f:\n",
    "    \n",
    "    file = io.BufferedReader(f)\n",
    "    \n",
    "    print(file.read(20))  #define the number of bytes\n",
    "   "
   ]
  },
  {
   "cell_type": "code",
   "execution_count": null,
   "id": "9a7b3330",
   "metadata": {},
   "outputs": [],
   "source": []
  }
 ],
 "metadata": {
  "kernelspec": {
   "display_name": "Python 3 (ipykernel)",
   "language": "python",
   "name": "python3"
  },
  "language_info": {
   "codemirror_mode": {
    "name": "ipython",
    "version": 3
   },
   "file_extension": ".py",
   "mimetype": "text/x-python",
   "name": "python",
   "nbconvert_exporter": "python",
   "pygments_lexer": "ipython3",
   "version": "3.9.12"
  }
 },
 "nbformat": 4,
 "nbformat_minor": 5
}
