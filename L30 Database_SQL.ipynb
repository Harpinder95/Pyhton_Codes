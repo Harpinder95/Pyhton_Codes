{
 "cells": [
  {
   "cell_type": "markdown",
   "id": "8bd7396a",
   "metadata": {},
   "source": [
    "###  Show and connect with Databases"
   ]
  },
  {
   "cell_type": "code",
   "execution_count": 9,
   "id": "b0532e61",
   "metadata": {},
   "outputs": [
    {
     "name": "stdout",
     "output_type": "stream",
     "text": [
      "<mysql.connector.connection_cext.CMySQLConnection object at 0x000001C6CE80BA60>\n",
      "('employees',)\n",
      "('employeesdept_no',)\n",
      "('hbo_data',)\n",
      "('information_schema',)\n",
      "('mysql',)\n",
      "('performance_schema',)\n",
      "('practice',)\n",
      "('sales',)\n",
      "('student',)\n",
      "('sys',)\n"
     ]
    }
   ],
   "source": [
    "import mysql.connector\n",
    "mydb = mysql.connector.connect(\n",
    "  host=\"localhost\",\n",
    "  user=\"root\",\n",
    "  password=\"root\"\n",
    ")\n",
    "print(mydb)\n",
    "mycursor = mydb.cursor()\n",
    "mycursor.execute('SHOW DATABASES')\n",
    "for x in mycursor:\n",
    "  print(x)"
   ]
  },
  {
   "cell_type": "markdown",
   "id": "08f128c4",
   "metadata": {},
   "source": [
    "###  Use Create Command"
   ]
  },
  {
   "cell_type": "code",
   "execution_count": 12,
   "id": "bf029b2d",
   "metadata": {},
   "outputs": [
    {
     "name": "stdout",
     "output_type": "stream",
     "text": [
      "<mysql.connector.connection_cext.CMySQLConnection object at 0x000001C6CF209CD0>\n"
     ]
    }
   ],
   "source": [
    "import mysql.connector\n",
    "mydb = mysql.connector.connect(\n",
    "  host=\"localhost\",\n",
    "  user=\"root\",\n",
    "  password=\"root\"\n",
    ")\n",
    "print(mydb)\n",
    "mycursor = mydb.cursor()\n",
    "mycursor.execute(\"CREATE DATABASE if NOT EXISTS test_db\")\n",
    "mydb.close()"
   ]
  },
  {
   "cell_type": "markdown",
   "id": "dd6656a5",
   "metadata": {},
   "source": [
    "###  Show Databases"
   ]
  },
  {
   "cell_type": "code",
   "execution_count": 25,
   "id": "2527188d",
   "metadata": {},
   "outputs": [
    {
     "name": "stdout",
     "output_type": "stream",
     "text": [
      "<mysql.connector.connection_cext.CMySQLConnection object at 0x000001C6CF2149A0>\n",
      "('employees',)\n",
      "('employeesdept_no',)\n",
      "('hbo_data',)\n",
      "('information_schema',)\n",
      "('mysql',)\n",
      "('performance_schema',)\n",
      "('practice',)\n",
      "('sales',)\n",
      "('student',)\n",
      "('sys',)\n",
      "('test_db',)\n"
     ]
    }
   ],
   "source": [
    "import mysql.connector\n",
    "mydb = mysql.connector.connect(\n",
    "  host=\"localhost\",\n",
    "  user=\"root\",\n",
    "  password=\"root\"\n",
    ")\n",
    "print(mydb)\n",
    "mycursor = mydb.cursor()\n",
    "mycursor.execute('SHOW DATABASES')\n",
    "for x in mycursor:\n",
    "  print(x)\n",
    "mydb.close()"
   ]
  },
  {
   "cell_type": "markdown",
   "id": "6cccdca6",
   "metadata": {},
   "source": [
    "###  Create Table"
   ]
  },
  {
   "cell_type": "code",
   "execution_count": 24,
   "id": "c97578c4",
   "metadata": {},
   "outputs": [],
   "source": [
    "import mysql.connector\n",
    "mydb = mysql.connector.connect(\n",
    "  host=\"localhost\",\n",
    "  user=\"root\",\n",
    "  password=\"root\"\n",
    ")\n",
    "mycursor = mydb.cursor()\n",
    "mycursor.execute('Create table if not exists test_db.table_1(c1 INT , c2 VARCHAR(50),c3 FLOAT, c4 INT, c5 VARCHAR(30))')\n",
    "mydb.close()"
   ]
  },
  {
   "cell_type": "markdown",
   "id": "6d9d0b6d",
   "metadata": {},
   "source": [
    "### Insert Values in Table Created"
   ]
  },
  {
   "cell_type": "code",
   "execution_count": 33,
   "id": "47fbc6b4",
   "metadata": {},
   "outputs": [],
   "source": [
    "import mysql.connector\n",
    "mydb=mysql.connector.connect(\n",
    "host='localhost',\n",
    "user='root',\n",
    "password='root'\n",
    ")\n",
    "mycursor = mydb.cursor()\n",
    "mycursor.execute(\"insert into test_db.table_1 values(123,'harry',213.23,233,'leon')\")\n",
    "mydb.commit()\n",
    "mydb.close()"
   ]
  },
  {
   "cell_type": "markdown",
   "id": "aab9a1f2",
   "metadata": {},
   "source": [
    "### Show data from table"
   ]
  },
  {
   "cell_type": "code",
   "execution_count": 37,
   "id": "9ff62129",
   "metadata": {},
   "outputs": [
    {
     "name": "stdout",
     "output_type": "stream",
     "text": [
      "(123, 'harry', 213.23, 233, 'leon')\n"
     ]
    }
   ],
   "source": [
    "import mysql.connector\n",
    "mydb=mysql.connector.connect(\n",
    "host='localhost',\n",
    "user='root',\n",
    "password='root'\n",
    ")\n",
    "mycursor = mydb.cursor()\n",
    "mycursor.execute('select * from test_db.table_1')\n",
    "for i in mycursor:\n",
    "    print(i)\n",
    "mydb.close()"
   ]
  },
  {
   "cell_type": "code",
   "execution_count": 39,
   "id": "81b9cbcd",
   "metadata": {},
   "outputs": [
    {
     "name": "stdout",
     "output_type": "stream",
     "text": [
      "(123, 'harry', 213.23, 233, 'leon')\n",
      "(1233, 'harry', 243.23, 2, 'leon')\n",
      "(1222, 'rohan', 253.23, 33, 'FGS')\n",
      "(1276, 'jessica', 113.233, 233, 'Lordas')\n",
      "(1237, 'Tom', 213.43, 2332, 'jkdsk')\n",
      "(1232, 'Harvy', 412.23, 213, 'sds')\n",
      "(1252, 'John', 2233.23, 22, 'SDM')\n"
     ]
    }
   ],
   "source": [
    "import mysql.connector\n",
    "mydb=mysql.connector.connect(\n",
    "host='localhost',\n",
    "user='root',\n",
    "password='root'\n",
    ")\n",
    "mycursor = mydb.cursor()\n",
    "mycursor.execute('select * from test_db.table_1')\n",
    "for i in mycursor.fetchall():\n",
    "    print(i)\n",
    "mydb.close()"
   ]
  },
  {
   "cell_type": "markdown",
   "id": "5e1a7591",
   "metadata": {},
   "source": [
    "###  Multiple Insert"
   ]
  },
  {
   "cell_type": "code",
   "execution_count": 38,
   "id": "2ba0ef37",
   "metadata": {},
   "outputs": [],
   "source": [
    "import mysql.connector\n",
    "mydb=mysql.connector.connect(\n",
    "host='localhost',\n",
    "user='root',\n",
    "password='root'\n",
    ")\n",
    "mycursor = mydb.cursor()\n",
    "mycursor.execute(\"insert into test_db.table_1 values(1233,'harry',243.23,2,'leon')\")\n",
    "mycursor.execute(\"insert into test_db.table_1 values(1222,'rohan',253.23,33,'FGS')\")\n",
    "mycursor.execute(\"insert into test_db.table_1 values(1276,'jessica',113.233,233,'Lordas')\")\n",
    "mycursor.execute(\"insert into test_db.table_1 values(1237,'Tom',213.43,2332,'jkdsk')\")\n",
    "mycursor.execute(\"insert into test_db.table_1 values(1232,'Harvy',412.23,213,'sds')\")\n",
    "mycursor.execute(\"insert into test_db.table_1 values(1252,'John',2233.23,22,'SDM')\")\n",
    "mydb.commit()\n",
    "mydb.close()"
   ]
  },
  {
   "cell_type": "code",
   "execution_count": 40,
   "id": "d6a42f4a",
   "metadata": {},
   "outputs": [
    {
     "name": "stdout",
     "output_type": "stream",
     "text": [
      "(123, 'harry', 213.23, 233, 'leon')\n",
      "(1233, 'harry', 243.23, 2, 'leon')\n",
      "(1222, 'rohan', 253.23, 33, 'FGS')\n",
      "(1276, 'jessica', 113.233, 233, 'Lordas')\n",
      "(1237, 'Tom', 213.43, 2332, 'jkdsk')\n",
      "(1232, 'Harvy', 412.23, 213, 'sds')\n",
      "(1252, 'John', 2233.23, 22, 'SDM')\n"
     ]
    }
   ],
   "source": [
    "import mysql.connector\n",
    "mydb=mysql.connector.connect(\n",
    "host='localhost',\n",
    "user='root',\n",
    "password='root'\n",
    ")\n",
    "mycursor = mydb.cursor()\n",
    "mycursor.execute('select * from test_db.table_1')\n",
    "for i in mycursor.fetchall():\n",
    "    print(i)\n",
    "mydb.close()"
   ]
  },
  {
   "cell_type": "markdown",
   "id": "d25a3b12",
   "metadata": {},
   "source": [
    "### Selecting Particulars columns"
   ]
  },
  {
   "cell_type": "code",
   "execution_count": 41,
   "id": "7db2b1eb",
   "metadata": {},
   "outputs": [
    {
     "name": "stdout",
     "output_type": "stream",
     "text": [
      "(123, 233, 213.23)\n",
      "(1233, 2, 243.23)\n",
      "(1222, 33, 253.23)\n",
      "(1276, 233, 113.233)\n",
      "(1237, 2332, 213.43)\n",
      "(1232, 213, 412.23)\n",
      "(1252, 22, 2233.23)\n"
     ]
    }
   ],
   "source": [
    "import mysql.connector\n",
    "mydb=mysql.connector.connect(\n",
    "host='localhost',\n",
    "user='root',\n",
    "password='root'\n",
    ")\n",
    "mycursor = mydb.cursor()\n",
    "mycursor.execute('select c1,c4,c3 from test_db.table_1')\n",
    "for i in mycursor.fetchall():\n",
    "    print(i)\n",
    "mydb.close()"
   ]
  },
  {
   "cell_type": "code",
   "execution_count": null,
   "id": "6d8db515",
   "metadata": {},
   "outputs": [],
   "source": []
  },
  {
   "cell_type": "code",
   "execution_count": null,
   "id": "679de073",
   "metadata": {},
   "outputs": [],
   "source": []
  }
 ],
 "metadata": {
  "kernelspec": {
   "display_name": "Python 3 (ipykernel)",
   "language": "python",
   "name": "python3"
  },
  "language_info": {
   "codemirror_mode": {
    "name": "ipython",
    "version": 3
   },
   "file_extension": ".py",
   "mimetype": "text/x-python",
   "name": "python",
   "nbconvert_exporter": "python",
   "pygments_lexer": "ipython3",
   "version": "3.9.12"
  }
 },
 "nbformat": 4,
 "nbformat_minor": 5
}
